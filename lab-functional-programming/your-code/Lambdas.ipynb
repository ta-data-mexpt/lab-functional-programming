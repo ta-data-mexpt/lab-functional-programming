{
 "cells": [
  {
   "cell_type": "code",
   "execution_count": 1,
   "id": "a4399d4f-8652-4e3b-86cb-ddecfac0837f",
   "metadata": {},
   "outputs": [],
   "source": [
    "##Funciones mas simples de cierta manera \n",
    "    #funciones anonimas:"
   ]
  },
  {
   "cell_type": "code",
   "execution_count": 2,
   "id": "1d9e66a1-9cb5-4efa-9900-8ade9187cabe",
   "metadata": {},
   "outputs": [],
   "source": [
    "#funcion regular se usa def \n",
    "def mi_funcion():\n",
    "    pass"
   ]
  },
  {
   "cell_type": "raw",
   "id": "784b24d8-56a3-4295-8059-b1b549c4b758",
   "metadata": {},
   "source": [
    "def nombre(argumentos):\n",
    "    cuerpo\n",
    "    return "
   ]
  },
  {
   "cell_type": "raw",
   "id": "8562225b-12a0-4ecd-8b25-948f029c90a3",
   "metadata": {},
   "source": [
    "Estructura de funciones Lambda\n",
    "lambda argumentos: return"
   ]
  },
  {
   "cell_type": "code",
   "execution_count": 7,
   "id": "2ae3886d-c452-45a3-98ae-d67eda424d54",
   "metadata": {},
   "outputs": [],
   "source": [
    "#para reutilizar, o guardar la funcion se guarda en una variable\n",
    "#return no se escribe en la funcion \n",
    "numero_cuadrado = lambda numero: numero**2"
   ]
  },
  {
   "cell_type": "code",
   "execution_count": 9,
   "id": "d677ba9d-7380-4901-86db-275541cfd0de",
   "metadata": {},
   "outputs": [
    {
     "data": {
      "text/plain": [
       "4"
      ]
     },
     "execution_count": 9,
     "metadata": {},
     "output_type": "execute_result"
    }
   ],
   "source": [
    "numero_cuadrado(2)"
   ]
  },
  {
   "cell_type": "code",
   "execution_count": 12,
   "id": "ea4f4f89-7367-4e2c-9c1c-0d4197e11e58",
   "metadata": {},
   "outputs": [],
   "source": [
    "suma = lambda x,y: x+y"
   ]
  },
  {
   "cell_type": "code",
   "execution_count": 14,
   "id": "6cfd9dc5-c8d0-4fa2-86c9-6ff84979f940",
   "metadata": {},
   "outputs": [
    {
     "data": {
      "text/plain": [
       "6"
      ]
     },
     "execution_count": 14,
     "metadata": {},
     "output_type": "execute_result"
    }
   ],
   "source": [
    "suma(2,4)"
   ]
  },
  {
   "cell_type": "code",
   "execution_count": 16,
   "id": "24e60a7b-7c36-40c3-b435-02be764f4ba7",
   "metadata": {},
   "outputs": [],
   "source": [
    "sum2=lambda x,y=0:x+y"
   ]
  },
  {
   "cell_type": "code",
   "execution_count": 17,
   "id": "ce24ba00-12be-4505-bdb7-5af86ef01a10",
   "metadata": {},
   "outputs": [
    {
     "data": {
      "text/plain": [
       "6"
      ]
     },
     "execution_count": 17,
     "metadata": {},
     "output_type": "execute_result"
    }
   ],
   "source": [
    "sum2(2,4)"
   ]
  },
  {
   "cell_type": "code",
   "execution_count": 22,
   "id": "52369806-8964-4651-a366-2436bdf8dcc8",
   "metadata": {},
   "outputs": [],
   "source": [
    "par_nopar=lambda numero:\"Par\" if numero%2 == 0 else \"impar\" "
   ]
  },
  {
   "cell_type": "code",
   "execution_count": 27,
   "id": "2ff29195-92b1-40dd-938d-4815605b7484",
   "metadata": {},
   "outputs": [],
   "source": [
    "valor = par_nopar(24)"
   ]
  },
  {
   "cell_type": "code",
   "execution_count": 28,
   "id": "4a18ab26-0f08-49a9-94c6-79c7ca1aa05e",
   "metadata": {},
   "outputs": [
    {
     "name": "stdout",
     "output_type": "stream",
     "text": [
      "Par\n"
     ]
    }
   ],
   "source": [
    "print(valor)"
   ]
  },
  {
   "cell_type": "code",
   "execution_count": 33,
   "id": "6cb9f414-c8ba-49f0-ae79-04022a6fa7e9",
   "metadata": {},
   "outputs": [],
   "source": [
    "#No se mete print a las funciones lambda \n",
    "par_nopar=lambda numero:print(\"Par\") if numero%2 == 0 else print(\"impar\") "
   ]
  },
  {
   "cell_type": "code",
   "execution_count": 34,
   "id": "797ff41d-a1eb-4a26-a5e7-be5b923d5c89",
   "metadata": {},
   "outputs": [
    {
     "name": "stdout",
     "output_type": "stream",
     "text": [
      "impar\n"
     ]
    }
   ],
   "source": [
    "valor = par_nopar(25)"
   ]
  },
  {
   "cell_type": "code",
   "execution_count": 35,
   "id": "4e556f6d-e44f-4bf4-a632-b18e5273b92b",
   "metadata": {},
   "outputs": [
    {
     "name": "stdout",
     "output_type": "stream",
     "text": [
      "None\n"
     ]
    }
   ],
   "source": [
    "#\n",
    "print(valor)"
   ]
  },
  {
   "cell_type": "code",
   "execution_count": 40,
   "id": "45ee33b3-08b8-4663-b614-42e8656d37f8",
   "metadata": {},
   "outputs": [],
   "source": [
    "def primer_letra(palabra):\n",
    "    return palabra[0]"
   ]
  },
  {
   "cell_type": "code",
   "execution_count": 41,
   "id": "ba193d0d-3288-4546-bfc5-21a023411127",
   "metadata": {},
   "outputs": [
    {
     "data": {
      "text/plain": [
       "'v'"
      ]
     },
     "execution_count": 41,
     "metadata": {},
     "output_type": "execute_result"
    }
   ],
   "source": [
    "primer_letra(\"vaca\")"
   ]
  },
  {
   "cell_type": "code",
   "execution_count": 51,
   "id": "d1eaacd3-9ab0-40d1-be4a-a06c3c197a34",
   "metadata": {},
   "outputs": [],
   "source": [
    "par_nopar=lambda numero:primer_letra(\"Par\") if numero%2 == 0 else \"Negativo\""
   ]
  },
  {
   "cell_type": "code",
   "execution_count": 43,
   "id": "992defe4-0378-4001-9011-5d270ffd0f13",
   "metadata": {},
   "outputs": [
    {
     "data": {
      "text/plain": [
       "'P'"
      ]
     },
     "execution_count": 43,
     "metadata": {},
     "output_type": "execute_result"
    }
   ],
   "source": [
    "par_nopar(4)"
   ]
  },
  {
   "cell_type": "code",
   "execution_count": 52,
   "id": "1a063127-5cc4-46e4-b5c4-cdbf94707d8b",
   "metadata": {},
   "outputs": [],
   "source": [
    "negativo_par_nopar = lambda numero: \"Negativo\" if numero < 0 else \"Par\" if numero%2 == 0 else \"Impar\""
   ]
  },
  {
   "cell_type": "code",
   "execution_count": 54,
   "id": "45ffac1f-a517-450c-9e61-0e30d45276e5",
   "metadata": {},
   "outputs": [
    {
     "data": {
      "text/plain": [
       "'Par'"
      ]
     },
     "execution_count": 54,
     "metadata": {},
     "output_type": "execute_result"
    }
   ],
   "source": [
    "negativo_par_nopar(4)"
   ]
  },
  {
   "cell_type": "code",
   "execution_count": 55,
   "id": "2ae657e7-f9cc-4a8d-b71b-ce2aab95682b",
   "metadata": {},
   "outputs": [
    {
     "ename": "SyntaxError",
     "evalue": "invalid syntax (Temp/ipykernel_16324/2562418110.py, line 1)",
     "output_type": "error",
     "traceback": [
      "\u001b[1;36m  File \u001b[1;32m\"C:\\Users\\solan\\AppData\\Local\\Temp/ipykernel_16324/2562418110.py\"\u001b[1;36m, line \u001b[1;32m1\u001b[0m\n\u001b[1;33m    datos.aplicar_funcion_columna(lambda qerioafis)\u001b[0m\n\u001b[1;37m                                                  ^\u001b[0m\n\u001b[1;31mSyntaxError\u001b[0m\u001b[1;31m:\u001b[0m invalid syntax\n"
     ]
    }
   ],
   "source": [
    "#datos.aplicar_funcion_columna(lambda qerioafis)"
   ]
  },
  {
   "cell_type": "code",
   "execution_count": 56,
   "id": "c563f209-3007-41f9-9a67-83542c9885dd",
   "metadata": {},
   "outputs": [],
   "source": [
    "#como pasar una lambda a una funcion\n",
    "negativo_par_nopar = lambda numero: \"Negativo\" if numero < 0 else \"Par\" if numero%2 == 0 else \"Impar\""
   ]
  },
  {
   "cell_type": "code",
   "execution_count": 57,
   "id": "d642e91d-fd6b-4592-b7fd-dd597bd60a51",
   "metadata": {},
   "outputs": [],
   "source": [
    "def nefativo_par_nopar(numero):\n",
    "   # if numero < 0:\n",
    "       # return \"Negativo\"\n",
    "    #elif numero%2==0:\n",
    "       # return \"Par\"\n",
    "    return \"Negativo\" if numero < 0 else \"Par\" if numero%2 == 0 else \"Impar\""
   ]
  },
  {
   "cell_type": "raw",
   "id": "fc157034-3603-4d60-9fcb-496089c40b94",
   "metadata": {},
   "source": [
    "Funciones Recursivas, no se veran de momento"
   ]
  },
  {
   "cell_type": "code",
   "execution_count": 59,
   "id": "c7130844-90c0-49c3-9bd0-16fa7e1ee244",
   "metadata": {},
   "outputs": [],
   "source": [
    "#lambdas se pueden usar dentro de funciones o al reves\n",
    "def aplique_lambda(valor, mi_lambda):\n",
    "    return mi_lambda(valor)"
   ]
  },
  {
   "cell_type": "code",
   "execution_count": 60,
   "id": "ab75f12c-8438-4594-a503-adc1dcd2f1b8",
   "metadata": {},
   "outputs": [
    {
     "data": {
      "text/plain": [
       "'Par'"
      ]
     },
     "execution_count": 60,
     "metadata": {},
     "output_type": "execute_result"
    }
   ],
   "source": [
    "aplique_lambda(0, negativo_par_nopar )"
   ]
  },
  {
   "cell_type": "code",
   "execution_count": 61,
   "id": "4c4a03e7-1c16-4acd-bde4-c1e0b9e56a39",
   "metadata": {},
   "outputs": [
    {
     "data": {
      "text/plain": [
       "0"
      ]
     },
     "execution_count": 61,
     "metadata": {},
     "output_type": "execute_result"
    }
   ],
   "source": [
    "aplique_lambda(0,numero_cuadrado)"
   ]
  },
  {
   "cell_type": "code",
   "execution_count": 63,
   "id": "6c7fe1c7-e461-4265-b4cb-0cde3d445319",
   "metadata": {},
   "outputs": [
    {
     "data": {
      "text/plain": [
       "3"
      ]
     },
     "execution_count": 63,
     "metadata": {},
     "output_type": "execute_result"
    }
   ],
   "source": [
    "#no siempre es necesario guardar las lambdas se pueden semiguardar entre parentesis\n",
    "aplique_lambda(0, lambda numero: numero+3)"
   ]
  },
  {
   "cell_type": "code",
   "execution_count": 64,
   "id": "412a692f-ef66-4484-b72f-904a3ab99811",
   "metadata": {},
   "outputs": [],
   "source": [
    "#se pueden crear funciones que regresen lambdas\n",
    "def potencia(pot):\n",
    "    return lambda numero: numero**pot"
   ]
  },
  {
   "cell_type": "code",
   "execution_count": 66,
   "id": "84c627f8-20a0-4bc7-8425-6530f1723e78",
   "metadata": {},
   "outputs": [],
   "source": [
    "#potencia(3) = lambda numero: numero**3\n",
    "funcion_cubo = potencia(3)"
   ]
  },
  {
   "cell_type": "code",
   "execution_count": 67,
   "id": "c847c08f-6d2f-4580-8227-71c60724eea7",
   "metadata": {},
   "outputs": [],
   "source": [
    "funcion_cuadrados= potencia(2)"
   ]
  },
  {
   "cell_type": "code",
   "execution_count": 68,
   "id": "adeadd8f-3a3e-413d-a6a4-09357fe25b3e",
   "metadata": {},
   "outputs": [
    {
     "data": {
      "text/plain": [
       "9"
      ]
     },
     "execution_count": 68,
     "metadata": {},
     "output_type": "execute_result"
    }
   ],
   "source": [
    "funcion_cuadrados(3)"
   ]
  },
  {
   "cell_type": "code",
   "execution_count": 70,
   "id": "86d31110-2ccd-48e7-bf5f-f33921b7e412",
   "metadata": {},
   "outputs": [
    {
     "data": {
      "text/plain": [
       "27"
      ]
     },
     "execution_count": 70,
     "metadata": {},
     "output_type": "execute_result"
    }
   ],
   "source": [
    "funcion_cubo(3)"
   ]
  },
  {
   "cell_type": "code",
   "execution_count": 71,
   "id": "35900ab3-530b-4836-9ab6-1f1ae721838b",
   "metadata": {},
   "outputs": [],
   "source": [
    "#como generar una funcion que devuelva funciones "
   ]
  },
  {
   "cell_type": "code",
   "execution_count": 72,
   "id": "215ed19d-5db3-40b9-870d-58e617752a60",
   "metadata": {},
   "outputs": [],
   "source": [
    "funcion_varias=lambda numero, pot: numero**pot"
   ]
  },
  {
   "cell_type": "code",
   "execution_count": 74,
   "id": "342aca6f-f130-4f39-8afc-51bfb6c2c806",
   "metadata": {},
   "outputs": [],
   "source": [
    "def potencia (pot):\n",
    "    return lambda num: funcion_varias(num,pot)\n",
    "#return lambda num: num**pot"
   ]
  },
  {
   "cell_type": "code",
   "execution_count": 76,
   "id": "7b935c4b-a516-4d28-a64d-835e34b69b17",
   "metadata": {},
   "outputs": [
    {
     "data": {
      "text/plain": [
       "<function __main__.potencia.<locals>.<lambda>(num)>"
      ]
     },
     "execution_count": 76,
     "metadata": {},
     "output_type": "execute_result"
    }
   ],
   "source": [
    "potencia(4)"
   ]
  },
  {
   "cell_type": "code",
   "execution_count": 78,
   "id": "840e2e7f-f276-4977-95f6-0b87ff32322f",
   "metadata": {},
   "outputs": [
    {
     "data": {
      "text/plain": [
       "[2, 3, 4, 5, 6, 7, 8, 9, 10, 11]"
      ]
     },
     "execution_count": 78,
     "metadata": {},
     "output_type": "execute_result"
    }
   ],
   "source": [
    "[(lambda num:num+2)(x) for x in range(10)]"
   ]
  },
  {
   "cell_type": "code",
   "execution_count": 79,
   "id": "c48bf46f-1e3f-407b-9d66-d0a9ac03dddd",
   "metadata": {},
   "outputs": [
    {
     "data": {
      "text/plain": [
       "[0, -4, 3, 8, -23, 42, -43]"
      ]
     },
     "execution_count": 79,
     "metadata": {},
     "output_type": "execute_result"
    }
   ],
   "source": [
    "numeros=[0,-4,3,8,-23,42,-43]\n",
    "numeros"
   ]
  },
  {
   "cell_type": "code",
   "execution_count": 82,
   "id": "25e6fd1d-afe8-49ad-a853-ee8529e4e711",
   "metadata": {},
   "outputs": [
    {
     "data": {
      "text/plain": [
       "[-43, -23, -4, 0, 3, 8, 42]"
      ]
     },
     "execution_count": 82,
     "metadata": {},
     "output_type": "execute_result"
    }
   ],
   "source": [
    "#numeros.sort() (modifica la lista), sorted(numeros) (no modifica la lista) ordenan de menor a mayor o sorted(numeros, reverse=True)\n",
    "sorted(numeros)"
   ]
  },
  {
   "cell_type": "code",
   "execution_count": 83,
   "id": "7434fe2a-cab5-426d-be01-581872bd6a99",
   "metadata": {},
   "outputs": [
    {
     "data": {
      "text/plain": [
       "[42, 8, 3, 0, -4, -23, -43]"
      ]
     },
     "execution_count": 83,
     "metadata": {},
     "output_type": "execute_result"
    }
   ],
   "source": [
    "sorted(numeros,reverse=True)"
   ]
  },
  {
   "cell_type": "code",
   "execution_count": 85,
   "id": "1c783936-a48f-4c8f-8c53-a2caf410c346",
   "metadata": {},
   "outputs": [
    {
     "data": {
      "text/plain": [
       "[0, 3, -4, 8, -23, 42, -43]"
      ]
     },
     "execution_count": 85,
     "metadata": {},
     "output_type": "execute_result"
    }
   ],
   "source": [
    "sorted(numeros,key=lambda x:x**2)"
   ]
  },
  {
   "cell_type": "code",
   "execution_count": 86,
   "id": "b5ade54f-5c57-418f-b3ce-7a72f2ae584e",
   "metadata": {},
   "outputs": [],
   "source": [
    "lista_cuadrados = [(lambda x:x**2)(valor) for valor in numeros]"
   ]
  },
  {
   "cell_type": "code",
   "execution_count": 87,
   "id": "323e51b6-19cc-4f23-bbef-3ca29e656cf9",
   "metadata": {},
   "outputs": [
    {
     "data": {
      "text/plain": [
       "[0, 9, 16, 64, 529, 1764, 1849]"
      ]
     },
     "execution_count": 87,
     "metadata": {},
     "output_type": "execute_result"
    }
   ],
   "source": [
    "sorted(lista_cuadrados)"
   ]
  },
  {
   "cell_type": "code",
   "execution_count": 88,
   "id": "5f63b329-2c3f-4f67-b5da-e8635217e629",
   "metadata": {},
   "outputs": [],
   "source": [
    "import math"
   ]
  },
  {
   "cell_type": "code",
   "execution_count": 89,
   "id": "5acfcea6-c65f-4ad1-a0c0-c832598af3bb",
   "metadata": {},
   "outputs": [],
   "source": [
    "def valor_absoluto(valor):\n",
    "    return math.fabs(valor) "
   ]
  },
  {
   "cell_type": "code",
   "execution_count": 90,
   "id": "1456dbfe-4e3e-4371-ae9a-f3a9efd333d4",
   "metadata": {},
   "outputs": [
    {
     "data": {
      "text/plain": [
       "[0, 3, -4, 8, -23, 42, -43]"
      ]
     },
     "execution_count": 90,
     "metadata": {},
     "output_type": "execute_result"
    }
   ],
   "source": [
    "sorted(numeros,key=valor_absoluto)"
   ]
  },
  {
   "cell_type": "code",
   "execution_count": 91,
   "id": "12c1a76a-7e47-48cd-80e2-4abdfe82c7a5",
   "metadata": {},
   "outputs": [
    {
     "data": {
      "text/plain": [
       "[0, 3, -4, 8, -23, 42, -43]"
      ]
     },
     "execution_count": 91,
     "metadata": {},
     "output_type": "execute_result"
    }
   ],
   "source": [
    "sorted(numeros, key=abs)"
   ]
  },
  {
   "cell_type": "code",
   "execution_count": null,
   "id": "50597e1e-68d7-4803-9b25-aa2037c76074",
   "metadata": {},
   "outputs": [],
   "source": []
  }
 ],
 "metadata": {
  "kernelspec": {
   "display_name": "Python 3 (ipykernel)",
   "language": "python",
   "name": "python3"
  },
  "language_info": {
   "codemirror_mode": {
    "name": "ipython",
    "version": 3
   },
   "file_extension": ".py",
   "mimetype": "text/x-python",
   "name": "python",
   "nbconvert_exporter": "python",
   "pygments_lexer": "ipython3",
   "version": "3.9.6"
  }
 },
 "nbformat": 4,
 "nbformat_minor": 5
}
