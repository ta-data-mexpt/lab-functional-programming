{
 "cells": [
  {
   "cell_type": "markdown",
   "metadata": {},
   "source": [
    "In the cell below, create a Python function that wraps your previous solution for the Bag of Words lab.\n",
    "\n",
    "Requirements:\n",
    "\n",
    "1. Your function should accept the following parameters:\n",
    "    * `docs` [REQUIRED] - array of document paths.\n",
    "    * `stop_words` [OPTIONAL] - array of stop words. The default value is an empty array.\n",
    "\n",
    "1. Your function should return a Python object that contains the following:\n",
    "    * `bag_of_words` - array of strings of normalized unique words in the corpus.\n",
    "    * `term_freq` - array of the term-frequency vectors."
   ]
  },
  {
   "cell_type": "code",
   "execution_count": 1,
   "metadata": {},
   "outputs": [],
   "source": [
    "# Import required libraries\n",
    "import re\n",
    "\n",
    "# Define function\n",
    "def get_bow_from_docs(docs, stop_words=[]):\n",
    "    \n",
    "    # In the function, first define the variables you will use such as `corpus`, `bag_of_words`, and `term_freq`.\n",
    "    \n",
    "    \n",
    "    \n",
    "    \"\"\"\n",
    "    Loop `docs` and read the content of each doc into a string in `corpus`.\n",
    "    Remember to convert the doc content to lowercases and remove punctuation.\n",
    "    \"\"\"\n",
    "    corpus = []\n",
    "    for doc in docs:\n",
    "        with open(doc) as f:\n",
    "            corpus.append(f.read())\n",
    "    corpus=[re.sub(r'[^\\w\\s]|\\n','',i).lower() for i in corpus]    \n",
    "\n",
    "    \"\"\"\n",
    "    Loop `corpus`. Append the terms in each doc into the `bag_of_words` array. The terms in `bag_of_words` \n",
    "    should be unique which means before adding each term you need to check if it's already added to the array.\n",
    "    In addition, check if each term is in the `stop_words` array. Only append the term to `bag_of_words`\n",
    "    if it is not a stop word.\n",
    "    \"\"\"\n",
    "    bag_of_words=[]\n",
    "    corpus=[re.split(' ', i) for i in corpus]\n",
    "    corpus_temp=[i for x in corpus for i in x]\n",
    "    for i in corpus_temp: \n",
    "        if i not in bag_of_words: bag_of_words.append(i)\n",
    "    \n",
    "    \n",
    "    \"\"\"\n",
    "    Loop `corpus` again. For each doc string, count the number of occurrences of each term in `bag_of_words`. \n",
    "    Create an array for each doc's term frequency and append it to `term_freq`.\n",
    "    \"\"\"    \n",
    "    bag_of_words=[i for i in bag_of_words if i not in stop_words]\n",
    "    term_freq = []\n",
    "    doc_freq=[0 for i in bag_of_words]\n",
    "    for i in corpus:\n",
    "        for j in bag_of_words:\n",
    "            if j in i:doc_freq[bag_of_words.index(j)]+=1\n",
    "        term_freq.append(doc_freq)\n",
    "        doc_freq=[0 for m in doc_freq]\n",
    "        \n",
    "        # Now return your output as an object\n",
    "    return {\n",
    "        \"bag_of_words\": bag_of_words,\n",
    "        \"term_freq\": term_freq\n",
    "        }\n"
   ]
  },
  {
   "cell_type": "markdown",
   "metadata": {},
   "source": [
    "Test your function without stop words. You should see the output like below:\n",
    "\n",
    "```{'bag_of_words': ['ironhack', 'is', 'cool', 'i', 'love', 'am', 'a', 'student', 'at'], 'term_freq': [[1, 1, 1, 0, 0, 0, 0, 0, 0], [1, 0, 0, 1, 1, 0, 0, 0, 0], [1, 0, 0, 1, 0, 1, 1, 1, 1]]}```"
   ]
  },
  {
   "cell_type": "code",
   "execution_count": 2,
   "metadata": {},
   "outputs": [
    {
     "name": "stdout",
     "output_type": "stream",
     "text": [
      "{'bag_of_words': ['ironhack', 'is', 'cool', 'i', 'love', 'am', 'a', 'student', 'at'], 'term_freq': [[1, 1, 1, 0, 0, 0, 0, 0, 0], [1, 0, 0, 1, 1, 0, 0, 0, 0], [1, 0, 0, 1, 0, 1, 1, 1, 1]]}\n"
     ]
    }
   ],
   "source": [
    "# Define doc paths array\n",
    "docs = ['doc1.txt', 'doc2.txt', 'doc3.txt']\n",
    "\n",
    "# Obtain BoW from your function\n",
    "bow = get_bow_from_docs(docs)\n",
    "\n",
    "# Print BoW\n",
    "print(bow)"
   ]
  },
  {
   "cell_type": "markdown",
   "metadata": {},
   "source": [
    "If your attempt above is successful, nice work done!\n",
    "\n",
    "Now test your function again with the stop words. In the previous lab we defined the stop words in a large array. In this lab, we'll import the stop words from Scikit-Learn."
   ]
  },
  {
   "cell_type": "code",
   "execution_count": 7,
   "metadata": {},
   "outputs": [
    {
     "name": "stdout",
     "output_type": "stream",
     "text": [
      "frozenset({'whereafter', 'thereafter', 'across', 'hereby', 'more', 'side', 'alone', 'first', 'herein', 'see', 'therefore', 'behind', 'front', 'every', 'us', 'becomes', 'then', 'wherein', 'at', 'on', 'some', 'six', 'no', 'something', 'perhaps', 'hers', 'twelve', 'their', 'former', 'noone', 'who', 'take', 'always', 'become', 'amoungst', 'own', 'our', 'namely', 'found', 'nor', 'anyhow', 'onto', 'whom', 'although', 'were', 'somehow', 'that', 'upon', 'from', 'if', 'couldnt', 'two', 'un', 'four', 'she', 'him', 'these', 'name', 'cannot', 'again', 'into', 'her', 'whose', 'themselves', 'has', 'but', 'mill', 'move', 'amongst', 'because', 'fifteen', 'de', 'even', 'can', 'very', 'eg', 'serious', 'was', 'formerly', 'otherwise', 'below', 'it', 'there', 'toward', 'against', 'why', 'ourselves', 'such', 'itself', 'elsewhere', 'everywhere', 'almost', 'hereupon', 'throughout', 'everyone', 'for', 'latter', 'ie', 'those', 'yourselves', 'are', 'hereafter', 'several', 'being', 'will', 'thru', 'within', 'indeed', 'latterly', 'while', 'sixty', 'next', 'until', 'would', 'them', 'anyway', 'put', 'somewhere', 'thus', 'back', 'ltd', 'call', 'due', 'only', 'when', 'and', 'mine', 'least', 'whereas', 'sincere', 'whereby', 'ten', 'keep', 'forty', 'both', 'thence', 'together', 'among', 'however', 'else', 'through', 'therein', 'fifty', 'too', 'you', 'each', 'off', 'under', 'now', 'part', 'as', 'herself', 'myself', 'last', 'fill', 'so', 'we', 'once', 'am', 'yet', 'nothing', 'many', 'three', 'this', 'few', 'made', 'of', 'any', 'may', 'whereupon', 'bottom', 'someone', 'or', 'sometime', 'either', 'another', 'already', 'seeming', 'i', 'seemed', 'here', 'one', 'nevertheless', 'sometimes', 'with', 'beyond', 'bill', 'without', 'most', 'hundred', 'the', 'anyone', 'whoever', 'inc', 'been', 'how', 'well', 'might', 'though', 'never', 'hasnt', 'detail', 'please', 'less', 'to', 'thin', 'describe', 'further', 'meanwhile', 'etc', 'give', 'system', 'after', 'per', 'anywhere', 'yourself', 'is', 'nobody', 'get', 'an', 'he', 'whether', 'around', 'since', 'top', 'besides', 'yours', 'also', 'seems', 'whenever', 'often', 'should', 'nine', 'became', 'which', 'than', 'whole', 'all', 'done', 'be', 'a', 'none', 'eleven', 'seem', 'along', 'must', 'beside', 'me', 'thick', 'wherever', 'empty', 'amount', 'cant', 'twenty', 'much', 'between', 'except', 'fire', 'ours', 'enough', 'before', 'neither', 'in', 'anything', 'its', 'have', 'my', 'third', 'becoming', 'still', 'same', 'your', 'where', 'above', 'out', 'ever', 'full', 'what', 'whither', 'by', 'they', 'via', 'con', 'nowhere', 'co', 'moreover', 'hence', 'others', 'find', 'could', 'cry', 'himself', 'during', 'down', 'rather', 'up', 'about', 'not', 'thereupon', 'other', 're', 'thereby', 'whence', 'do', 'everything', 'eight', 'towards', 'whatever', 'beforehand', 'interest', 'mostly', 'go', 'show', 'five', 'his', 'had', 'over', 'afterwards'})\n"
     ]
    }
   ],
   "source": [
    "from sklearn.feature_extraction import _stop_words\n",
    "print(_stop_words.ENGLISH_STOP_WORDS)"
   ]
  },
  {
   "cell_type": "markdown",
   "metadata": {},
   "source": [
    "You should have seen a large list of words that looks like:\n",
    "\n",
    "```frozenset({'across', 'mine', 'cannot', ...})```\n",
    "\n",
    "`frozenset` is a type of Python object that is immutable. In this lab you can use it just like an array without conversion."
   ]
  },
  {
   "cell_type": "markdown",
   "metadata": {},
   "source": [
    "Next, test your function with supplying `stop_words.ENGLISH_STOP_WORDS` as the second parameter."
   ]
  },
  {
   "cell_type": "code",
   "execution_count": 10,
   "metadata": {},
   "outputs": [
    {
     "name": "stdout",
     "output_type": "stream",
     "text": [
      "{'bag_of_words': ['ironhack', 'cool', 'love', 'student'], 'term_freq': [[1, 1, 0, 0], [1, 0, 1, 0], [1, 0, 0, 1]]}\n"
     ]
    }
   ],
   "source": [
    "bow = get_bow_from_docs(docs, _stop_words.ENGLISH_STOP_WORDS)\n",
    "\n",
    "print(bow)"
   ]
  },
  {
   "cell_type": "markdown",
   "metadata": {},
   "source": [
    "You should have seen:\n",
    "\n",
    "```{'bag_of_words': ['ironhack', 'cool', 'love', 'student'], 'term_freq': [[1, 1, 0, 0], [1, 0, 1, 0], [1, 0, 0, 1]]}```"
   ]
  },
  {
   "cell_type": "code",
   "execution_count": null,
   "metadata": {},
   "outputs": [],
   "source": []
  },
  {
   "cell_type": "code",
   "execution_count": null,
   "metadata": {},
   "outputs": [],
   "source": []
  }
 ],
 "metadata": {
  "kernelspec": {
   "display_name": "Python 3",
   "language": "python",
   "name": "python3"
  },
  "language_info": {
   "codemirror_mode": {
    "name": "ipython",
    "version": 3
   },
   "file_extension": ".py",
   "mimetype": "text/x-python",
   "name": "python",
   "nbconvert_exporter": "python",
   "pygments_lexer": "ipython3",
   "version": "3.8.8"
  }
 },
 "nbformat": 4,
 "nbformat_minor": 4
}
