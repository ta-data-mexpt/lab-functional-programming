{
 "cells": [
  {
   "cell_type": "markdown",
   "metadata": {},
   "source": [
    "In the cell below, create a Python function that wraps your previous solution for the Bag of Words lab.\n",
    "\n",
    "Requirements:\n",
    "\n",
    "1. Your function should accept the following parameters:\n",
    "    * `docs` [REQUIRED] - array of document paths.\n",
    "    * `stop_words` [OPTIONAL] - array of stop words. The default value is an empty array.\n",
    "\n",
    "1. Your function should return a Python object that contains the following:\n",
    "    * `bag_of_words` - array of strings of normalized unique words in the corpus.\n",
    "    * `term_freq` - array of the term-frequency vectors."
   ]
  },
  {
   "cell_type": "code",
   "execution_count": 24,
   "metadata": {},
   "outputs": [],
   "source": [
    "# Import required libraries\n",
    "\n",
    "# Define function\n",
    "def get_bow_from_docs(docs, stop_words=[]):\n",
    "    \n",
    "    # In the function, first define the variables you will use such as `corpus`, `bag_of_words`, and `term_freq`.\n",
    "    corpus=[]\n",
    "    bag_of_words=[]\n",
    "    term_freq=[]\n",
    "    \n",
    "    \"\"\"\n",
    "    Loop `docs` and read the content of each doc into a string in `corpus`.\n",
    "    Remember to convert the doc content to lowercases and remove punctuation.\n",
    "    \"\"\"\n",
    "    for text in docs:\n",
    "        with open(text, \"r\") as f:\n",
    "            corpus.extend(f.readlines())\n",
    "    corpus = [x.strip('.').lower() for x in corpus]\n",
    "\n",
    "    \n",
    "    \"\"\"\n",
    "    Loop `corpus`. Append the terms in each doc into the `bag_of_words` array. The terms in `bag_of_words` \n",
    "    should be unique which means before adding each term you need to check if it's already added to the array.\n",
    "    In addition, check if each term is in the `stop_words` array. Only append the term to `bag_of_words`\n",
    "    if it is not a stop word.\n",
    "    \"\"\"\n",
    "    for string in corpus:\n",
    "        for word in string.split():\n",
    "            if word not in bag_of_words:\n",
    "                if word not in stop_words:\n",
    "                    bag_of_words.append(word)\n",
    "    \n",
    "    \n",
    "    \"\"\"\n",
    "    Loop `corpus` again. For each doc string, count the number of occurrences of each term in `bag_of_words`. \n",
    "    Create an array for each doc's term frequency and append it to `term_freq`.\n",
    "    \"\"\"\n",
    "    for string in corpus:\n",
    "        term_freq.append([string.split().count(word) for word in bag_of_words])\n",
    "    \n",
    "    \n",
    "    # Now return your output as an object\n",
    "    return {\n",
    "        \"bag_of_words\": bag_of_words,\n",
    "        \"term_freq\": term_freq\n",
    "    }\n",
    "    "
   ]
  },
  {
   "cell_type": "markdown",
   "metadata": {},
   "source": [
    "Test your function without stop words. You should see the output like below:\n",
    "\n",
    "```{'bag_of_words': ['ironhack', 'is', 'cool', 'i', 'love', 'am', 'a', 'student', 'at'], 'term_freq': [[1, 1, 1, 0, 0, 0, 0, 0, 0], [1, 0, 0, 1, 1, 0, 0, 0, 0], [1, 0, 0, 1, 0, 1, 1, 1, 1]]}```"
   ]
  },
  {
   "cell_type": "code",
   "execution_count": 26,
   "metadata": {},
   "outputs": [
    {
     "name": "stdout",
     "output_type": "stream",
     "text": [
      "{'bag_of_words': ['ironhack', 'is', 'cool', 'i', 'love', 'am', 'a', 'student', 'at'], 'term_freq': [[1, 1, 1, 0, 0, 0, 0, 0, 0], [1, 0, 0, 1, 1, 0, 0, 0, 0], [1, 0, 0, 1, 0, 1, 1, 1, 1]]}\n"
     ]
    }
   ],
   "source": [
    "# Define doc paths array\n",
    "docs = ['../../../string-operations/your-code/doc1.txt','../../../string-operations/your-code/doc2.txt','../../../string-operations/your-code/doc3.txt']\n",
    "\n",
    "# Obtain BoW from your function\n",
    "bow = get_bow_from_docs(docs)\n",
    "\n",
    "# Print BoW\n",
    "print(bow)"
   ]
  },
  {
   "cell_type": "markdown",
   "metadata": {},
   "source": [
    "If your attempt above is successful, nice work done!\n",
    "\n",
    "Now test your function again with the stop words. In the previous lab we defined the stop words in a large array. In this lab, we'll import the stop words from Scikit-Learn."
   ]
  },
  {
   "cell_type": "code",
   "execution_count": 27,
   "metadata": {},
   "outputs": [
    {
     "name": "stdout",
     "output_type": "stream",
     "text": [
      "frozenset({'under', 'four', 'system', 'latter', 'seem', 'almost', 'therefore', 'elsewhere', 'several', 'an', 'us', 'more', 'around', 'any', 'thereafter', 'thereby', 'sometime', 'anyhow', 'eight', 'no', 'describe', 'yourselves', 'thin', 'being', 'etc', 'third', 'between', 'amoungst', 'moreover', 'empty', 'except', 'thereupon', 'been', 'can', 'top', 'whenever', 'front', 'because', 'all', 'indeed', 'by', 'not', 'both', 'per', 'this', 'without', 'least', 'mine', 'until', 'after', 'none', 'over', 'six', 'get', 'out', 'whither', 'on', 'at', 'among', 'as', 'show', 'a', 'thus', 'me', 'forty', 'bill', 'only', 'however', 'my', 'someone', 'what', 'fire', 'somewhere', 'also', 'take', 'those', 'must', 'up', 'either', 'former', 'through', 'very', 'becoming', 'anywhere', 'ltd', 'well', 'onto', 'with', 'thru', 'along', 'otherwise', 'already', 'he', 'enough', 'herself', 'own', 'during', 'than', 'why', 'few', 'anyway', 'itself', 'whole', 'might', 'while', 'off', 'always', 'cant', 'even', 'alone', 'its', 'then', 'still', 'fifty', 'others', 'is', 'besides', 'beforehand', 'whereupon', 'her', 'therein', 'serious', 'sometimes', 'there', 'ever', 'hers', 'nowhere', 'interest', 'was', 'whereas', 'in', 'move', 'else', 'once', 'although', 'whatever', 'am', 'thick', 'call', 'to', 'yours', 'our', 'hasnt', 'since', 'themselves', 'cannot', 'below', 'seemed', 'somehow', 'should', 'nothing', 'became', 'detail', 'be', 'nobody', 'will', 'amount', 'so', 'eleven', 'latterly', 'nevertheless', 'much', 'amongst', 'nor', 'formerly', 'hereby', 'against', 'were', 'down', 'con', 'back', 'due', 'find', 'many', 'before', 'inc', 'whereafter', 'meanwhile', 'everything', 'of', 'above', 're', 'hence', 'and', 'co', 'sincere', 'ie', 'thence', 'perhaps', 'from', 'cry', 'how', 'anything', 'rather', 'mostly', 'found', 'first', 'or', 'ours', 'seeming', 'again', 'across', 'yet', 'whom', 'behind', 'full', 'toward', 'next', 'i', 'becomes', 'via', 'here', 'one', 'may', 'side', 'name', 'herein', 'throughout', 'each', 'anyone', 'do', 'namely', 'too', 'twelve', 'ourselves', 'wherein', 'seems', 'towards', 'whereby', 'within', 'when', 'your', 'neither', 'fifteen', 'for', 'beside', 'whoever', 'such', 'made', 'them', 'it', 'every', 'afterwards', 'him', 'un', 'less', 'if', 'who', 'last', 'his', 'most', 'into', 'part', 'sixty', 'fill', 'myself', 'hundred', 'give', 'nine', 'where', 'whence', 'beyond', 'de', 'same', 'these', 'some', 'that', 'another', 'two', 'eg', 'have', 'the', 'upon', 'together', 'would', 'we', 'see', 'now', 'had', 'done', 'she', 'mill', 'whether', 'but', 'five', 'whose', 'never', 'which', 'everywhere', 'twenty', 'other', 'go', 'three', 'are', 'couldnt', 'ten', 'wherever', 'hereupon', 'keep', 'though', 'himself', 'has', 'further', 'something', 'yourself', 'put', 'could', 'their', 'noone', 'about', 'hereafter', 'bottom', 'often', 'please', 'you', 'everyone', 'they', 'become'})\n"
     ]
    }
   ],
   "source": [
    "from sklearn.feature_extraction import stop_words\n",
    "print(stop_words.ENGLISH_STOP_WORDS)"
   ]
  },
  {
   "cell_type": "markdown",
   "metadata": {},
   "source": [
    "You should have seen a large list of words that looks like:\n",
    "\n",
    "```frozenset({'across', 'mine', 'cannot', ...})```\n",
    "\n",
    "`frozenset` is a type of Python object that is immutable. In this lab you can use it just like an array without conversion."
   ]
  },
  {
   "cell_type": "markdown",
   "metadata": {},
   "source": [
    "Next, test your function with supplying `stop_words.ENGLISH_STOP_WORDS` as the second parameter."
   ]
  },
  {
   "cell_type": "code",
   "execution_count": 28,
   "metadata": {},
   "outputs": [
    {
     "name": "stdout",
     "output_type": "stream",
     "text": [
      "{'bag_of_words': ['ironhack', 'cool', 'love', 'student'], 'term_freq': [[1, 1, 0, 0], [1, 0, 1, 0], [1, 0, 0, 1]]}\n"
     ]
    }
   ],
   "source": [
    "bow = get_bow_from_docs(docs, stop_words.ENGLISH_STOP_WORDS)\n",
    "\n",
    "print(bow)"
   ]
  },
  {
   "cell_type": "markdown",
   "metadata": {},
   "source": [
    "You should have seen:\n",
    "\n",
    "```{'bag_of_words': ['ironhack', 'cool', 'love', 'student'], 'term_freq': [[1, 1, 0, 0], [1, 0, 1, 0], [1, 0, 0, 1]]}```"
   ]
  }
 ],
 "metadata": {
  "kernelspec": {
   "display_name": "Python 3",
   "language": "python",
   "name": "python3"
  },
  "language_info": {
   "codemirror_mode": {
    "name": "ipython",
    "version": 3
   },
   "file_extension": ".py",
   "mimetype": "text/x-python",
   "name": "python",
   "nbconvert_exporter": "python",
   "pygments_lexer": "ipython3",
   "version": "3.7.3"
  }
 },
 "nbformat": 4,
 "nbformat_minor": 4
}
