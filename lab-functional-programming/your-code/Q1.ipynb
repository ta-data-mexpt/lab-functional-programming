{
 "cells": [
  {
   "cell_type": "markdown",
   "metadata": {},
   "source": [
    "In the cell below, create a Python function that wraps your previous solution for the Bag of Words lab.\n",
    "\n",
    "Requirements:\n",
    "\n",
    "1. Your function should accept the following parameters:\n",
    "    * `docs` [REQUIRED] - array of document paths.\n",
    "    * `stop_words` [OPTIONAL] - array of stop words. The default value is an empty array.\n",
    "\n",
    "1. Your function should return a Python object that contains the following:\n",
    "    * `bag_of_words` - array of strings of normalized unique words in the corpus.\n",
    "    * `term_freq` - array of the term-frequency vectors."
   ]
  },
  {
   "cell_type": "code",
   "execution_count": 19,
   "metadata": {},
   "outputs": [
    {
     "ename": "NameError",
     "evalue": "name 'corpus' is not defined",
     "output_type": "error",
     "traceback": [
      "\u001b[1;31m---------------------------------------------------------------------------\u001b[0m",
      "\u001b[1;31mNameError\u001b[0m                                 Traceback (most recent call last)",
      "Input \u001b[1;32mIn [19]\u001b[0m, in \u001b[0;36m<cell line: 20>\u001b[1;34m()\u001b[0m\n\u001b[0;32m     22\u001b[0m s\u001b[38;5;241m=\u001b[39mf\u001b[38;5;241m.\u001b[39mread()\n\u001b[0;32m     23\u001b[0m s\u001b[38;5;241m=\u001b[39m\u001b[38;5;124m'\u001b[39m\u001b[38;5;124m'\u001b[39m\u001b[38;5;241m.\u001b[39mjoin(i \u001b[38;5;28;01mfor\u001b[39;00m i \u001b[38;5;129;01min\u001b[39;00m s \u001b[38;5;28;01mif\u001b[39;00m i \u001b[38;5;129;01mnot\u001b[39;00m \u001b[38;5;129;01min\u001b[39;00m punctuation)\n\u001b[1;32m---> 24\u001b[0m \u001b[43mcorpus\u001b[49m\u001b[38;5;241m.\u001b[39mappend(s\u001b[38;5;241m.\u001b[39mlower())\n\u001b[0;32m     25\u001b[0m f\u001b[38;5;241m.\u001b[39mclose()\n\u001b[0;32m     28\u001b[0m \u001b[38;5;124;03m\"\"\"\u001b[39;00m\n\u001b[0;32m     29\u001b[0m \u001b[38;5;124;03mLoop `corpus`. Append the terms in each doc into the `bag_of_words` array. The terms in `bag_of_words` \u001b[39;00m\n\u001b[0;32m     30\u001b[0m \u001b[38;5;124;03mshould be unique which means before adding each term you need to check if it's already added to the array.\u001b[39;00m\n\u001b[0;32m     31\u001b[0m \u001b[38;5;124;03mIn addition, check if each term is in the `stop_words` array. Only append the term to `bag_of_words`\u001b[39;00m\n\u001b[0;32m     32\u001b[0m \u001b[38;5;124;03mif it is not a stop word.\u001b[39;00m\n\u001b[0;32m     33\u001b[0m \u001b[38;5;124;03m\"\"\"\u001b[39;00m\n",
      "\u001b[1;31mNameError\u001b[0m: name 'corpus' is not defined"
     ]
    }
   ],
   "source": [
    "# Import required libraries\n",
    "\n",
    "\n",
    "from string import punctuation\n",
    "\n",
    "\n",
    "# Define function\n",
    "def get_bow_from_docs(docs, stop_words=[]):\n",
    "\n",
    "    # In the function, first define the variables you will use such as `corpus`, `bag_of_words`, and `term_freq`.\n",
    "    corpus=[]\n",
    "    bag_of_words=[]\n",
    "    term_freq=[]\n",
    "    docs=['doc1.txt', 'doc2.txt', 'doc3.txt']   \n",
    "\n",
    "    \"\"\"\n",
    "    Loop `docs` and read the content of each doc into a string in `corpus`.\n",
    "    Remember to convert the doc content to lowercases and remove punctuation.\n",
    "    \"\"\"\n",
    "for doc in docs:\n",
    "    f=open(doc,'r')\n",
    "    s=f.read()\n",
    "    s=''.join(i for i in s if i not in punctuation)\n",
    "    corpus.append(s.lower())\n",
    "    f.close()\n",
    "\n",
    "    \n",
    "    \"\"\"\n",
    "    Loop `corpus`. Append the terms in each doc into the `bag_of_words` array. The terms in `bag_of_words` \n",
    "    should be unique which means before adding each term you need to check if it's already added to the array.\n",
    "    In addition, check if each term is in the `stop_words` array. Only append the term to `bag_of_words`\n",
    "    if it is not a stop word.\n",
    "    \"\"\"\n",
    "\n",
    "for s in corpus:\n",
    "    s=''.join(i for i in s if i not in punctuation)\n",
    "    terms=s.split()\n",
    "    for temr in terms:\n",
    "        if not term in bag_of_words and not term in stop_words:\n",
    "            bag_of_words.append(term)\n",
    "    \n",
    "    \n",
    "    \"\"\"\n",
    "    Loop `corpus` again. For each doc string, count the number of occurrences of each term in `bag_of_words`. \n",
    "    Create an array for each doc's term frequency and append it to `term_freq`.\n",
    "    \"\"\"\n",
    "\n",
    "for s in corpus:\n",
    "    freq=[]\n",
    "    terms=s.split()\n",
    "for word in bag_of_words:\n",
    "    freq.append(terms.count(word))\n",
    "    term_freq.append(freq)\n",
    "    \n",
    "    # Now return your output as an object\n",
    "return {\n",
    "             \"bag_of_words\": bag_of_words,\n",
    "        \"term_freq\": term_freq\n",
    "                 }\n",
    "    \n",
    "    "
   ]
  },
  {
   "cell_type": "markdown",
   "metadata": {},
   "source": [
    "Test your function without stop words. You should see the output like below:\n",
    "\n",
    "```{'bag_of_words': ['ironhack', 'is', 'cool', 'i', 'love', 'am', 'a', 'student', 'at'], 'term_freq': [[1, 1, 1, 0, 0, 0, 0, 0, 0], [1, 0, 0, 1, 1, 0, 0, 0, 0], [1, 0, 0, 1, 0, 1, 1, 1, 1]]}```"
   ]
  },
  {
   "cell_type": "code",
   "execution_count": 15,
   "metadata": {},
   "outputs": [
    {
     "ename": "NameError",
     "evalue": "name 'get_bow_from_docs' is not defined",
     "output_type": "error",
     "traceback": [
      "\u001b[1;31m---------------------------------------------------------------------------\u001b[0m",
      "\u001b[1;31mNameError\u001b[0m                                 Traceback (most recent call last)",
      "Input \u001b[1;32mIn [15]\u001b[0m, in \u001b[0;36m<cell line: 5>\u001b[1;34m()\u001b[0m\n\u001b[0;32m      2\u001b[0m docs \u001b[38;5;241m=\u001b[39m [\u001b[38;5;124m'\u001b[39m\u001b[38;5;124mdoc1.txt\u001b[39m\u001b[38;5;124m'\u001b[39m, \u001b[38;5;124m'\u001b[39m\u001b[38;5;124mdoc2.txt\u001b[39m\u001b[38;5;124m'\u001b[39m, \u001b[38;5;124m'\u001b[39m\u001b[38;5;124mdoc3.txt\u001b[39m\u001b[38;5;124m'\u001b[39m]\n\u001b[0;32m      4\u001b[0m \u001b[38;5;66;03m# Obtain BoW from your function\u001b[39;00m\n\u001b[1;32m----> 5\u001b[0m bow \u001b[38;5;241m=\u001b[39m \u001b[43mget_bow_from_docs\u001b[49m([ \u001b[38;5;124m'\u001b[39m\u001b[38;5;124m../../lab-functional-programming/your-code/doc1.txt\u001b[39m\u001b[38;5;124m'\u001b[39m, \n\u001b[0;32m      6\u001b[0m     \u001b[38;5;124m'\u001b[39m\u001b[38;5;124m../../lab-functional-programming//your-code/doc2.txt\u001b[39m\u001b[38;5;124m'\u001b[39m, \n\u001b[0;32m      7\u001b[0m     \u001b[38;5;124m'\u001b[39m\u001b[38;5;124m../../lab-functional-programming//your-code/doc3.txt\u001b[39m\u001b[38;5;124m'\u001b[39m])\n\u001b[0;32m      9\u001b[0m \u001b[38;5;66;03m# Print BoW\u001b[39;00m\n\u001b[0;32m     10\u001b[0m \u001b[38;5;28mprint\u001b[39m(bow)\n",
      "\u001b[1;31mNameError\u001b[0m: name 'get_bow_from_docs' is not defined"
     ]
    }
   ],
   "source": [
    "# Define doc paths array\n",
    "docs = ['doc1.txt', 'doc2.txt', 'doc3.txt']\n",
    "\n",
    "# Obtain BoW from your function\n",
    "bow = get_bow_from_docs([ '../../lab-functional-programming/your-code/doc1.txt', \n",
    "    '../../lab-functional-programming//your-code/doc2.txt', \n",
    "    '../../lab-functional-programming//your-code/doc3.txt'])\n",
    "\n",
    "# Print BoW\n",
    "print(bow)"
   ]
  },
  {
   "cell_type": "markdown",
   "metadata": {},
   "source": [
    "If your attempt above is successful, nice work done!\n",
    "\n",
    "Now test your function again with the stop words. In the previous lab we defined the stop words in a large array. In this lab, we'll import the stop words from Scikit-Learn."
   ]
  },
  {
   "cell_type": "code",
   "execution_count": 12,
   "metadata": {},
   "outputs": [
    {
     "name": "stdout",
     "output_type": "stream",
     "text": [
      "frozenset({'were', 'he', 'been', 'then', 'except', 'de', 'couldnt', 'again', 'where', 'against', 'interest', 'somewhere', 'whom', 'bottom', 'therefore', 'whereas', 'therein', 'done', 'no', 'my', 'put', 'via', 'else', 'on', 'each', 'neither', 'behind', 'over', 'whose', 'mostly', 'who', 'off', 'yourselves', 'before', 'sometime', 'co', 'describe', 'wherever', 'everything', 'full', 'namely', 'might', 'afterwards', 'whoever', 'anyone', 'fire', 'also', 'others', 'whole', 'their', 'beyond', 'ten', 'about', 'twenty', 'himself', 'hence', 'fill', 'sometimes', 'am', 'all', 'keep', 'not', 'nevertheless', 'up', 'rather', 'how', 'ours', 'formerly', 'both', 'further', 'though', 'herself', 'sincere', 'latterly', 'him', 'than', 'within', 'would', 'someone', 'fifty', 'five', 'show', 'of', 'after', 'thence', 'amoungst', 'hereby', 'these', 'as', 'will', 'nine', 'call', 'already', 'least', 'yourself', 'during', 'ever', 'nor', 'should', 'may', 'seem', 'serious', 'amount', 'that', 'could', 'i', 'in', 'few', 'anyway', 'becoming', 'noone', 'either', 'very', 'anywhere', 'much', 'its', 'go', 'whenever', 'from', 'here', 'mine', 'more', 'but', 'alone', 'us', 'into', 'together', 'now', 'our', 'found', 'meanwhile', 'toward', 'beforehand', 'an', 'has', 'what', 'never', 'had', 'while', 'because', 'a', 'hereafter', 'must', 'three', 'several', 'somehow', 'forty', 'those', 'everyone', 'above', 'anyhow', 'for', 'fifteen', 'bill', 'thick', 'at', 'can', 'do', 'still', 'latter', 'if', 'part', 'since', 'inc', 'perhaps', 'none', 'eg', 'such', 'there', 'became', 'eight', 'cry', 'was', 'top', 'yours', 'four', 'made', 'once', 'eleven', 'thus', 'by', 'name', 'per', 'almost', 'something', 'myself', 'without', 'thereupon', 'enough', 'beside', 'thru', 'being', 'itself', 'his', 'same', 'find', 'themselves', 'it', 'often', 'cannot', 'side', 'however', 'elsewhere', 'seems', 'give', 'they', 'next', 'you', 'even', 'see', 'thereby', 'please', 'indeed', 'amongst', 'get', 'whereby', 'otherwise', 'thereafter', 'to', 'back', 'cant', 'have', 'ltd', 'hasnt', 'the', 'through', 'nobody', 'hers', 'thin', 'detail', 'moreover', 'out', 'etc', 'move', 'why', 'be', 'twelve', 'down', 'one', 'other', 'third', 'me', 'every', 'although', 'everywhere', 'throughout', 'ourselves', 'ie', 'anything', 'whatever', 'which', 'seeming', 'become', 'most', 'hundred', 'whereafter', 'them', 'so', 'whither', 'last', 'whether', 'is', 'upon', 'or', 'seemed', 'her', 'towards', 'always', 'are', 'first', 'any', 'wherein', 'well', 'across', 'too', 'yet', 'nothing', 'herein', 're', 'con', 'we', 'around', 'many', 'whereupon', 'mill', 'another', 'becomes', 'empty', 'some', 'six', 'un', 'take', 'besides', 'sixty', 'until', 'nowhere', 'along', 'among', 'less', 'front', 'former', 'under', 'with', 'when', 'between', 'onto', 'only', 'this', 'whence', 'and', 'your', 'due', 'two', 'system', 'hereupon', 'own', 'below', 'she'})\n"
     ]
    }
   ],
   "source": [
    "from sklearn.feature_extraction import _stop_words\n",
    "print(_stop_words.ENGLISH_STOP_WORDS)"
   ]
  },
  {
   "cell_type": "markdown",
   "metadata": {},
   "source": [
    "You should have seen a large list of words that looks like:\n",
    "\n",
    "```frozenset({'across', 'mine', 'cannot', ...})```\n",
    "\n",
    "`frozenset` is a type of Python object that is immutable. In this lab you can use it just like an array without conversion."
   ]
  },
  {
   "cell_type": "markdown",
   "metadata": {},
   "source": [
    "Next, test your function with supplying `stop_words.ENGLISH_STOP_WORDS` as the second parameter."
   ]
  },
  {
   "cell_type": "code",
   "execution_count": 17,
   "metadata": {},
   "outputs": [
    {
     "ename": "SyntaxError",
     "evalue": "invalid syntax (2582812775.py, line 3)",
     "output_type": "error",
     "traceback": [
      "\u001b[1;36m  Input \u001b[1;32mIn [17]\u001b[1;36m\u001b[0m\n\u001b[1;33m    '../../lab-functional-programming//your-code/doc3.txt'] _stop_words.ENGLISH_STOP_WORDS)\u001b[0m\n\u001b[1;37m                                                            ^\u001b[0m\n\u001b[1;31mSyntaxError\u001b[0m\u001b[1;31m:\u001b[0m invalid syntax\n"
     ]
    }
   ],
   "source": [
    "bow = get_bow_from_docs([ '../../lab-functional-programming/your-code/doc1.txt', \n",
    "    '../../lab-functional-programming//your-code/doc2.txt', \n",
    "    '../../lab-functional-programming//your-code/doc3.txt'] _stop_words.ENGLISH_STOP_WORDS)\n",
    "\n",
    "print(bow)"
   ]
  },
  {
   "cell_type": "markdown",
   "metadata": {},
   "source": [
    "You should have seen:\n",
    "\n",
    "```{'bag_of_words': ['ironhack', 'cool', 'love', 'student'], 'term_freq': [[1, 1, 0, 0], [1, 0, 1, 0], [1, 0, 0, 1]]}```"
   ]
  },
  {
   "cell_type": "code",
   "execution_count": null,
   "metadata": {},
   "outputs": [],
   "source": []
  }
 ],
 "metadata": {
  "kernelspec": {
   "display_name": "Python 3 (ipykernel)",
   "language": "python",
   "name": "python3"
  },
  "language_info": {
   "codemirror_mode": {
    "name": "ipython",
    "version": 3
   },
   "file_extension": ".py",
   "mimetype": "text/x-python",
   "name": "python",
   "nbconvert_exporter": "python",
   "pygments_lexer": "ipython3",
   "version": "3.9.12"
  }
 },
 "nbformat": 4,
 "nbformat_minor": 4
}
