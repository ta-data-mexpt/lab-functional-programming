{
 "cells": [
  {
   "cell_type": "markdown",
   "metadata": {},
   "source": [
    "In the cell below, create a Python function that wraps your previous solution for the Bag of Words lab.\n",
    "\n",
    "Requirements:\n",
    "\n",
    "1. Your function should accept the following parameters:\n",
    "    * `docs` [REQUIRED] - array of document paths.\n",
    "    * `stop_words` [OPTIONAL] - array of stop words. The default value is an empty array.\n",
    "\n",
    "1. Your function should return a Python object that contains the following:\n",
    "    * `bag_of_words` - array of strings of normalized unique words in the corpus.\n",
    "    * `term_freq` - array of the term-frequency vectors."
   ]
  },
  {
   "cell_type": "code",
   "execution_count": 191,
   "metadata": {},
   "outputs": [
    {
     "name": "stdout",
     "output_type": "stream",
     "text": [
      "\n",
      "\n",
      "\n",
      "{'bag_of_words': ['ironhack', 'is', 'cool', 'i', 'love', 'am', 'a', 'student', 'at'], 'term_freq': [[1, 1, 1, 0, 0, 0, 0, 0, 0], [1, 0, 0, 1, 1, 0, 0, 0, 0], [1, 0, 0, 1, 0, 1, 1, 1, 1]]}\n"
     ]
    }
   ],
   "source": [
    "# Import required libraries\n",
    "import pandas as pd\n",
    "import numpy as np\n",
    "import os\n",
    "import re\n",
    "\n",
    "docs = [i for i in os.listdir('.') if i.endswith('.txt')]\n",
    "# Define function\n",
    "def get_bow_from_docs(docs, stop_words=[]):\n",
    "    \n",
    "    # In the function, first define the variables you will use such as `corpus`, `bag_of_words`, and `term_freq`.\n",
    "    \n",
    "    corpus = []\n",
    "    \n",
    "    bag_of_words = []\n",
    "    term_freq = []\n",
    "    pattern = r'[,\\.\\n\\s]'\n",
    "    \n",
    "    \"\"\"\n",
    "    Loop `docs` and read the content of each doc into a string in `corpus`.\n",
    "    Remember to convert the doc content to lowercases and remove punctuation.\n",
    "    \"\"\"\n",
    "\n",
    "    for i in docs:\n",
    "        with open(i,'r') as f:\n",
    "            lines = f.read()\n",
    "            corpus1 = re.split(pattern, lines)\n",
    "            corpus2 = [i.lower() for i in corpus1 if i!=\"\"]\n",
    "            corpus.append(corpus2)       \n",
    "                \n",
    "\n",
    "    \n",
    "    \"\"\"\n",
    "    Loop `corpus`. Append the terms in each doc into the `bag_of_words` array. The terms in `bag_of_words` \n",
    "    should be unique which means before adding each term you need to check if it's already added to the array.\n",
    "    In addition, check if each term is in the `stop_words` array. Only append the term to `bag_of_words`\n",
    "    if it is not a stop word.\n",
    "    \"\"\"\n",
    "\n",
    "    for i in corpus:\n",
    "        for x in i:\n",
    "            if x in stop_words:\n",
    "                print()\n",
    "            else:\n",
    "                if x in bag_of_words:\n",
    "                    print()\n",
    "                else: \n",
    "                    bag_of_words.append(x)\n",
    "      \n",
    "    \n",
    "    \n",
    "    \"\"\"\n",
    "    Loop `corpus` again. For each doc string, count the number of occurrences of each term in `bag_of_words`. \n",
    "    Create an array for each doc's term frequency and append it to `term_freq`.\n",
    "    \"\"\"\n",
    "\n",
    "    for i in corpus:\n",
    "        term_freq1=[]\n",
    "        for x in bag_of_words:\n",
    "            term_freq1.append(i.count(x))\n",
    "        term_freq.append(term_freq1)\n",
    "   \n",
    "    \n",
    "    # Now return your output as an object\n",
    "    return {\n",
    "        \"bag_of_words\": bag_of_words,\n",
    "        \"term_freq\": term_freq\n",
    "    }\n",
    "print(get_bow_from_docs(docs, stop_words=[]))"
   ]
  },
  {
   "cell_type": "markdown",
   "metadata": {},
   "source": [
    "Test your function without stop words. You should see the output like below:\n",
    "\n",
    "```{'bag_of_words': ['ironhack', 'is', 'cool', 'i', 'love', 'am', 'a', 'student', 'at'], 'term_freq': [[1, 1, 1, 0, 0, 0, 0, 0, 0], [1, 0, 0, 1, 1, 0, 0, 0, 0], [1, 0, 0, 1, 0, 1, 1, 1, 1]]}```"
   ]
  },
  {
   "cell_type": "code",
   "execution_count": 192,
   "metadata": {},
   "outputs": [
    {
     "name": "stdout",
     "output_type": "stream",
     "text": [
      "\n",
      "\n",
      "\n",
      "{'bag_of_words': ['ironhack', 'is', 'cool', 'i', 'love', 'am', 'a', 'student', 'at'], 'term_freq': [[1, 1, 1, 0, 0, 0, 0, 0, 0], [1, 0, 0, 1, 1, 0, 0, 0, 0], [1, 0, 0, 1, 0, 1, 1, 1, 1]]}\n"
     ]
    }
   ],
   "source": [
    "# Define doc paths array\n",
    "docs = [i for i in os.listdir('.') if i.endswith('.txt')]\n",
    "\n",
    "# Obtain BoW from your function\n",
    "bow = get_bow_from_docs(docs)\n",
    "\n",
    "# Print BoW\n",
    "print(bow)"
   ]
  },
  {
   "cell_type": "markdown",
   "metadata": {},
   "source": [
    "If your attempt above is successful, nice work done!\n",
    "\n",
    "Now test your function again with the stop words. In the previous lab we defined the stop words in a large array. In this lab, we'll import the stop words from Scikit-Learn."
   ]
  },
  {
   "cell_type": "code",
   "execution_count": 186,
   "metadata": {},
   "outputs": [
    {
     "name": "stdout",
     "output_type": "stream",
     "text": [
      "frozenset({'among', 'hence', 'thru', 'found', 'we', 'could', 'yet', 'also', 'top', 'nowhere', 'ltd', 'three', 'almost', 'into', 'describe', 'only', 'his', 'whose', 'us', 'anyone', 'has', 'side', 'still', 'those', 'less', 'fifty', 'so', 'hereupon', 'mostly', 'across', 'on', 'amount', 'was', 'nor', 'ten', 'whoever', 'twelve', 'one', 'myself', 'give', 'few', 'together', 'became', 'have', 'had', 'toward', 'through', 'own', 'take', 'couldnt', 'fill', 'thereupon', 'your', 'afterwards', 'last', 'becomes', 'who', 'nine', 'thus', 'beside', 'yours', 'under', 'all', 'mine', 'that', 'above', 'by', 'me', 'herself', 'be', 'been', 'whither', 'seeming', 'him', 'etc', 'system', 'others', 'cant', 'her', 'towards', 'whence', 'rather', 'behind', 'now', 'next', 'beyond', 'while', 'around', 'may', 'con', 'off', 'else', 'when', 'cannot', 'though', 'hundred', 'another', 'you', 'to', 'elsewhere', 'inc', 'nevertheless', 'themselves', 'if', 'interest', 'between', 'yourselves', 'move', 'please', 'anywhere', 'the', 'or', 'she', 'call', 'put', 'ie', 'bottom', 'down', 'un', 'do', 'there', 'against', 'although', 'hasnt', 'de', 'much', 'anyway', 'of', 'during', 'thereby', 'except', 'therefore', 'eg', 'namely', 'whether', 'i', 'am', 'each', 'himself', 'which', 'over', 'amongst', 'whenever', 'sometime', 'some', 'anything', 'mill', 'from', 'our', 'its', 'formerly', 'these', 'two', 'were', 'everyone', 'my', 'go', 'find', 'see', 'is', 'until', 'always', 'same', 'somehow', 'where', 'everywhere', 'most', 'an', 'in', 'whom', 'sincere', 'eleven', 'therein', 'amoungst', 'someone', 'becoming', 'due', 'very', 'even', 'ever', 'former', 'at', 'per', 'thereafter', 'six', 'itself', 'made', 'forty', 'as', 'he', 'onto', 'with', 'everything', 'never', 'no', 'such', 'nothing', 'how', 'fifteen', 'keep', 'thin', 'here', 'co', 'show', 'several', 'are', 'hers', 'throughout', 'many', 'four', 'they', 'wherein', 'somewhere', 'before', 'well', 'being', 'back', 'hereafter', 'out', 'whereafter', 'a', 'often', 'then', 'whereupon', 'moreover', 'not', 'once', 'via', 'sixty', 'twenty', 'cry', 'along', 'why', 'more', 'wherever', 'hereby', 'empty', 'both', 'it', 'enough', 'whereas', 'upon', 'whereby', 'latterly', 'third', 'detail', 'however', 'full', 'ours', 'serious', 'might', 'already', 'besides', 'neither', 'because', 'least', 'none', 'sometimes', 're', 'them', 'will', 'front', 'below', 'after', 'noone', 'their', 'but', 'become', 'any', 'perhaps', 'should', 'bill', 'this', 'up', 'indeed', 'within', 'anyhow', 'five', 'without', 'other', 'whole', 'herein', 'either', 'alone', 'would', 'further', 'than', 'name', 'first', 'and', 'seem', 'since', 'fire', 'something', 'must', 'yourself', 'seems', 'ourselves', 'beforehand', 'can', 'again', 'thence', 'meanwhile', 'for', 'otherwise', 'seemed', 'nobody', 'too', 'part', 'about', 'latter', 'get', 'eight', 'thick', 'done', 'every', 'what', 'whatever'})\n"
     ]
    }
   ],
   "source": [
    "from sklearn.feature_extraction import _stop_words\n",
    "print(_stop_words.ENGLISH_STOP_WORDS)"
   ]
  },
  {
   "cell_type": "markdown",
   "metadata": {},
   "source": [
    "You should have seen a large list of words that looks like:\n",
    "\n",
    "```frozenset({'across', 'mine', 'cannot', ...})```\n",
    "\n",
    "`frozenset` is a type of Python object that is immutable. In this lab you can use it just like an array without conversion."
   ]
  },
  {
   "cell_type": "markdown",
   "metadata": {},
   "source": [
    "Next, test your function with supplying `stop_words.ENGLISH_STOP_WORDS` as the second parameter."
   ]
  },
  {
   "cell_type": "code",
   "execution_count": 194,
   "metadata": {},
   "outputs": [
    {
     "name": "stdout",
     "output_type": "stream",
     "text": [
      "\n",
      "\n",
      "\n",
      "\n",
      "\n",
      "\n",
      "\n",
      "\n",
      "{'bag_of_words': ['ironhack', 'cool', 'love', 'student'], 'term_freq': [[1, 1, 0, 0], [1, 0, 1, 0], [1, 0, 0, 1]]}\n"
     ]
    }
   ],
   "source": [
    "bow = get_bow_from_docs(docs, _stop_words.ENGLISH_STOP_WORDS)\n",
    "\n",
    "print(bow)"
   ]
  },
  {
   "cell_type": "markdown",
   "metadata": {},
   "source": [
    "You should have seen:\n",
    "\n",
    "```{'bag_of_words': ['ironhack', 'cool', 'love', 'student'], 'term_freq': [[1, 1, 0, 0], [1, 0, 1, 0], [1, 0, 0, 1]]}```"
   ]
  }
 ],
 "metadata": {
  "kernelspec": {
   "display_name": "Python 3 (ipykernel)",
   "language": "python",
   "name": "python3"
  },
  "language_info": {
   "codemirror_mode": {
    "name": "ipython",
    "version": 3
   },
   "file_extension": ".py",
   "mimetype": "text/x-python",
   "name": "python",
   "nbconvert_exporter": "python",
   "pygments_lexer": "ipython3",
   "version": "3.9.12"
  }
 },
 "nbformat": 4,
 "nbformat_minor": 2
}
