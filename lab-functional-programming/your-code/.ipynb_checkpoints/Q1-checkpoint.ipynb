{
 "cells": [
  {
   "cell_type": "markdown",
   "metadata": {},
   "source": [
    "In the cell below, create a Python function that wraps your previous solution for the Bag of Words lab.\n",
    "\n",
    "Requirements:\n",
    "\n",
    "1. Your function should accept the following parameters:\n",
    "    * `docs` [REQUIRED] - array of document paths.\n",
    "    * `stop_words` [OPTIONAL] - array of stop words. The default value is an empty array.\n",
    "\n",
    "1. Your function should return a Python object that contains the following:\n",
    "    * `bag_of_words` - array of strings of normalized unique words in the corpus.\n",
    "    * `term_freq` - array of the term-frequency vectors."
   ]
  },
  {
   "cell_type": "code",
   "execution_count": 10,
   "metadata": {},
   "outputs": [
    {
     "data": {
      "text/plain": [
       "{'bag_of_words': ['i',\n",
       "  'student',\n",
       "  'at',\n",
       "  'ironhack',\n",
       "  'am',\n",
       "  'cool',\n",
       "  'is',\n",
       "  'a',\n",
       "  'love'],\n",
       " 'term_freq': [[0, 0, 0, 1, 0, 1, 1, 0, 0],\n",
       "  [1, 0, 0, 1, 0, 0, 0, 0, 1],\n",
       "  [1, 1, 1, 1, 1, 0, 0, 1, 0]]}"
      ]
     },
     "execution_count": 10,
     "metadata": {},
     "output_type": "execute_result"
    }
   ],
   "source": [
    "# Import required libraries\n",
    "import re\n",
    "\n",
    "pattern = r\"[,\\.\\n\\s]\"\n",
    "docs = [\"doc1.txt\", \"doc2.txt\", \"doc3.txt\"]\n",
    "   \n",
    "# Define function\n",
    "def get_bow_from_docs(docs, stop_words=[]):\n",
    "    \n",
    "    # In the function, first define the variables you will use such as `corpus`, `bag_of_words`, and `term_freq`.\n",
    "    corpus = []\n",
    "    bag_of_words = set()\n",
    "    term_freq = []\n",
    "   \n",
    "    \"\"\"\n",
    "    Loop `docs` and read the content of each doc into a string in `corpus`.\n",
    "    Remember to convert the doc content to lowercases and remove punctuation.\n",
    "    \"\"\"\n",
    "    for doc in docs:\n",
    "        with open(doc, \"r\") as f:\n",
    "            text = f.read()\n",
    "            patterned_string = re.split(pattern, text)\n",
    "            patterned_string_no_spaces = [element.lower() for element in patterned_string if element != \"\"]\n",
    "            corpus.append(patterned_string_no_spaces)\n",
    "   \n",
    "    \"\"\"\n",
    "    Loop `corpus`. Append the terms in each doc into the `bag_of_words` array. The terms in `bag_of_words` \n",
    "    should be unique which means before adding each term you need to check if it's already added to the array.\n",
    "    In addition, check if each term is in the `stop_words` array. Only append the term to `bag_of_words`\n",
    "    if it is not a stop word.\n",
    "    \"\"\"\n",
    "    for vector in corpus:       \n",
    "        for word in vector:\n",
    "            if word not in stop_words:\n",
    "                bag_of_words.add(word)\n",
    "    final_bag_of_words = list(bag_of_words)\n",
    "      \n",
    "    \"\"\"\n",
    "    Loop `corpus` again. For each doc string, count the number of occurrences of each term in `bag_of_words`. \n",
    "    Create an array for each doc's term frequency and append it to `term_freq`.\n",
    "    \"\"\"\n",
    "    for vector in corpus:\n",
    "        vector_freq = []\n",
    "        for word in final_bag_of_words:\n",
    "            vector_freq.append(vector.count(word))\n",
    "        term_freq.append(vector_freq)\n",
    "  \n",
    "    # Now return your output as an object\n",
    "    return {\n",
    "        \"bag_of_words\": final_bag_of_words,\n",
    "        \"term_freq\": term_freq\n",
    "    }\n",
    "    \n",
    "    \n",
    "get_bow_from_docs(docs) "
   ]
  },
  {
   "cell_type": "markdown",
   "metadata": {},
   "source": [
    "Test your function without stop words. You should see the output like below:\n",
    "\n",
    "```{'bag_of_words': ['ironhack', 'is', 'cool', 'i', 'love', 'am', 'a', 'student', 'at'], 'term_freq': [[1, 1, 1, 0, 0, 0, 0, 0, 0], [1, 0, 0, 1, 1, 0, 0, 0, 0], [1, 0, 0, 1, 0, 1, 1, 1, 1]]}```"
   ]
  },
  {
   "cell_type": "code",
   "execution_count": 11,
   "metadata": {},
   "outputs": [
    {
     "name": "stdout",
     "output_type": "stream",
     "text": [
      "{'bag_of_words': ['i', 'student', 'at', 'ironhack', 'am', 'cool', 'is', 'a', 'love'], 'term_freq': [[0, 0, 0, 1, 0, 1, 1, 0, 0], [1, 0, 0, 1, 0, 0, 0, 0, 1], [1, 1, 1, 1, 1, 0, 0, 1, 0]]}\n"
     ]
    }
   ],
   "source": [
    "# Define doc paths array\n",
    "docs = docs = [\"doc1.txt\", \"doc2.txt\", \"doc3.txt\"]\n",
    "\n",
    "# Obtain BoW from your function\n",
    "bow = get_bow_from_docs(docs)\n",
    "\n",
    "# Print BoW\n",
    "print(bow)"
   ]
  },
  {
   "cell_type": "markdown",
   "metadata": {},
   "source": [
    "If your attempt above is successful, nice work done!\n",
    "\n",
    "Now test your function again with the stop words. In the previous lab we defined the stop words in a large array. In this lab, we'll import the stop words from Scikit-Learn."
   ]
  },
  {
   "cell_type": "code",
   "execution_count": 14,
   "metadata": {},
   "outputs": [
    {
     "name": "stdout",
     "output_type": "stream",
     "text": [
      "frozenset({'many', 'became', 'without', 'your', 'few', 'because', 'we', 'bottom', 'himself', 'anything', 'moreover', 'of', 'mine', 'what', 'them', 'whether', 'seemed', 'my', 'whereas', 'un', 'across', 'another', 'by', 'itself', 'well', 'even', 'yet', 'never', 'both', 'here', 'interest', 'to', 'latterly', 'rather', 'five', 'beyond', 'some', 'it', 'he', 'beforehand', 'system', 'however', 'can', 'been', 'and', 'per', 'any', 'ten', 'nowhere', 'too', 'while', 'twelve', 'whereupon', 'enough', 'except', 'since', 'alone', 'thereafter', 'noone', 'onto', 'in', 'where', 'i', 'though', 'due', 'whence', 'co', 'once', 'all', 'front', 'sixty', 'neither', 'whose', 'this', 'couldnt', 'show', 'why', 'yourselves', 'everywhere', 'eg', 'four', 'hence', 'thick', 'six', 'being', 'ours', 'mill', 'side', 'for', 'thereupon', 'sometimes', 'fire', 'formerly', 'meanwhile', 'whereafter', 'towards', 'anyhow', 'ltd', 'whenever', 'up', 'get', 'first', 'cant', 'none', 'yours', 'hasnt', 'several', 'more', 'between', 're', 'has', 'nor', 'down', 'behind', 'ourselves', 'through', 'afterwards', 'hers', 'hereby', 'before', 'throughout', 'whereby', 'keep', 'ever', 'her', 'on', 'might', 'amongst', 'becomes', 'fifty', 'above', 'nothing', 'inc', 'during', 'that', 'three', 'eleven', 'such', 'than', 'from', 'whom', 'together', 'eight', 'therein', 'was', 'anywhere', 'over', 'his', 'often', 'until', 'next', 'do', 'fill', 'describe', 'forty', 'detail', 'only', 'somehow', 'amount', 'were', 'top', 'are', 'hereafter', 'hundred', 'upon', 'who', 'me', 'nevertheless', 'must', 'had', 'move', 'everything', 'myself', 'very', 'seeming', 'someone', 'wherein', 'him', 'within', 'whole', 'herein', 'will', 'amoungst', 'cannot', 'cry', 'former', 'full', 'namely', 'you', 'whither', 'back', 'seems', 'not', 'be', 'have', 'other', 'am', 'somewhere', 'others', 'else', 'they', 'herself', 'call', 'should', 'elsewhere', 'may', 'serious', 'an', 'toward', 'already', 'as', 'still', 'further', 'de', 'most', 'at', 'either', 'no', 'perhaps', 'beside', 'empty', 'under', 'thin', 'besides', 'twenty', 'sincere', 'therefore', 'give', 'into', 'thus', 'sometime', 'go', 'take', 'two', 'about', 'our', 'nobody', 'own', 'indeed', 'or', 'via', 'otherwise', 'every', 'anyone', 'etc', 'with', 'last', 'third', 'would', 'again', 'mostly', 'con', 'see', 'thereby', 'against', 'the', 'around', 'seem', 'which', 'done', 'when', 'everyone', 'less', 'anyway', 'one', 'now', 'after', 'part', 'could', 'name', 'there', 'us', 'below', 'find', 'ie', 'those', 'along', 'a', 'whoever', 'whatever', 'its', 'always', 'if', 'out', 'bill', 'hereupon', 'wherever', 'found', 'thru', 'put', 'then', 'among', 'something', 'these', 'yourself', 'become', 'how', 'each', 'same', 'made', 'off', 'nine', 'their', 'is', 'much', 'also', 'please', 'although', 'becoming', 'but', 'themselves', 'latter', 'fifteen', 'she', 'almost', 'thence', 'so', 'least'})\n"
     ]
    }
   ],
   "source": [
    "from sklearn.feature_extraction import stop_words\n",
    "print(stop_words.ENGLISH_STOP_WORDS)"
   ]
  },
  {
   "cell_type": "markdown",
   "metadata": {},
   "source": [
    "You should have seen a large list of words that looks like:\n",
    "\n",
    "```frozenset({'across', 'mine', 'cannot', ...})```\n",
    "\n",
    "`frozenset` is a type of Python object that is immutable. In this lab you can use it just like an array without conversion."
   ]
  },
  {
   "cell_type": "markdown",
   "metadata": {},
   "source": [
    "Next, test your function with supplying `stop_words.ENGLISH_STOP_WORDS` as the second parameter."
   ]
  },
  {
   "cell_type": "code",
   "execution_count": 13,
   "metadata": {},
   "outputs": [
    {
     "name": "stdout",
     "output_type": "stream",
     "text": [
      "{'bag_of_words': ['love', 'student', 'cool', 'ironhack'], 'term_freq': [[0, 0, 1, 1], [1, 0, 0, 1], [0, 1, 0, 1]]}\n"
     ]
    }
   ],
   "source": [
    "bow = get_bow_from_docs(docs, stop_words.ENGLISH_STOP_WORDS)\n",
    "\n",
    "print(bow)"
   ]
  },
  {
   "cell_type": "markdown",
   "metadata": {},
   "source": [
    "You should have seen:\n",
    "\n",
    "```{'bag_of_words': ['ironhack', 'cool', 'love', 'student'], 'term_freq': [[1, 1, 0, 0], [1, 0, 1, 0], [1, 0, 0, 1]]}```"
   ]
  },
  {
   "cell_type": "code",
   "execution_count": null,
   "metadata": {},
   "outputs": [],
   "source": []
  }
 ],
 "metadata": {
  "kernelspec": {
   "display_name": "Python 3",
   "language": "python",
   "name": "python3"
  },
  "language_info": {
   "codemirror_mode": {
    "name": "ipython",
    "version": 3
   },
   "file_extension": ".py",
   "mimetype": "text/x-python",
   "name": "python",
   "nbconvert_exporter": "python",
   "pygments_lexer": "ipython3",
   "version": "3.7.4"
  }
 },
 "nbformat": 4,
 "nbformat_minor": 2
}
