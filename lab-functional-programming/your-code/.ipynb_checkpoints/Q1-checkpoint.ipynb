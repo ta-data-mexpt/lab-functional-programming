{
 "cells": [
  {
   "cell_type": "markdown",
   "metadata": {},
   "source": [
    "In the cell below, create a Python function that wraps your previous solution for the Bag of Words lab.\n",
    "\n",
    "Requirements:\n",
    "\n",
    "1. Your function should accept the following parameters:\n",
    "    * `docs` [REQUIRED] - array of document paths.\n",
    "    * `stop_words` [OPTIONAL] - array of stop words. The default value is an empty array.\n",
    "\n",
    "1. Your function should return a Python object that contains the following:\n",
    "    * `bag_of_words` - array of strings of normalized unique words in the corpus.\n",
    "    * `term_freq` - array of the term-frequency vectors."
   ]
  },
  {
   "cell_type": "code",
   "execution_count": 1,
   "metadata": {},
   "outputs": [
    {
     "data": {
      "text/plain": [
       "{'bag_of_words': ['is',\n",
       "  'student',\n",
       "  'cool',\n",
       "  'a',\n",
       "  'love',\n",
       "  'i',\n",
       "  'ironhack',\n",
       "  'at',\n",
       "  'am'],\n",
       " 'term_freq': [[1, 0, 1, 0, 0, 0, 1, 0, 0],\n",
       "  [0, 0, 0, 0, 1, 1, 1, 0, 0],\n",
       "  [0, 1, 0, 1, 0, 1, 1, 1, 1]]}"
      ]
     },
     "execution_count": 1,
     "metadata": {},
     "output_type": "execute_result"
    }
   ],
   "source": [
    "# Import required libraries\n",
    "import re\n",
    "# Define function\n",
    "docs = ['doc1.txt', 'doc2.txt', 'doc3.txt']\n",
    "\n",
    "def get_bow_from_docs(docs, stop_words=[]):\n",
    "    corpus = []\n",
    "    bag_of_words = set()\n",
    "    term_freq = []\n",
    "    for doc in docs:\n",
    "        with open(doc, \"r\") as f:\n",
    "            text = f.read()\n",
    "            doc_string = re.split(r'[,\\.\\n\\s]', text)\n",
    "            doc_string_no_spaces = [i.lower() for i in doc_string if i != \"\"]\n",
    "            corpus.append(doc_string_no_spaces)\n",
    "    for vector in corpus:       \n",
    "        for word in vector:\n",
    "            if word not in stop_words:\n",
    "                bag_of_words.add(word)\n",
    "    final_bag_of_words = list(bag_of_words)\n",
    "    for vector in corpus:\n",
    "        vector_freq = []\n",
    "        for word in final_bag_of_words:\n",
    "            vector_freq.append(vector.count(word))\n",
    "        term_freq.append(vector_freq)\n",
    "    return {\n",
    "        \"bag_of_words\": final_bag_of_words,\n",
    "        \"term_freq\": term_freq\n",
    "    }\n",
    "\n",
    "\n",
    "# In the function, first define the variables you will use such as `corpus`, `bag_of_words`, and `term_freq`.\n",
    "\n",
    "    \n",
    "# Now return your output as an object\n",
    "\n",
    "get_bow_from_docs(docs, stop_words=[])"
   ]
  },
  {
   "cell_type": "markdown",
   "metadata": {},
   "source": [
    "Test your function without stop words. You should see the output like below:\n",
    "\n",
    "```{'bag_of_words': ['ironhack', 'is', 'cool', 'i', 'love', 'am', 'a', 'student', 'at'], 'term_freq': [[1, 1, 1, 0, 0, 0, 0, 0, 0], [1, 0, 0, 1, 1, 0, 0, 0, 0], [1, 0, 0, 1, 0, 1, 1, 1, 1]]}```"
   ]
  },
  {
   "cell_type": "code",
   "execution_count": 2,
   "metadata": {},
   "outputs": [
    {
     "name": "stdout",
     "output_type": "stream",
     "text": [
      "{'bag_of_words': ['is', 'student', 'cool', 'a', 'love', 'i', 'ironhack', 'at', 'am'], 'term_freq': [[1, 0, 1, 0, 0, 0, 1, 0, 0], [0, 0, 0, 0, 1, 1, 1, 0, 0], [0, 1, 0, 1, 0, 1, 1, 1, 1]]}\n"
     ]
    }
   ],
   "source": [
    "# Define doc paths array\n",
    "\n",
    "# Obtain BoW from your function\n",
    "bow = get_bow_from_docs(docs, stop_words=[])\n",
    "\n",
    "# Print BoW\n",
    "print(bow)"
   ]
  },
  {
   "cell_type": "markdown",
   "metadata": {},
   "source": [
    "If your attempt above is successful, nice work done!\n",
    "\n",
    "Now test your function again with the stop words. In the previous lab we defined the stop words in a large array. In this lab, we'll import the stop words from Scikit-Learn."
   ]
  },
  {
   "cell_type": "code",
   "execution_count": 3,
   "metadata": {
    "scrolled": false
   },
   "outputs": [
    {
     "name": "stdout",
     "output_type": "stream",
     "text": [
      "frozenset({'however', 'perhaps', 'seems', 'whoever', 'hence', 'ours', 'also', 'almost', 'former', 'onto', 'call', 'wherever', 'enough', 'twenty', 'nothing', 'thick', 'less', 'first', 'more', 'where', 'etc', 'hers', 'move', 'herself', 'have', 'my', 'can', 'whence', 'below', 'thereby', 'what', 'others', 'therefore', 'she', 'of', 'everywhere', 'because', 'get', 'forty', 'after', 'around', 'if', 'myself', 'side', 'cannot', 'namely', 'along', 'i', 'besides', 'bottom', 'amoungst', 'than', 'us', 'become', 'co', 'had', 'being', 'himself', 'whether', 'noone', 'anyone', 'same', 'up', 'always', 'un', 'together', 'bill', 'beside', 'his', 'formerly', 'when', 'him', 'ever', 'within', 'from', 'further', 'nevertheless', 'whose', 'before', 'too', 'most', 'part', 'it', 'down', 'but', 'please', 'six', 'their', 'interest', 'wherein', 'was', 'per', 'sincere', 'beyond', 'by', 'name', 'indeed', 'many', 'been', 'we', 'here', 'ten', 'no', 'the', 'cry', 'these', 'see', 'eight', 'mostly', 'somewhere', 'anything', 'are', 'elsewhere', 'everyone', 'twelve', 'who', 'due', 'both', 'hereafter', 'several', 'nine', 'keep', 'them', 'may', 'none', 'would', 'against', 'sometimes', 'somehow', 'beforehand', 'whereafter', 'top', 'yet', 'upon', 'full', 'could', 'take', 'describe', 'even', 'amongst', 'that', 'own', 'still', 'as', 'above', 'whom', 'already', 'were', 'thereafter', 'yourself', 'find', 'he', 'nor', 'between', 'done', 'cant', 'empty', 'meanwhile', 'whither', 'while', 'fill', 'anywhere', 'with', 'yourselves', 'over', 'serious', 'thin', 'nowhere', 'there', 'until', 'thru', 'every', 'whatever', 'once', 'four', 'during', 'afterwards', 'some', 'became', 'via', 'whole', 'me', 'hereupon', 'nobody', 'so', 'throughout', 'someone', 'those', 'couldnt', 'whereas', 'your', 'go', 'any', 'two', 'at', 'back', 'either', 'has', 'mill', 'seeming', 'least', 'all', 'one', 'our', 'behind', 'something', 'well', 'for', 'again', 'moreover', 'found', 'sixty', 'not', 'eleven', 'seem', 'an', 'you', 'or', 'about', 'amount', 'how', 'thus', 'latterly', 'across', 'through', 'they', 'very', 'inc', 'show', 'alone', 'to', 'this', 'must', 'among', 'will', 'themselves', 'hereby', 'ie', 'fire', 'anyway', 'sometime', 'fifty', 'de', 'front', 'should', 'only', 'then', 'which', 'detail', 'though', 'made', 'three', 'on', 'ltd', 'last', 'itself', 'mine', 'into', 'few', 'her', 'never', 'therein', 'another', 'becomes', 'although', 'under', 'its', 'otherwise', 'yours', 'five', 'am', 'seemed', 'and', 'system', 'other', 'out', 're', 'is', 'con', 'latter', 'often', 'much', 'everything', 'put', 'rather', 'a', 'becoming', 'fifteen', 'each', 'in', 'since', 'thereupon', 'now', 'except', 'else', 'give', 'without', 'whenever', 'why', 'towards', 'might', 'anyhow', 'hasnt', 'ourselves', 'whereby', 'herein', 'eg', 'next', 'do', 'thence', 'off', 'third', 'hundred', 'neither', 'toward', 'such', 'whereupon', 'be'})\n"
     ]
    }
   ],
   "source": [
    "from sklearn.feature_extraction import _stop_words\n",
    "print(_stop_words.ENGLISH_STOP_WORDS)"
   ]
  },
  {
   "cell_type": "markdown",
   "metadata": {},
   "source": [
    "You should have seen a large list of words that looks like:\n",
    "\n",
    "```frozenset({'across', 'mine', 'cannot', ...})```\n",
    "\n",
    "`frozenset` is a type of Python object that is immutable. In this lab you can use it just like an array without conversion."
   ]
  },
  {
   "cell_type": "markdown",
   "metadata": {},
   "source": [
    "Next, test your function with supplying `stop_words.ENGLISH_STOP_WORDS` as the second parameter."
   ]
  },
  {
   "cell_type": "code",
   "execution_count": 4,
   "metadata": {
    "scrolled": true
   },
   "outputs": [
    {
     "name": "stdout",
     "output_type": "stream",
     "text": [
      "{'bag_of_words': ['love', 'student', 'cool', 'ironhack'], 'term_freq': [[0, 0, 1, 1], [1, 0, 0, 1], [0, 1, 0, 1]]}\n"
     ]
    }
   ],
   "source": [
    "bow = get_bow_from_docs(docs, _stop_words.ENGLISH_STOP_WORDS)\n",
    "\n",
    "print(bow)"
   ]
  },
  {
   "cell_type": "markdown",
   "metadata": {},
   "source": [
    "You should have seen:\n",
    "\n",
    "```{'bag_of_words': ['ironhack', 'cool', 'love', 'student'], 'term_freq': [[1, 1, 0, 0], [1, 0, 1, 0], [1, 0, 0, 1]]}```"
   ]
  },
  {
   "cell_type": "markdown",
   "metadata": {},
   "source": [
    "___________________________________________________________________________________________________________________________"
   ]
  }
 ],
 "metadata": {
  "kernelspec": {
   "display_name": "Python 3 (ipykernel)",
   "language": "python",
   "name": "python3"
  },
  "language_info": {
   "codemirror_mode": {
    "name": "ipython",
    "version": 3
   },
   "file_extension": ".py",
   "mimetype": "text/x-python",
   "name": "python",
   "nbconvert_exporter": "python",
   "pygments_lexer": "ipython3",
   "version": "3.9.12"
  }
 },
 "nbformat": 4,
 "nbformat_minor": 2
}
