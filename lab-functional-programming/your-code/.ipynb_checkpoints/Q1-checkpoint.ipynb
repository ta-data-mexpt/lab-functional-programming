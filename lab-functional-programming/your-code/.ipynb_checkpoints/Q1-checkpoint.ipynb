{
 "cells": [
  {
   "cell_type": "markdown",
   "metadata": {},
   "source": [
    "In the cell below, create a Python function that wraps your previous solution for the Bag of Words lab.\n",
    "\n",
    "Requirements:\n",
    "\n",
    "1. Your function should accept the following parameters:\n",
    "    * `docs` [REQUIRED] - array of document paths.\n",
    "    * `stop_words` [OPTIONAL] - array of stop words. The default value is an empty array.\n",
    "\n",
    "1. Your function should return a Python object that contains the following:\n",
    "    * `bag_of_words` - array of strings of normalized unique words in the corpus.\n",
    "    * `term_freq` - array of the term-frequency vectors."
   ]
  },
  {
   "cell_type": "code",
   "execution_count": 22,
   "metadata": {},
   "outputs": [],
   "source": [
    "# Import required libraries\n",
    "import os\n",
    "# Define function\n",
    "def get_bow_from_docs(docs, stop_words=[]):\n",
    "    \n",
    "    # In the function, first define the variables you will use such as `corpus`, `bag_of_words`, and `term_freq`.\n",
    "    corpus=[]\n",
    "    bag_of_words=[]\n",
    "    term_freq=[]\n",
    "    \n",
    "    \"\"\"\n",
    "    Loop `docs` and read the content of each doc into a string in `corpus`.\n",
    "    Remember to convert the doc content to lowercases and remove punctuation.\n",
    "    \"\"\"\n",
    "    for doc in docs:\n",
    "        corpus.append((open(doc,\"r\")).read())\n",
    "    \n",
    "    for i in range (len(corpus)):\n",
    "        corpus[i]=corpus[i].lower().replace(\".\",\"\")\n",
    "    \n",
    "    \"\"\"\n",
    "    Loop `corpus`. Append the terms in each doc into the `bag_of_words` array. The terms in `bag_of_words` \n",
    "    should be unique which means before adding each term you need to check if it's already added to the array.\n",
    "    In addition, check if each term is in the `stop_words` array. Only append the term to `bag_of_words`\n",
    "    if it is not a stop word.\n",
    "    \"\"\"\n",
    "    for phrase in corpus:\n",
    "        words=phrase.split()\n",
    "        for word in words:\n",
    "            if word not in bag_of_words and word not in stop_words:\n",
    "                bag_of_words.append(word)\n",
    "                \n",
    "\n",
    "    \"\"\"\n",
    "    Loop `corpus` again. For each doc string, count the number of occurrences of each term in `bag_of_words`. \n",
    "    Create an array for each doc's term frequency and append it to `term_freq`.\n",
    "    \"\"\"\n",
    "    for prhase in corpus:\n",
    "        words=prhase.split()\n",
    "        lista=[]\n",
    "        for word in bag_of_words:\n",
    "            if word in words:\n",
    "                lista.append(1)\n",
    "            else:\n",
    "                lista.append(0)\n",
    "        term_freq.append(lista)\n",
    "    \n",
    "    \n",
    "    # Now return your output as an object\n",
    "    return {\n",
    "        \"bag_of_words\": bag_of_words,\n",
    "        \"term_freq\": term_freq\n",
    "    }\n",
    "    "
   ]
  },
  {
   "cell_type": "markdown",
   "metadata": {},
   "source": [
    "Test your function without stop words. You should see the output like below:\n",
    "\n",
    "```{'bag_of_words': ['ironhack', 'is', 'cool', 'i', 'love', 'am', 'a', 'student', 'at'], 'term_freq': [[1, 1, 1, 0, 0, 0, 0, 0, 0], [1, 0, 0, 1, 1, 0, 0, 0, 0], [1, 0, 0, 1, 0, 1, 1, 1, 1]]}```"
   ]
  },
  {
   "cell_type": "code",
   "execution_count": 23,
   "metadata": {},
   "outputs": [
    {
     "name": "stdout",
     "output_type": "stream",
     "text": [
      "{'bag_of_words': ['ironhack', 'is', 'cool', 'i', 'love', 'am', 'a', 'student', 'at'], 'term_freq': [[1, 1, 1, 0, 0, 0, 0, 0, 0], [1, 0, 0, 1, 1, 0, 0, 0, 0], [1, 0, 0, 1, 0, 1, 1, 1, 1]]}\n"
     ]
    }
   ],
   "source": [
    "# Define doc paths array\n",
    "docs = [\"doc1.txt\",\"doc2.txt\", \"doc3.txt\"]\n",
    "\n",
    "# Obtain BoW from your function\n",
    "bow = get_bow_from_docs(docs)\n",
    "\n",
    "# Print BoW\n",
    "print(bow)"
   ]
  },
  {
   "cell_type": "markdown",
   "metadata": {},
   "source": [
    "If your attempt above is successful, nice work done!\n",
    "\n",
    "Now test your function again with the stop words. In the previous lab we defined the stop words in a large array. In this lab, we'll import the stop words from Scikit-Learn."
   ]
  },
  {
   "cell_type": "code",
   "execution_count": 33,
   "metadata": {},
   "outputs": [
    {
     "name": "stdout",
     "output_type": "stream",
     "text": [
      "frozenset({'then', 'mine', 'was', 'before', 'about', 'never', 'get', 'namely', 'less', 'in', 'eight', 'few', 'have', 'rather', 'her', 'noone', 'must', 'via', 'should', 'upon', 'how', 'being', 'bill', 'we', 'seem', 'name', 'hereafter', 'became', 'even', 'my', 'none', 'other', 'whom', 'those', 'neither', 'nowhere', 'seemed', 'ever', 'towards', 'him', 'herein', 'when', 'would', 'formerly', 'yours', 'fill', 'cry', 'put', 'bottom', 'nothing', 'fifteen', 'hasnt', 'anyone', 'enough', 'nine', 'con', 'of', 'last', 'inc', 'why', 'nevertheless', 'a', 'after', 'although', 'forty', 'anything', 'beyond', 'alone', 'wherever', 'except', 'only', 'once', 'elsewhere', 'moreover', 'ourselves', 'empty', 'seems', 'ie', 'across', 'through', 'hereby', 'besides', 'am', 'sincere', 'she', 'under', 'every', 'too', 'one', 'if', 'well', 'whereupon', 'by', 'again', 'whoever', 'to', 'meanwhile', 'its', 'hereupon', 'co', 'i', 'any', 'also', 'them', 'therein', 'nobody', 'me', 'latterly', 'thru', 'it', 'another', 'back', 'for', 'so', 'that', 'whole', 'per', 'someone', 'serious', 'might', 'detail', 'whence', 'always', 'ltd', 'whereas', 'become', 'where', 'find', 'therefore', 'these', 'same', 'without', 'whereafter', 'first', 'down', 'least', 'thereby', 'something', 'many', 'ours', 'whose', 'nor', 'third', 'yourselves', 'above', 'can', 'afterwards', 'is', 'be', 'our', 'whither', 'there', 'on', 'into', 'at', 'eg', 'otherwise', 'thin', 'somehow', 'please', 'such', 'as', 'which', 'around', 'hundred', 'no', 'you', 'two', 'whenever', 'who', 'has', 'mostly', 'behind', 'below', 'were', 'thence', 'much', 'latter', 'now', 'thick', 'others', 'due', 'thus', 'un', 'could', 'wherein', 'almost', 'myself', 'found', 'are', 'do', 'full', 'an', 'along', 'either', 'else', 'often', 'until', 'itself', 'becomes', 'top', 'more', 'each', 'fire', 'amoungst', 'somewhere', 'eleven', 'this', 'both', 'not', 'but', 'couldnt', 'most', 'their', 'ten', 'take', 'give', 'may', 'perhaps', 'during', 'yourself', 'had', 'cannot', 'been', 'side', 'anyhow', 'within', 'what', 'while', 'de', 'everyone', 'over', 'mill', 'beside', 'amongst', 'anyway', 'sixty', 'thereafter', 'cant', 'front', 'beforehand', 'indeed', 'with', 'herself', 'show', 'whether', 'his', 'themselves', 'together', 'up', 'onto', 'than', 'go', 'sometime', 'everywhere', 'or', 'three', 'twenty', 'us', 'fifty', 'interest', 'former', 'next', 'system', 'from', 'describe', 're', 'made', 'thereupon', 'himself', 'all', 'against', 'five', 'whereby', 'here', 'though', 'see', 'own', 'among', 'sometimes', 'amount', 'he', 'hers', 'done', 'still', 'call', 'whatever', 'throughout', 'because', 'four', 'will', 'keep', 'since', 'etc', 'your', 'twelve', 'they', 'yet', 'seeming', 'the', 'hence', 'between', 'several', 'toward', 'part', 'six', 'off', 'out', 'everything', 'some', 'already', 'anywhere', 'and', 'further', 'however', 'move', 'very', 'becoming'})\n"
     ]
    }
   ],
   "source": [
    "from sklearn.feature_extraction import _stop_words\n",
    "print(_stop_words.ENGLISH_STOP_WORDS)"
   ]
  },
  {
   "cell_type": "markdown",
   "metadata": {},
   "source": [
    "You should have seen a large list of words that looks like:\n",
    "\n",
    "```frozenset({'across', 'mine', 'cannot', ...})```\n",
    "\n",
    "`frozenset` is a type of Python object that is immutable. In this lab you can use it just like an array without conversion."
   ]
  },
  {
   "cell_type": "markdown",
   "metadata": {},
   "source": [
    "Next, test your function with supplying `stop_words.ENGLISH_STOP_WORDS` as the second parameter."
   ]
  },
  {
   "cell_type": "code",
   "execution_count": 36,
   "metadata": {},
   "outputs": [
    {
     "name": "stdout",
     "output_type": "stream",
     "text": [
      "{'bag_of_words': ['ironhack', 'cool', 'love', 'student'], 'term_freq': [[1, 1, 0, 0], [1, 0, 1, 0], [1, 0, 0, 1]]}\n"
     ]
    }
   ],
   "source": [
    "bow = get_bow_from_docs(docs,_stop_words.ENGLISH_STOP_WORDS )\n",
    "\n",
    "print(bow)"
   ]
  },
  {
   "cell_type": "markdown",
   "metadata": {},
   "source": [
    "You should have seen:\n",
    "\n",
    "```{'bag_of_words': ['ironhack', 'cool', 'love', 'student'], 'term_freq': [[1, 1, 0, 0], [1, 0, 1, 0], [1, 0, 0, 1]]}```"
   ]
  },
  {
   "cell_type": "code",
   "execution_count": null,
   "metadata": {},
   "outputs": [],
   "source": []
  }
 ],
 "metadata": {
  "kernelspec": {
   "display_name": "Python 3",
   "language": "python",
   "name": "python3"
  },
  "language_info": {
   "codemirror_mode": {
    "name": "ipython",
    "version": 3
   },
   "file_extension": ".py",
   "mimetype": "text/x-python",
   "name": "python",
   "nbconvert_exporter": "python",
   "pygments_lexer": "ipython3",
   "version": "3.8.8"
  }
 },
 "nbformat": 4,
 "nbformat_minor": 2
}
