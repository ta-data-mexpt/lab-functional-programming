{
 "cells": [
  {
   "cell_type": "markdown",
   "metadata": {},
   "source": [
    "In the cell below, create a Python function that wraps your previous solution for the Bag of Words lab.\n",
    "\n",
    "Requirements:\n",
    "\n",
    "1. Your function should accept the following parameters:\n",
    "    * `docs` [REQUIRED] - array of document paths.\n",
    "    * `stop_words` [OPTIONAL] - array of stop words. The default value is an empty array.\n",
    "\n",
    "1. Your function should return a Python object that contains the following:\n",
    "    * `bag_of_words` - array of strings of normalized unique words in the corpus.\n",
    "    * `term_freq` - array of the term-frequency vectors."
   ]
  },
  {
   "cell_type": "code",
   "execution_count": 69,
   "metadata": {},
   "outputs": [],
   "source": [
    "# Import required libraries\n",
    "import re\n",
    "\n",
    "# Define function\n",
    "def get_bow_from_docs(docs, stop_words=[]):\n",
    "    \n",
    "    # In the function, first define the variables you will use such as `corpus`, `bag_of_words`, and `term_freq`.\n",
    "    \n",
    "    corpus = []\n",
    "\n",
    "# Write your code here\n",
    "\n",
    "    \n",
    "    \"\"\"\n",
    "    Loop `docs` and read the content of each doc into a string in `corpus`.\n",
    "    Remember to convert the doc content to lowercases and remove punctuation.\n",
    "    \"\"\"\n",
    "    for i in range(len(docs)):\n",
    "        doc1 =[]\n",
    "        doc = open(docs[i], 'r').read()\n",
    "        doc1 = re.findall(r'\\b\\w+\\b', doc.lower())\n",
    "        corpus.append(doc1)\n",
    "    \n",
    "    \"\"\"\n",
    "    Loop `corpus`. Append the terms in each doc into the `bag_of_words` array. The terms in `bag_of_words` \n",
    "    should be unique which means before adding each term you need to check if it's already added to the array.\n",
    "    In addition, check if each term is in the `stop_words` array. Only append the term to `bag_of_words`\n",
    "    if it is not a stop word.\n",
    "    \"\"\"\n",
    "\n",
    "    bag_of_words = list(set([word for doc in corpus for word in doc])-set(stop_words))\n",
    "    \n",
    "    \n",
    "    \"\"\"\n",
    "    Loop `corpus` again. For each doc string, count the number of occurrences of each term in `bag_of_words`. \n",
    "    Create an array for each doc's term frequency and append it to `term_freq`.\n",
    "    \"\"\"\n",
    "    \n",
    "    term_freq = [[1 if word in doc else 0 for word in bag_of_words] for doc in corpus]\n",
    "    \n",
    "    # Now return your output as an object\n",
    "    return {\n",
    "        \"bag_of_words\": bag_of_words,\n",
    "        \"term_freq\": term_freq\n",
    "    }\n",
    "    "
   ]
  },
  {
   "cell_type": "markdown",
   "metadata": {},
   "source": [
    "Test your function without stop words. You should see the output like below:\n",
    "\n",
    "```{'bag_of_words': ['ironhack', 'is', 'cool', 'i', 'love', 'am', 'a', 'student', 'at'], 'term_freq': [[1, 1, 1, 0, 0, 0, 0, 0, 0], [1, 0, 0, 1, 1, 0, 0, 0, 0], [1, 0, 0, 1, 0, 1, 1, 1, 1]]}```"
   ]
  },
  {
   "cell_type": "code",
   "execution_count": 70,
   "metadata": {},
   "outputs": [
    {
     "name": "stdout",
     "output_type": "stream",
     "text": [
      "{'bag_of_words': ['cool', 'is', 'a', 'love', 'i', 'student', 'at', 'ironhack', 'am'], 'term_freq': [[1, 1, 0, 0, 0, 0, 0, 1, 0], [0, 0, 0, 1, 1, 0, 0, 1, 0], [0, 0, 1, 0, 1, 1, 1, 1, 1]]}\n"
     ]
    }
   ],
   "source": [
    "# Define doc paths array\n",
    "docs = ['doc1.txt', 'doc2.txt', 'doc3.txt']\n",
    "\n",
    "# Obtain BoW from your function\n",
    "bow = get_bow_from_docs(docs)\n",
    "\n",
    "# Print BoW\n",
    "print(bow)"
   ]
  },
  {
   "cell_type": "markdown",
   "metadata": {},
   "source": [
    "If your attempt above is successful, nice work done!\n",
    "\n",
    "Now test your function again with the stop words. In the previous lab we defined the stop words in a large array. In this lab, we'll import the stop words from Scikit-Learn."
   ]
  },
  {
   "cell_type": "code",
   "execution_count": 71,
   "metadata": {},
   "outputs": [
    {
     "name": "stdout",
     "output_type": "stream",
     "text": [
      "\u001b[33mDEPRECATION: Python 2.7 reached the end of its life on January 1st, 2020. Please upgrade your Python as Python 2.7 is no longer maintained. pip 21.0 will drop support for Python 2.7 in January 2021. More details about Python 2 support in pip can be found at https://pip.pypa.io/en/latest/development/release-process/#python-2-support pip 21.0 will remove support for this functionality.\u001b[0m\n",
      "Defaulting to user installation because normal site-packages is not writeable\n",
      "Requirement already satisfied: sklearn in /Users/robertomargain/Library/Python/2.7/lib/python/site-packages (0.0)\n",
      "Requirement already satisfied: scikit-learn in /Users/robertomargain/Library/Python/2.7/lib/python/site-packages (from sklearn) (0.20.4)\n",
      "Requirement already satisfied: numpy>=1.8.2 in /Users/robertomargain/Library/Python/2.7/lib/python/site-packages (from scikit-learn->sklearn) (1.16.6)\n",
      "Requirement already satisfied: scipy>=0.13.3 in /Users/robertomargain/Library/Python/2.7/lib/python/site-packages (from scikit-learn->sklearn) (1.2.3)\n",
      "frozenset({'cannot', 'etc', 'whether', 'against', 'mine', 'whence', 'it', 'such', 'wherever', 'go', 'became', 'hence', 'few', 'describe', 'of', 'inc', 'fifty', 'an', 'most', 'along', 'fifteen', 'con', 'two', 'behind', 'us', 'then', 'either', 'found', 'until', 'so', 'had', 'seem', 'whither', 'last', 'she', 'should', 'whom', 'everyone', 'thus', 'everywhere', 'any', 'first', 'thence', 'up', 'per', 'perhaps', 'somehow', 'side', 'nowhere', 'cry', 'through', 'or', 'beside', 're', 'as', 'fire', 'each', 'ours', 'however', 'will', 'whereby', 'none', 'couldnt', 'do', 'no', 'may', 'thick', 'done', 'hereupon', 'further', 'not', 'whereupon', 'call', 'without', 'four', 'namely', 'system', 'hereby', 'about', 'move', 'above', 'made', 'sixty', 'detail', 'nine', 'her', 'sometime', 'on', 'next', 'i', 'whatever', 'has', 'ourselves', 'noone', 'mill', 'when', 'hers', 'both', 'another', 'upon', 'afterwards', 'below', 'you', 'me', 'many', 'latter', 'seemed', 'fill', 'who', 'anyhow', 'why', 'there', 'still', 'towards', 'he', 'empty', 'my', 'see', 'might', 'among', 'become', 'him', 'all', 'other', 'between', 'whenever', 'be', 'ever', 'since', 'thru', 'get', 'back', 'three', 'nor', 'where', 'give', 'once', 'very', 'its', 'what', 'least', 'almost', 'seeming', 'several', 'some', 'besides', 'via', 'this', 'else', 'although', 'moreover', 'around', 'here', 'due', 'show', 'over', 'eleven', 'less', 'formerly', 'am', 'meanwhile', 'twelve', 'are', 'seems', 'for', 'keep', 'which', 'front', 'name', 'anywhere', 'part', 'was', 'eight', 'neither', 'ie', 'within', 'his', 'former', 'herein', 'too', 'by', 'hereafter', 'throughout', 'always', 'out', 'put', 'and', 'how', 'amongst', 'whereafter', 'from', 'can', 'also', 'after', 'off', 'beyond', 'whose', 'bill', 'somewhere', 'mostly', 'could', 'de', 'those', 'something', 'they', 'please', 'five', 'nobody', 'before', 'again', 'under', 'someone', 'one', 'even', 'never', 'full', 'forty', 'nothing', 'the', 'yourselves', 'itself', 'a', 'whereas', 'whoever', 'we', 'in', 'but', 'their', 'un', 'would', 'becomes', 'everything', 'latterly', 'while', 'amoungst', 'myself', 'them', 'rather', 'now', 'anyway', 'themselves', 'nevertheless', 'being', 'himself', 'if', 'own', 'yours', 'six', 'serious', 'becoming', 'beforehand', 'more', 'interest', 'already', 'same', 'anything', 'have', 'often', 'except', 'thereafter', 'enough', 'together', 'indeed', 'sometimes', 'at', 'alone', 'only', 'than', 'sincere', 'onto', 'bottom', 'wherein', 'anyone', 'thin', 'with', 'ten', 'these', 'across', 'to', 'were', 'been', 'therein', 'though', 'much', 'yourself', 'therefore', 'eg', 'hasnt', 'ltd', 'amount', 'thereupon', 'otherwise', 'cant', 'is', 'co', 'twenty', 'during', 'your', 'take', 'toward', 'whole', 'thereby', 'hundred', 'well', 'third', 'find', 'elsewhere', 'every', 'top', 'our', 'yet', 'down', 'into', 'herself', 'because', 'others', 'must', 'that'})\n"
     ]
    }
   ],
   "source": [
    "!pip install sklearn\n",
    "from sklearn.feature_extraction import _stop_words\n",
    "print(_stop_words.ENGLISH_STOP_WORDS)"
   ]
  },
  {
   "cell_type": "markdown",
   "metadata": {},
   "source": [
    "You should have seen a large list of words that looks like:\n",
    "\n",
    "```frozenset({'across', 'mine', 'cannot', ...})```\n",
    "\n",
    "`frozenset` is a type of Python object that is immutable. In this lab you can use it just like an array without conversion."
   ]
  },
  {
   "cell_type": "markdown",
   "metadata": {},
   "source": [
    "Next, test your function with supplying `stop_words.ENGLISH_STOP_WORDS` as the second parameter."
   ]
  },
  {
   "cell_type": "code",
   "execution_count": 72,
   "metadata": {},
   "outputs": [
    {
     "name": "stdout",
     "output_type": "stream",
     "text": [
      "{'bag_of_words': ['cool', 'ironhack', 'student', 'love'], 'term_freq': [[1, 1, 0, 0], [0, 1, 0, 1], [0, 1, 1, 0]]}\n"
     ]
    }
   ],
   "source": [
    "bow = get_bow_from_docs(docs, _stop_words.ENGLISH_STOP_WORDS)\n",
    "\n",
    "print(bow)"
   ]
  },
  {
   "cell_type": "markdown",
   "metadata": {},
   "source": [
    "You should have seen:\n",
    "\n",
    "```{'bag_of_words': ['ironhack', 'cool', 'love', 'student'], 'term_freq': [[1, 1, 0, 0], [1, 0, 1, 0], [1, 0, 0, 1]]}```"
   ]
  },
  {
   "cell_type": "code",
   "execution_count": null,
   "metadata": {},
   "outputs": [],
   "source": []
  }
 ],
 "metadata": {
  "kernelspec": {
   "display_name": "Python 3 (ipykernel)",
   "language": "python",
   "name": "python3"
  },
  "language_info": {
   "codemirror_mode": {
    "name": "ipython",
    "version": 3
   },
   "file_extension": ".py",
   "mimetype": "text/x-python",
   "name": "python",
   "nbconvert_exporter": "python",
   "pygments_lexer": "ipython3",
   "version": "3.9.7"
  }
 },
 "nbformat": 4,
 "nbformat_minor": 2
}
