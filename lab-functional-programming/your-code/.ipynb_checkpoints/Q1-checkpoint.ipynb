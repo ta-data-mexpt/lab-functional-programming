{
 "cells": [
  {
   "cell_type": "markdown",
   "metadata": {},
   "source": [
    "In the cell below, create a Python function that wraps your previous solution for the Bag of Words lab.\n",
    "\n",
    "Requirements:\n",
    "\n",
    "1. Your function should accept the following parameters:\n",
    "    * `docs` [REQUIRED] - array of document paths.\n",
    "    * `stop_words` [OPTIONAL] - array of stop words. The default value is an empty array.\n",
    "\n",
    "1. Your function should return a Python object that contains the following:\n",
    "    * `bag_of_words` - array of strings of normalized unique words in the corpus.\n",
    "    * `term_freq` - array of the term-frequency vectors."
   ]
  },
  {
   "cell_type": "code",
   "execution_count": 87,
   "metadata": {},
   "outputs": [],
   "source": [
    "\n",
    "# Import required libraries\n",
    "import numpy as np\n",
    "import pandas as pd\n",
    "# Define function\n",
    "def get_bow_from_docs(docs, stop_words=[]):\n",
    "    \n",
    "    # In the function, first define the variables you will use such as `corpus`, `bag_of_words`, and `term_freq`.\n",
    "    \n",
    "    \"\"\"\n",
    "    Loop `docs` and read the content of each doc into a string in `corpus`.\n",
    "    Remember to convert the doc content to lowercases and remove punctuation.\n",
    "    \"\"\"\n",
    "    corpus=[]\n",
    "    for doc in docs:\n",
    "        corpus.append((open(doc,'r')).read())\n",
    "    \n",
    "\n",
    "    corpus = [x.strip('\\n').strip('.').lower() for x in corpus]\n",
    "\n",
    "   \n",
    "\n",
    "\n",
    "    \n",
    "    \n",
    "    \"\"\"\n",
    "    Loop `corpus`. Append the terms in each doc into the `bag_of_words` array. The terms in `bag_of_words` \n",
    "    should be unique which means before adding each term you need to check if it's already added to the array.\n",
    "    In addition, check if each term is in the `stop_words` array. Only append the term to `bag_of_words`\n",
    "    if it is not a stop word.\n",
    "    \"\"\"\n",
    "    bag_of_words = [] \n",
    "    for frace in corpus:\n",
    "        for word in frace.split():\n",
    "            if word not in bag_of_words:\n",
    "                if word not in stop_words:\n",
    "                    bag_of_words.append(word)\n",
    "        \n",
    "\n",
    "    \n",
    "    \n",
    "    \n",
    "    \"\"\"\n",
    "    Loop `corpus` again. For each doc string, count the number of occurrences of each term in `bag_of_words`. \n",
    "    Create an array for each doc's term frequency and append it to `term_freq`.\n",
    "    \"\"\"\n",
    "    term_freq =[]\n",
    "\n",
    "    for fraces in corpus:\n",
    "    \n",
    "        lista =[]\n",
    "        words = fraces.split()\n",
    "    \n",
    "        for word in bag_of_words:\n",
    "            lista.append(words.count(word))\n",
    "    \n",
    "        term_freq.append(lista)\n",
    "\n",
    "\n",
    "\n",
    "    \n",
    "    \n",
    "    # Now return your output as an object\n",
    "    return {\n",
    "        \"bag_of_words\": bag_of_words,\n",
    "        \"term_freq\": term_freq\n",
    "    }\n",
    "\n",
    "#docs = ['doc1.txt','doc2.txt','doc3.txt']\n",
    "\n",
    "#prueba1= get_bow_from_docs(docs)\n",
    "\n",
    "#print(prueba1)\n",
    "    "
   ]
  },
  {
   "cell_type": "markdown",
   "metadata": {},
   "source": [
    "Test your function without stop words. You should see the output like below:\n",
    "\n",
    "```{'bag_of_words': ['ironhack', 'is', 'cool', 'i', 'love', 'am', 'a', 'student', 'at'], 'term_freq': [[1, 1, 1, 0, 0, 0, 0, 0, 0], [1, 0, 0, 1, 1, 0, 0, 0, 0], [1, 0, 0, 1, 0, 1, 1, 1, 1]]}```"
   ]
  },
  {
   "cell_type": "code",
   "execution_count": 88,
   "metadata": {},
   "outputs": [
    {
     "name": "stdout",
     "output_type": "stream",
     "text": [
      "{'bag_of_words': ['ironhack', 'is', 'cool', 'i', 'love', 'am', 'a', 'student', 'at'], 'term_freq': [[1, 1, 1, 0, 0, 0, 0, 0, 0], [1, 0, 0, 1, 1, 0, 0, 0, 0], [1, 0, 0, 1, 0, 1, 1, 1, 1]]}\n"
     ]
    }
   ],
   "source": [
    "# Define doc paths array\n",
    "docs = ['doc1.txt','doc2.txt','doc3.txt']\n",
    "\n",
    "# Obtain BoW from your function\n",
    "bow = get_bow_from_docs(docs)\n",
    "\n",
    "# Print BoW\n",
    "print(bow)"
   ]
  },
  {
   "cell_type": "markdown",
   "metadata": {},
   "source": [
    "If your attempt above is successful, nice work done!\n",
    "\n",
    "Now test your function again with the stop words. In the previous lab we defined the stop words in a large array. In this lab, we'll import the stop words from Scikit-Learn."
   ]
  },
  {
   "cell_type": "code",
   "execution_count": 89,
   "metadata": {},
   "outputs": [
    {
     "name": "stdout",
     "output_type": "stream",
     "text": [
      "frozenset({'none', 'her', 'somehow', 'thereby', 'show', 'amoungst', 'still', 'never', 'whom', 'neither', 'am', 'elsewhere', 'bottom', 'con', 'if', 'beside', 'any', 'put', 'becomes', 'perhaps', 'but', 'until', 'among', 'move', 'itself', 'fire', 'everything', 'what', 'therefore', 'anyone', 'forty', 'herself', 'cannot', 'in', 'back', 'sincere', 'was', 'the', 'himself', 'hers', 'latter', 'six', 'afterwards', 'ltd', 'anyhow', 'nine', 'already', 'along', 'might', 'to', 'former', 'now', 'besides', 'those', 'two', 'mill', 'such', 'fifteen', 'were', 'through', 'his', 'against', 'few', 'a', 'hence', 'cry', 'system', 'nowhere', 'out', 'most', 'we', 'should', 'when', 'can', 'ie', 'around', 'on', 'however', 'first', 'less', 'five', 'its', 'every', 'together', 'because', 'same', 'rather', 'enough', 'un', 'fifty', 'without', 'yet', 'except', 'yourselves', 'go', 'that', 'find', 'noone', 'else', 'thus', 'whenever', 'someone', 'other', 'why', 'so', 'indeed', 'least', 'is', 'call', 'serious', 'yours', 'though', 'somewhere', 'have', 'thru', 'towards', 'being', 'fill', 'whence', 'eg', 'almost', 'via', 'beforehand', 'seemed', 'moreover', 'she', 'amount', 'behind', 'with', 'seems', 'keep', 'whatever', 'very', 'within', 'everyone', 'i', 'hereby', 'it', 'since', 'will', 'ever', 'detail', 'must', 'wherever', 'meanwhile', 'made', 'which', 'alone', 'bill', 'much', 'could', 'how', 'empty', 'twenty', 'full', 'where', 'their', 'you', 'sometime', 'hereupon', 'these', 'inc', 'an', 'below', 'one', 'thereupon', 'us', 'twelve', 'yourself', 'no', 'under', 'please', 'nevertheless', 'anyway', 'always', 'hasnt', 'my', 'would', 'others', 'by', 'he', 'each', 'off', 'seem', 'into', 'your', 'ten', 'also', 'anywhere', 'thence', 'ours', 'further', 'all', 'before', 'hereafter', 'whither', 'this', 'top', 'well', 'themselves', 'whoever', 'own', 'sometimes', 'who', 'although', 'mine', 'de', 'or', 'give', 'even', 'him', 'while', 'been', 'ourselves', 'become', 'only', 'at', 'and', 'due', 'thereafter', 'for', 'everywhere', 'me', 'cant', 'above', 'here', 're', 'do', 'whereby', 'than', 'sixty', 'has', 'many', 'couldnt', 'our', 'nobody', 'name', 'not', 'as', 'mostly', 'they', 'them', 'more', 'upon', 'thin', 'get', 'across', 'three', 'over', 'front', 'either', 'becoming', 'wherein', 'after', 'during', 'anything', 'etc', 'whereafter', 'eight', 'whole', 'describe', 'interest', 'otherwise', 'then', 'nothing', 'from', 'up', 'another', 'whereupon', 'are', 'once', 'several', 'third', 'amongst', 'take', 'about', 'between', 'beyond', 'thick', 'something', 'of', 'onto', 'done', 'down', 'hundred', 'often', 'namely', 'both', 'herein', 'throughout', 'seeming', 'latterly', 'last', 'found', 'there', 'became', 'too', 'co', 'eleven', 'side', 'had', 'formerly', 'therein', 'toward', 'per', 'see', 'whose', 'four', 'may', 'whether', 'be', 'next', 'some', 'myself', 'again', 'whereas', 'part', 'nor'})\n"
     ]
    }
   ],
   "source": [
    "from sklearn.feature_extraction import _stop_words\n",
    "print(_stop_words.ENGLISH_STOP_WORDS)"
   ]
  },
  {
   "cell_type": "code",
   "execution_count": null,
   "metadata": {},
   "outputs": [],
   "source": []
  },
  {
   "cell_type": "markdown",
   "metadata": {},
   "source": [
    "You should have seen a large list of words that looks like:\n",
    "\n",
    "```frozenset({'across', 'mine', 'cannot', ...})```\n",
    "\n",
    "`frozenset` is a type of Python object that is immutable. In this lab you can use it just like an array without conversion."
   ]
  },
  {
   "cell_type": "markdown",
   "metadata": {},
   "source": [
    "Next, test your function with supplying `stop_words.ENGLISH_STOP_WORDS` as the second parameter."
   ]
  },
  {
   "cell_type": "code",
   "execution_count": 90,
   "metadata": {},
   "outputs": [
    {
     "name": "stdout",
     "output_type": "stream",
     "text": [
      "{'bag_of_words': ['ironhack', 'cool', 'love', 'student'], 'term_freq': [[1, 1, 0, 0], [1, 0, 1, 0], [1, 0, 0, 1]]}\n"
     ]
    }
   ],
   "source": [
    "docs = ['doc1.txt','doc2.txt','doc3.txt']\n",
    "bow = get_bow_from_docs(docs, _stop_words.ENGLISH_STOP_WORDS)\n",
    "\n",
    "print(bow)"
   ]
  },
  {
   "cell_type": "markdown",
   "metadata": {},
   "source": [
    "You should have seen:\n",
    "\n",
    "```{'bag_of_words': ['ironhack', 'cool', 'love', 'student'], 'term_freq': [[1, 1, 0, 0], [1, 0, 1, 0], [1, 0, 0, 1]]}```"
   ]
  },
  {
   "cell_type": "code",
   "execution_count": null,
   "metadata": {},
   "outputs": [],
   "source": []
  }
 ],
 "metadata": {
  "kernelspec": {
   "display_name": "Python 3 (ipykernel)",
   "language": "python",
   "name": "python3"
  },
  "language_info": {
   "codemirror_mode": {
    "name": "ipython",
    "version": 3
   },
   "file_extension": ".py",
   "mimetype": "text/x-python",
   "name": "python",
   "nbconvert_exporter": "python",
   "pygments_lexer": "ipython3",
   "version": "3.9.12"
  }
 },
 "nbformat": 4,
 "nbformat_minor": 2
}
