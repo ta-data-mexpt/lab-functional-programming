{
 "cells": [
  {
   "cell_type": "markdown",
   "metadata": {},
   "source": [
    "In the cell below, create a Python function that wraps your previous solution for the Bag of Words lab.\n",
    "\n",
    "Requirements:\n",
    "\n",
    "1. Your function should accept the following parameters:\n",
    "    * `docs` [REQUIRED] - array of document paths.\n",
    "    * `stop_words` [OPTIONAL] - array of stop words. The default value is an empty array.\n",
    "\n",
    "1. Your function should return a Python object that contains the following:\n",
    "    * `bag_of_words` - array of strings of normalized unique words in the corpus.\n",
    "    * `term_freq` - array of the term-frequency vectors."
   ]
  },
  {
   "cell_type": "code",
   "execution_count": null,
   "metadata": {},
   "outputs": [],
   "source": []
  },
  {
   "cell_type": "code",
   "execution_count": 10,
   "metadata": {},
   "outputs": [
    {
     "data": {
      "text/plain": [
       "{'bag_of_words': ['ironhack',\n",
       "  'is',\n",
       "  'cool.',\n",
       "  'i',\n",
       "  'love',\n",
       "  'ironhack.',\n",
       "  'am',\n",
       "  'a',\n",
       "  'student',\n",
       "  'at'],\n",
       " 'term_freq': [[0, 0, 0, 1, 0, 1, 1, 1, 1, 1],\n",
       "  [0, 0, 0, 1, 0, 1, 1, 1, 1, 1],\n",
       "  [0, 0, 0, 1, 0, 1, 1, 1, 1, 1],\n",
       "  [0, 0, 0, 1, 0, 1, 1, 1, 1, 1],\n",
       "  [0, 0, 0, 1, 0, 1, 1, 1, 1, 1],\n",
       "  [0, 0, 0, 1, 0, 1, 1, 1, 1, 1],\n",
       "  [0, 0, 0, 1, 0, 1, 1, 1, 1, 1],\n",
       "  [0, 0, 0, 1, 0, 1, 1, 1, 1, 1],\n",
       "  [0, 0, 0, 1, 0, 1, 1, 1, 1, 1],\n",
       "  [0, 0, 0, 1, 0, 1, 1, 1, 1, 1]]}"
      ]
     },
     "execution_count": 10,
     "metadata": {},
     "output_type": "execute_result"
    }
   ],
   "source": [
    "# Import required libraries\n",
    "\n",
    "# Define function\n",
    "def get_bow_from_docs(docs , stop_words=[]):\n",
    "    \n",
    "    docs = ['doc1.txt', 'doc2.txt', 'doc3.txt']\n",
    "    \n",
    "    # In the function, first define the variables you will use such as `corpus`, `bag_of_words`, and `term_freq`.\n",
    "    corpus = []\n",
    "\n",
    "    for doc in docs:\n",
    "            corpus.append((open(doc,'r')).read())\n",
    "        \n",
    "    corpus = [x.strip('.').lower() for x in corpus]\n",
    "    \n",
    "    \n",
    "    \n",
    "    \"\"\"\n",
    "    Loop `docs` and read the content of each doc into a string in `corpus`.\n",
    "    Remember to convert the doc content to lowercases and remove punctuation.\n",
    "    \"\"\"\n",
    "\n",
    "    bag_of_words = []\n",
    "    \n",
    "    \"\"\"\n",
    "    Loop `corpus`. Append the terms in each doc into the `bag_of_words` array. The terms in `bag_of_words` \n",
    "    should be unique which means before adding each term you need to check if it's already added to the array.\n",
    "    In addition, check if each term is in the `stop_words` array. Only append the term to `bag_of_words`\n",
    "    if it is not a stop word.\n",
    "    \"\"\"\n",
    "\n",
    "    for phrase in corpus:\n",
    "        for word in phrase.split():\n",
    "            if word not in bag_of_words:\n",
    "                \n",
    "                bag_of_words.append(word)\n",
    "    \n",
    "    \n",
    "    \"\"\"\n",
    "    Loop `corpus` again. For each doc string, count the number of occurrences of each term in `bag_of_words`. \n",
    "    Create an array for each doc's term frequency and append it to `term_freq`.\n",
    "    \"\"\"\n",
    "    term_freq = []\n",
    "    for phrase in corpus:\n",
    "\n",
    "        lista = []\n",
    "        words = phrase.split()\n",
    "\n",
    "    for word in bag_of_words:\n",
    "        lista.append(words.count(word))\n",
    "    \n",
    "        term_freq.append(lista)\n",
    "    \n",
    "\n",
    "    \n",
    "    # Now return your output as an object\n",
    "    return {\n",
    "        \"bag_of_words\": bag_of_words,\n",
    "        \"term_freq\": term_freq\n",
    "    }\n",
    "    \n",
    "get_bow_from_docs(docs , stop_words=[])"
   ]
  },
  {
   "cell_type": "markdown",
   "metadata": {},
   "source": [
    "Test your function without stop words. You should see the output like below:\n",
    "\n",
    "```{'bag_of_words': ['ironhack', 'is', 'cool', 'i', 'love', 'am', 'a', 'student', 'at'], 'term_freq': [[1, 1, 1, 0, 0, 0, 0, 0, 0], [1, 0, 0, 1, 1, 0, 0, 0, 0], [1, 0, 0, 1, 0, 1, 1, 1, 1]]}```"
   ]
  },
  {
   "cell_type": "code",
   "execution_count": null,
   "metadata": {},
   "outputs": [],
   "source": [
    "# Define doc paths array\n",
    "docs = []\n",
    "\n",
    "# Obtain BoW from your function\n",
    "bow = get_bow_from_docs(docs)\n",
    "\n",
    "# Print BoW\n",
    "print(bow)"
   ]
  },
  {
   "cell_type": "markdown",
   "metadata": {},
   "source": [
    "If your attempt above is successful, nice work done!\n",
    "\n",
    "Now test your function again with the stop words. In the previous lab we defined the stop words in a large array. In this lab, we'll import the stop words from Scikit-Learn."
   ]
  },
  {
   "cell_type": "code",
   "execution_count": 5,
   "metadata": {},
   "outputs": [
    {
     "name": "stdout",
     "output_type": "stream",
     "text": [
      "frozenset({'get', 'whereas', 'had', 'name', 'where', 'afterwards', 'one', 'around', 'fifteen', 'such', 'anywhere', 'once', 'a', 'will', 'bottom', 'onto', 'am', 'my', 'latterly', 'first', 'be', 'between', 'about', 'them', 'they', 'during', 'else', 'hereafter', 'him', 'yet', 'many', 'cannot', 'whose', 'always', 'she', 'rather', 'detail', 'ltd', 'co', 'seeming', 'someone', 'of', 'throughout', 'three', 'at', 'if', 'in', 'for', 'we', 'was', 'least', 'your', 'over', 'must', 'whereby', 'otherwise', 'after', 'hereupon', 'ourselves', 'why', 'an', 'five', 'empty', 'again', 'me', 'nobody', 'interest', 'along', 'elsewhere', 'others', 'some', 'although', 'much', 'together', 'thick', 'beyond', 'before', 'against', 'above', 'as', 'ever', 'put', 'then', 'that', 'those', 'these', 'becoming', 'has', 'hence', 'become', 'us', 'the', 'anything', 'there', 'would', 'ours', 'because', 'thereupon', 'and', 'already', 'became', 'front', 'well', 'show', 'hereby', 'nine', 'ten', 'most', 'i', 'fill', 'somewhere', 'wherein', 'with', 'found', 'via', 'thence', 'itself', 'latter', 'towards', 'being', 'whatever', 'either', 'his', 'per', 'less', 'himself', 'when', 'few', 'mine', 'thus', 'twelve', 'our', 'whole', 'which', 'de', 'hers', 'to', 'without', 'con', 'further', 'side', 'alone', 'mostly', 'therein', 'often', 'done', 'only', 'somehow', 'other', 'anyhow', 'four', 'can', 'hundred', 'neither', 'might', 'whither', 'forty', 'move', 'none', 'not', 'you', 'everyone', 'couldnt', 'every', 'thereafter', 'through', 'do', 'third', 'call', 'among', 'nowhere', 'own', 'except', 'no', 'keep', 'within', 'besides', 'mill', 'is', 'whether', 'six', 'whence', 'nevertheless', 'what', 'behind', 'but', 'amoungst', 'ie', 'something', 'themselves', 'another', 'into', 'inc', 'amongst', 'he', 'twenty', 'from', 'everything', 'yours', 'top', 'now', 'thereby', 'see', 'their', 'next', 'whereafter', 'bill', 'have', 'indeed', 'myself', 'becomes', 'since', 'while', 'also', 'however', 'though', 'whenever', 'go', 'how', 'amount', 'are', 'wherever', 'serious', 'here', 'meanwhile', 'were', 'beside', 'out', 'seemed', 'perhaps', 'all', 'more', 'fire', 'hasnt', 'anyone', 'any', 'herself', 'who', 'below', 'former', 'may', 'never', 'still', 'full', 'describe', 'cant', 'enough', 'several', 'both', 'fifty', 'therefore', 'until', 'been', 'un', 'noone', 'sincere', 'two', 'toward', 'so', 'thru', 'everywhere', 'under', 'due', 'etc', 'seems', 'eight', 'too', 'sometimes', 'formerly', 'each', 'by', 'this', 'its', 'sometime', 'take', 'eleven', 'down', 'part', 'off', 'made', 'on', 'last', 'nothing', 'almost', 'whom', 'her', 'same', 'give', 'across', 'than', 'moreover', 'namely', 'yourselves', 'up', 'thin', 'should', 'upon', 'back', 'beforehand', 'eg', 'nor', 'it', 'very', 'sixty', 'whoever', 'find', 'whereupon', 'anyway', 'system', 'herein', 'please', 'seem', 'yourself', 'could', 're', 'even', 'cry', 'or'})\n"
     ]
    }
   ],
   "source": [
    "from sklearn.feature_extraction import _stop_words\n",
    "print(_stop_words.ENGLISH_STOP_WORDS)"
   ]
  },
  {
   "cell_type": "markdown",
   "metadata": {},
   "source": [
    "You should have seen a large list of words that looks like:\n",
    "\n",
    "```frozenset({'across', 'mine', 'cannot', ...})```\n",
    "\n",
    "`frozenset` is a type of Python object that is immutable. In this lab you can use it just like an array without conversion."
   ]
  },
  {
   "cell_type": "markdown",
   "metadata": {},
   "source": [
    "Next, test your function with supplying `stop_words.ENGLISH_STOP_WORDS` as the second parameter."
   ]
  },
  {
   "cell_type": "code",
   "execution_count": 15,
   "metadata": {},
   "outputs": [
    {
     "name": "stdout",
     "output_type": "stream",
     "text": [
      "{'bag_of_words': ['ironhack', 'is', 'cool.', 'i', 'love', 'ironhack.', 'am', 'a', 'student', 'at'], 'term_freq': [[0, 0, 0, 1, 0, 1, 1, 1, 1, 1], [0, 0, 0, 1, 0, 1, 1, 1, 1, 1], [0, 0, 0, 1, 0, 1, 1, 1, 1, 1], [0, 0, 0, 1, 0, 1, 1, 1, 1, 1], [0, 0, 0, 1, 0, 1, 1, 1, 1, 1], [0, 0, 0, 1, 0, 1, 1, 1, 1, 1], [0, 0, 0, 1, 0, 1, 1, 1, 1, 1], [0, 0, 0, 1, 0, 1, 1, 1, 1, 1], [0, 0, 0, 1, 0, 1, 1, 1, 1, 1], [0, 0, 0, 1, 0, 1, 1, 1, 1, 1]]}\n"
     ]
    }
   ],
   "source": [
    "def get_bow_from_docs(docs , _stop_words=[]):\n",
    "    \n",
    "    docs = ['doc1.txt', 'doc2.txt', 'doc3.txt']\n",
    "    \n",
    "    # In the function, first define the variables you will use such as `corpus`, `bag_of_words`, and `term_freq`.\n",
    "    corpus = []\n",
    "\n",
    "    for doc in docs:\n",
    "            corpus.append((open(doc,'r')).read())\n",
    "        \n",
    "    corpus = [x.strip('.').lower() for x in corpus]\n",
    "    \n",
    "    \n",
    "    \n",
    "    \"\"\"\n",
    "    Loop `docs` and read the content of each doc into a string in `corpus`.\n",
    "    Remember to convert the doc content to lowercases and remove punctuation.\n",
    "    \"\"\"\n",
    "\n",
    "    bag_of_words = []\n",
    "    \n",
    "    \"\"\"\n",
    "    Loop `corpus`. Append the terms in each doc into the `bag_of_words` array. The terms in `bag_of_words` \n",
    "    should be unique which means before adding each term you need to check if it's already added to the array.\n",
    "    In addition, check if each term is in the `stop_words` array. Only append the term to `bag_of_words`\n",
    "    if it is not a stop word.\n",
    "    \"\"\"\n",
    "\n",
    "    for phrase in corpus:\n",
    "        for word in phrase.split():\n",
    "            if word not in bag_of_words:\n",
    "                \n",
    "                bag_of_words.append(word)\n",
    "    \n",
    "    \n",
    "    \"\"\"\n",
    "    Loop `corpus` again. For each doc string, count the number of occurrences of each term in `bag_of_words`. \n",
    "    Create an array for each doc's term frequency and append it to `term_freq`.\n",
    "    \"\"\"\n",
    "    term_freq = []\n",
    "    for phrase in corpus:\n",
    "\n",
    "        lista = []\n",
    "        words = phrase.split()\n",
    "\n",
    "    for word in bag_of_words:\n",
    "        lista.append(words.count(word))\n",
    "    \n",
    "        term_freq.append(lista)\n",
    "    \n",
    "\n",
    "    \n",
    "    # Now return your output as an object\n",
    "    return {\n",
    "        \"bag_of_words\": bag_of_words,\n",
    "        \"term_freq\": term_freq\n",
    "    }\n",
    "    \n",
    "\n",
    "bow = ['ironhack','is','cool.', 'i','love','ironhack.','am','a','student','at']\n",
    "\n",
    "\n",
    "bow = get_bow_from_docs(bow, _stop_words.ENGLISH_STOP_WORDS)\n",
    "\n",
    "print(bow)"
   ]
  },
  {
   "cell_type": "markdown",
   "metadata": {},
   "source": [
    "You should have seen:\n",
    "\n",
    "```{'bag_of_words': ['ironhack', 'cool', 'love', 'student'], 'term_freq': [[1, 1, 0, 0], [1, 0, 1, 0], [1, 0, 0, 1]]}```"
   ]
  },
  {
   "cell_type": "code",
   "execution_count": null,
   "metadata": {},
   "outputs": [],
   "source": []
  }
 ],
 "metadata": {
  "kernelspec": {
   "display_name": "Python 3 (ipykernel)",
   "language": "python",
   "name": "python3"
  },
  "language_info": {
   "codemirror_mode": {
    "name": "ipython",
    "version": 3
   },
   "file_extension": ".py",
   "mimetype": "text/x-python",
   "name": "python",
   "nbconvert_exporter": "python",
   "pygments_lexer": "ipython3",
   "version": "3.9.12"
  }
 },
 "nbformat": 4,
 "nbformat_minor": 4
}
