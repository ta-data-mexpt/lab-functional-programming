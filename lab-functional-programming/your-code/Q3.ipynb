{
 "cells": [
  {
   "cell_type": "markdown",
   "metadata": {},
   "source": [
    "**Lambda** is a special Python function type that is **anonymous**. By *anonymous* it means a lambda function does not have name. Lambda functions are embedded inside codes so that you don't call them like calling regular Python functions.\n",
    "\n",
    "**`Map`** applies a function to all the items in an input list. The function that is applied can be a standard or a lambda function.\n",
    "\n",
    "For instance, below is an example of multiplying number tuples in a list:"
   ]
  },
  {
   "cell_type": "code",
   "execution_count": 1,
   "metadata": {},
   "outputs": [
    {
     "data": {
      "text/plain": [
       "[2, 12, 30]"
      ]
     },
     "execution_count": 1,
     "metadata": {},
     "output_type": "execute_result"
    }
   ],
   "source": [
    "items = [(1,2), (3,4), (5,6)]\n",
    "\n",
    "def multiply(num_tuple):\n",
    "    return num_tuple[0]*num_tuple[1]\n",
    "list(map(multiply, items))"
   ]
  },
  {
   "cell_type": "markdown",
   "metadata": {},
   "source": [
    "...is the same as:"
   ]
  },
  {
   "cell_type": "code",
   "execution_count": 2,
   "metadata": {},
   "outputs": [
    {
     "data": {
      "text/plain": [
       "[2, 12, 30]"
      ]
     },
     "execution_count": 2,
     "metadata": {},
     "output_type": "execute_result"
    }
   ],
   "source": [
    "items = [(1,2), (3,4), (5,6)]\n",
    "list(map(lambda item: item[0]*item[1], items))"
   ]
  },
  {
   "cell_type": "markdown",
   "metadata": {},
   "source": [
    "Why do we sometimes use `lambda` and `map`? Because, as you see in the example above, they make your code really concise by combining 3 lines of code to 1 line.\n",
    "\n",
    "Besides `map`, there is also **`filter`** that selectively returns elements in an array according to whether you return `True`. There is also **`reduce`** that performs computation on a list of items then returns result.\n",
    "\n",
    "Here is a [good tutorial](http://book.pythontips.com/en/latest/map_filter.html) about `map`, `filter`, and `reduce`. Read it if you are not familiar with how they are used. Then proceed to the next cell."
   ]
  },
  {
   "cell_type": "markdown",
   "metadata": {},
   "source": [
    "In the next cell, use `filter` and `lambda` to return a list that contains positive numbers only. The output should be:\n",
    "\n",
    "```[1, 4, 5]```"
   ]
  },
  {
   "cell_type": "code",
   "execution_count": 3,
   "metadata": {},
   "outputs": [
    {
     "name": "stdout",
     "output_type": "stream",
     "text": [
      "[1, 4, 5]\n"
     ]
    }
   ],
   "source": [
    "numbers = [1, 4, -1, -100, 0, 5, -99]\n",
    "\n",
    "# Enter your code below\n",
    "print(list(filter(lambda x: x>0,numbers)))"
   ]
  },
  {
   "cell_type": "markdown",
   "metadata": {},
   "source": [
    "Next, use `reduce` and `lambda` to return a string that only contains English terms. The English terms are separated with a whitespace ` `.\n",
    "\n",
    "Hints: \n",
    "\n",
    "* If your Jupyter Notebook cannot import `langdetect`, you need to install it with `pip install langdetect`. If Jupyter Notebook still cannot find the library, try install with `python3 -m pip install langdetect`. This is because you need to install `langdetect` in the same Python run environment where Jupyter Notebook is running.\n",
    "\n",
    "* If a word is English, `langdetect.detect(word)=='en'` will return `True`.\n",
    "\n",
    "Your output should read:\n",
    "\n",
    "```'good morning everyone'```"
   ]
  },
  {
   "cell_type": "code",
   "execution_count": 4,
   "metadata": {},
   "outputs": [
    {
     "name": "stdout",
     "output_type": "stream",
     "text": [
      "good morning everyone\n"
     ]
    }
   ],
   "source": [
    "import re\n",
    "import langdetect\n",
    "from functools import reduce\n",
    "words = ['good morning', '早上好', 'доброго', 'おはようございます', 'everyone', '大家', 'каждый', 'みんな']\n",
    "\n",
    "# Enter your code below\n",
    "# just_en returns word if and only if it is in english\n",
    "just_en=lambda x: x if 'en' in re.findall('en',str(langdetect.detect_langs(x))) else None \n",
    "join =lambda x,y:x+\" \"+y\n",
    "# Double try reduces chances of failure almost to 0\n",
    "try1=reduce(join,filter(just_en,words))\n",
    "try2=reduce(join,filter(just_en,words))\n",
    "result=[x for x in try1 or x in try2]\n",
    "print(\"\".join(result))"
   ]
  },
  {
   "cell_type": "markdown",
   "metadata": {},
   "source": [
    "# Bonus Question"
   ]
  },
  {
   "cell_type": "markdown",
   "metadata": {},
   "source": [
    "Finally, if you still have time, convert your response in Q2 by using `lambda`, `map`, `filter`, or `reduce` where applicable. Enter your function in the cell below.\n",
    "\n",
    "As you write Python functions, generally you don't want to make your function too long. Long functions are difficult to read and difficult to debug. If a function is getting too long, consider breaking it into sever shorter functions where the main function calls other functions. If anything goes wrong, you can output debug messages in each of the functions to check where exactly the error is."
   ]
  },
  {
   "cell_type": "code",
   "execution_count": 237,
   "metadata": {},
   "outputs": [],
   "source": [
    "import re\n",
    "\n",
    "# Same function as in Q2 using lambdas, map, filter, reduce where possible\n",
    "def get_bow_from_docs(docs, stop_words=[]):\n",
    "    # In the function, first define the variables you will use such as `corpus`, `bag_of_words`, and `term_freq`.\n",
    "    corpus = []\n",
    "    bag_of_words = []\n",
    "    term_freq = []\n",
    "    \n",
    "    # Storing docs in corpus\n",
    "    read_docs=lambda text: open(text,\"r\",encoding=\"utf8\").readlines()\n",
    "    \n",
    "    corpus=reduce(lambda x,y: x+y, map(read_docs,docs))\n",
    "\n",
    "    # Cleaning corpus\n",
    "    remove_html_tags=lambda text: re.sub(\"<[^<]*>\",\"\",text)\n",
    "    remove_url=lambda text: re.sub(\"[^ ]*\\.[^ ]+\",\"\",text)\n",
    "    remove_weird=lambda text: re.sub(\"[^ ]*[\\W][\\W][^ ]*\",\"\",text)\n",
    "    remove_punctuation=lambda text: text.strip(\"[.!?]\")\n",
    "    lower_text= lambda text: text.lower()\n",
    "    keep_words= lambda text: re.search('\\w',text)\n",
    "    \n",
    "    corpus=list(map(remove_html_tags,corpus))\n",
    "    corpus=list(map(remove_url,corpus))\n",
    "    corpus=list(map(remove_weird,corpus))\n",
    "    corpus=list(map(remove_punctuation,corpus))\n",
    "    corpus=list(map(lower_text,corpus))\n",
    "    corpus=list(filter(keep_words,corpus))\n",
    "    \n",
    "    # Keeping unique words in corpus but not in stop_words\n",
    "    white_words=lambda word: word not in stop_words\n",
    "    cleaned_lists=lambda string: list(filter(white_words, string.split()))\n",
    "    \n",
    "    bag_of_words=list(map(cleaned_lists,corpus))\n",
    "    bag_of_words=list(dict.fromkeys(reduce(lambda x,y:x+y,bag_of_words)))\n",
    "\n",
    "    #Creating term frequency list\n",
    "    count_freq=lambda string: list(map(lambda word:string.split().count(word),bag_of_words))\n",
    "    \n",
    "    term_freq=list(map(count_freq,corpus))\n",
    "    \n",
    "    return {\n",
    "        \"bag_of_words\": bag_of_words,\n",
    "        \"term_freq\": term_freq\n",
    "    }\n",
    "    "
   ]
  },
  {
   "cell_type": "markdown",
   "metadata": {},
   "source": [
    "Test your function below with the Bag of Words lab docs (it's easier for you to debug your code). Your output should be:\n",
    "\n",
    "```{'bag_of_words': ['ironhack', 'cool', 'love', 'student'], 'term_freq': [[1, 1, 0, 0], [1, 0, 1, 0], [1, 0, 0, 1]]}```"
   ]
  },
  {
   "cell_type": "code",
   "execution_count": 242,
   "metadata": {},
   "outputs": [
    {
     "name": "stdout",
     "output_type": "stream",
     "text": [
      "{'bag_of_words': ['ironhack', 'cool', 'love', 'student'], 'term_freq': [[1, 1, 0, 0], [1, 0, 1, 0], [1, 0, 0, 1]]}\n"
     ]
    }
   ],
   "source": [
    "from sklearn.feature_extraction import stop_words\n",
    "bow = get_bow_from_docs([\n",
    "    '../../../lab-bag-of-words/your-code/doc1.txt', \n",
    "    '../../../lab-bag-of-words/your-code/doc2.txt', \n",
    "    '../../../lab-bag-of-words/your-code/doc3.txt'],\n",
    "    stop_words.ENGLISH_STOP_WORDS\n",
    ")\n",
    "\n",
    "print(bow)"
   ]
  },
  {
   "cell_type": "code",
   "execution_count": 241,
   "metadata": {},
   "outputs": [
    {
     "name": "stdout",
     "output_type": "stream",
     "text": [
      "['ironhack', 'course', 'schoolsfull-stack', 'web', 'developmentmobile', 'developmentfront-end', 'developmentdata', 'scienceux', 'designdigital', 'marketingproduct', 'managementsecurityotherblogadviceultimate', 'schoolbest', 'coding', 'bootcampsbest', 'data', 'sciencebest', 'ui/ux', 'designbest', 'cybersecuritywrite', 'reviewsign', 'mexico', '596', 'alex', 'williams', 'ironhackaboutaboutironhack', 'development', 'ux/ui', 'design', 'bootcamp', 'madrid', 'uses', 'customized', 'approach', 'education', 'allowing', 'students', 'shape', 'experience', 'based', 'personal', 'admissions', 'process', 'includes', 'submitting', 'written', 'technical', 'graduate', 'skilled', 'technologies', 'like', 'program', 'covers', 'help', 'navigating', 'career', 'interview', 'digital', 'brand', 'networking', 'chance', 'delve', 'tech', 'community', '1,000', 'extensive', 'global', 'network', 'alumni', 'partner', 'well-positioned', 'job', 'developer', 'designer', 'graduation', 'access', 'services', 'prepare', 'search', 'facilitating', 'interviews', \"city's\", 'local', 'recent', 'great', 'reviews', 'part-time', 'bootcamphow', 'dafne', 'barcelona', 'ironhackhow', 'land', 'spainread', 'articles', 'analytics', 'machine', 'structuresin', 'personstart', 'date', 'scheduledcostn/aclass', 'sizen/alocationmadridthis', 'enables', 'fledged', 'analyst', '9', 'develop', 'practical', 'skills', 'useful', 'ramp-up', 'pre-work', 'learn', 'intermediate', 'topics', 'using', 'pandas', 'engineering', 'create', 'application', 'real', 'use', 'python', 'business', 'doing', 'projects', 'combining', 'meant', 'secure', 'spot', 'important', 'skill', 'away', 'ability', 'fast-moving', 'inminimum', 'levelbasic', 'programming', 'knowledgeprep', 'work40-50', 'hours', 'online', 'content', 'complete', 'order', 'reach', 'required', 'level', '}ux/ui', 'user', 'personfull', 'time50', 'hours/week9', 'weeks', 'start', '2019cost$6,500class', '8', 'week', 'immersive', 'catered', 'beginners', 'previous', 'taught', 'fundamentals', 'centered', 'validate', 'ideas', 'heuristic', 'end', 'capstone', 'project', 'new', 'product', 'idea', 'validation', 'ready', 'ux', 'turbo', 'charge', 'current', 'professional', '40', 'self-guided', 'understand', 'basic', 'concepts', 'make', 'works', 'sketch', 'personpart', 'time16', 'hours/week26', 'november', 'meets', 'saturdays', 'additional', 'coursework', 'period', '6', '9,000$mxnfinancingfinancing', 'options', 'competitive', 'climb', 'creditgetting', 'algorithms', 'notions', 'object', 'begins/placement', '}web', 'october', 'build', 'stack', 'javascript', 'big', 'emphasis', 'battle-tested', 'patterns', 'best', 'evaluate', 'problem', 'select', 'optimal', 'solution', 'language/framework', 'suited', 'project’s', 'addition', 'train', 'think', 'deconstruct', 'complex', 'problems', 'break', 'smaller', 'good', 'programmer', 'general', 'understanding', 'various', 'languages', 'understands', 'fundamental', 'structure', 'possesses', 'language', 'available', '36', 'scholarship', 'dates', 'city', 'january', 'march', 'barcelonaapply', 'endin', 'time13', 'hours/week24', '}reviewsironhack', 'reviewswrite', 'review596', 'sorted', 'by:default', 'sortdefault', 'sortmost', 'recentmost', 'helpful1filtered', 'by:all', 'reviewsall', 'reviewsanonymousverifiedcampusesmadridmadridmiamimexico', 'citymiamibarcelonaberlinpariscoursesweb', 'guidelinesonly', 'graduates', 'permitted', 'leave', 'honest', 'information', 'informative', 'future', 'excelled', 'grammar', 'check', 'behalf', 'impersonate', 'falsely', 'state', 'misrepresent', 'affiliation', 'person', 'post', 'fake', 'intended', 'boost', 'link', 'abusive', 'hateful', 'threatens', 'submit', 'duplicate', 'multiple', 'moderators', 'revise', 'review', 'click', 'email', 'receive', 'reserve', 'right', 'remove', 'commentary', 'violates', 'log', 'sign', 'hack', 'graduated', 'ratingoverall', 'experience:curriculum:instructors:job', 'assistance:not', 'applicableschool', 'detailscampusselect', 'campus', 'miami', 'paris', 'berlin', 'amsterdam', 'sao', 'paulo', 'othercourseselect', 'school', 'affiliationschool', 'student', 'applicantgraduation', 'month', 'february', 'april', 'june', 'july', 'august', 'september', 'december', 'year', '2005', '2006', '2007', '2008', '2009', '2010', '2011', '2012', '2013', '2014', '2015', '2016', '2017', '2018', '2019', '2020', '2021', '2022', '2023', 'otherotherabout', 'younamereview', 'shown', 'titleyou', 'months10/25/2018maria', 'verified', 'linkedinfrom', 'nurse', 'monthsoverall', 'wanted', 'turn', 'life', 'liked', 'maybe', 'fear', 'did', 'luckily', 'got', 'changed', 'methodology', 'way', 'teaching', 'makes', '0', '100', 'record', 'recommend', 'helpful0flag', \"assistance:i'am\", 'senior', 'computer', \"i'was\", 'feeling', 'missing', 'academic', 'contact', 'heard', 'knew', 'needed', 'completely', 'day', 'atmosphere', 'lead', 'teacher', 'learning', 'amazing', 'key', 'elements', 'supports', 'after10/25/2018gabriel', 'cebrián', 'githubfun', 'afteroverall', 'assistance:i', 'came', 'look', 'loved', 'studied', 'learnt', 'somwthing', 'months', 'really', 'fun', 'recomend', 'developer10/25/2018jacob', 'casado', 'junior', 'fullstack', 'developeroverall', 'assistance:when', 'going', 'music', 'linking', 'change', 'blink', 'eye', 'decided', 'world', 'reason', 'technology', 'background', 'desire', 'improve', 'little', 'grew', 'able', 'overcome', 'challenges', 'thought', 'possible', 'enormous', 'support', 'colleges', 'linkedinnew', 'learningoverall', 'assistance:this', 'total', 'totally', 'absolutely', 'repeat', 'quality', 'worked', 'biomedical', 'just', 'looking', 'style', 'teach', 'teaches', 'linkedinironhack', 'psychology', 'technician', 'intense', 'enriching', 'curve', 'verticle', 'started', \"i'm\", 'amazed', 'simulates', 'perfectly', 'working', 'environment', 'teams', 'tools', 'companies', 'resolve', \"it's\", 'virtual', 'profesional', 'visited', 'spanish', 'company', 'understood', 'talking', \"doesn't\", 'helps', 'discover', 'want', 'work', 'definetly', 'say', 'experince10/25/2018pablo', 'tabaoda', 'linkedinabout', 'experinceoverall', 'talk', 'completing', 'feel', 'impressed', 'facilities', 'fully', 'professionals', 'renew', 'people', 'trying', 'linkedinweb', 'devoverall', 'perfect', 'opens', 'doors', 'trully', 'impresive', 'short', 'kickstart', 'carreer!10/25/2018jhon', 'linkedinan', 'awesome', 'carreer!overall', 'assistance:at', 'goal', 'basics', 'core', 'provide', 'well-rounded', 'incentivize', 'linkedinreally', 'cool', 'bootcamp!overall', 'motivated', 'thanks', 'integrated', 'knowledge', 'powerful', '3', 'different', 'enjoying', 'disposed', 'linkedinchange', \"assistance:it's\", 'hard', 'word', 'experienced', '4', 'commitment', \"ironhack's\", \"i've\", 'met', 'learned', 'glad', 'matter', 'come', \"haven't\", 'read', 'single', 'line', 'code', 'worth', 'html', 'rollercoaster', 'emotions', 'lot', 'today', 'officially', \"wouldn't\", 'browsing', 'educational', 'trust', 'join', 'ironhackers', 'connected', 'helping', 'experience!10/22/2018diego', 'méndez', 'incredible', 'experience!overall', 'assistance:coming', 'exceeded', 'gave', 'prepared', 'assistants', 'tech-enthusiast', 'live', 'weeks10/22/2018teo', 'linkedinhow', 'weeksoverall', 'assistance:ironhack', 'belong', 'family', 'colleagues', 'finishing', 'realized', 'enter', 'guarantee', 'went', 'traditional', 'ended', 'saw', 'organization', 'cares', 'employees', 'clients', 'ask', 'attending', 'tell', 'happy', 'culture', 'established', 'weekly', 'surveys', 'aim', 'gathering', 'feedback', 'shows', 'care', 'highly', 'regarded', 'personalble', 'financial', 'aid', 'instrumental', 'guiding', 'newly', 'registered', 'questions', 'answered', 'prework', 'free-standing', 'fast', 'karen', 'lum', 'strong', 'instructors', 'progress', 'know', 'continuing', 'journey', 'topping', 'daniel', 'brito', 'maniacal', 'drive', 'grads', 'necessary', 'employment', 'expect', 'helpful1flag', 'oportunity10/18/2018montserrat', 'linkedina', 'unique', 'oportunityoverall', 'assistance:during', 'trip', 'abilities', 'solve', 'coordinated', 'effort', 'accompanying', 'sharing', 'lived', 'gratitude', 'respect', 'accompanied', 'smile', 'kind', 'words', 'helped', 'processes', 'fernanda', 'githubgreat', 'decisionoverall', 'assistance:before', 'deciding', 'signing', 'researched', 'boot', 'curriculum', 'attracted', 'latest', 'staff', 'classroom', 'high', 'respectful', 'eager', 'overall', 'impacted', 'decision', 'continue', 'growing', 'helpful2flag', 'till', 'linkedinmy', 'favorite', 'nowoverall', 'assistance:one', 'experiences', 'wrapped', 'sense', 'values', 'ever!10/17/2018juliet', 'linkedinbest', 'ever!overall', 'considered', 'carefully', 'dev', 'ride', 'regret', 'challenging', 'guidance', 'encouragement', 'readily', 'essential', 'opened', 'door', 'honestly', 'structured', 'ever!10/16/2018pablo', 'recently', 'completed', 'full-time', 'expand', 'lifestyle', 'better', 'things', 'fantastic', 'law', 'beginning', 'warned', 'closest', 'friends', 'relatives', 'encouraged', 'showed', 'huge', 'importance', 'currently', 'living', 'classmates', 'everyday', 'asking', 'times', 'bad', 'touch', 'pleased', 'aspect', 'ta’s', 'spend', 'time', 'intensively', 'long', 'updated', 'firms', 'social', 'events', 'speeches', 'enrich', 'appetite', 'ever!10/16/2018joshua', 'assistance:my', 'sooner', 'wished', 'shifted', 'positive', 'small', 'holds', 'gaining', 'dev10/16/2018jonathan', 'linkedinmost', 'searching', 'stay', 'chose', 'worried', 'reasons', 'manage', 'case', 'scenario', 'teachers', 'constantly', 'class', 'felt', 'possibly', \"wasn't\", 'super', 'pushed', 'limit', 'breaking', 'maximum', 'computers10/16/2018eran', 'linkedinkitchens', 'computersoverall', 'seemingly', 'novels', 'areas', 'assitants', 'special', 'relationship', 'fellow', 'confident', 'entering', 'profession', 'coming', 'hospitality', 'decision9/28/2018víctor', 'gabriel', 'peguero', 'co-founder', 'leemur', 'linkedinvery', 'assistance:thanks', 'ui', 'improved', 'approached', 'apps', 'years', 'designing', 'qualitative', 'improvement', 'dev9/28/2018jose', 'past', 'peaked', 'began', 'taking', 'courses', 'courses/boot', 'camps', 'ran', 'dive', 'it’s', 'expectations', 'run', 'you’re', '9-5pm', 'including', 'joke', 'invest', '2', 'immediately', 'sent', 'willing', 'instructor', 'downside', 'definitely', 'proficiency', 'familiar', 'extremely', 'helpful', 'having', 'dedicated', \"ta's\", 'struggle', 'sure', 'need', \"won't\", 'fall', 'tweaking', 'nick', 'aside', 'wrong', 'obsolete', 'seen', 'steps', 'means', 'seriously', 'brush', 'input', 'rest', 'applied', 'hasn’t', 'missed', 'doesn’t', 'try', 'respond', 'happily', 'hiring', 'fair', 'prep', 'acquainted', 'man', 'named', 'advice', 'getting', 'walks', 'building', 'lets', 'brings', 'source', 'checking', 'creating', 'portfolio', 'showcase', \"you've\", 'step', 'event', 'arranges', 'sit', 'valuable', 'introduction', \"didn't\", 'ultimately', 'comfortable', 'mean', \"shouldn't\", 'nail', 'hired', 'placements', 'meetings', 'guides', 'reminds', 'slack', 'hunt', 'instantly', 'resume', 'fresh', 'hackerrank/codewars', 'handfuls', 'phone', 'in-person', 'half', 'stopped', 'applying', 'kept', 'stressful', 'conclusion', 'given', 'hand', 'far', 'disappointed', 'tons', 'free', 'message', 'linkedin', 'gladly', 'answer', 'helpful4flag', 'experience!9/23/2018alexander', 'linkedinawesome', 'technological', 'all-around', 'wonderful', \"don't\", 'struggling', 'exceptional', 'assistance', 'extra', 'mile', 'deeply', 'early', 'weekends', 'spending', 'whiteboard', 'grateful', 'knowledgeable', 'natural', 'aptitude', 'welcoming', 'running', 'bit', 'challenge', 'science', 'types', 'likely', 'explain', 'ways', 'terms', 'complexity', 'memory', 'expected', 'lessons', 'particularly', 'knack', 'abstract', 'digestible', 'bits', 'collectively', 'attempt', 'volunteer', 'noticed', 'brave', 'retained', 'walked', 'solid', 'gives', 'home', 'research', 'write', 'examples', 'force', 'brain', 'reconcile', 'daily', 'certainly', \"they're\", 'frustrating', 'counseled', 'wisdom', 'share', 'interviewing', 'construct', 'specifically', 'tells', 'accepting', 'insight', 'willingness', 'starting', 'thankful', 'humbled', 'opportunity', 'study', \"teacher's\", 'counselor', 'absolute', 'pleasure', 'deal', 'blown', 'legitimately', 'wish', 'blew', 'mind', 'systematic', 'organized', 'wrap', 'wholeheartedly', 'recommended', 'ironhacks', 'actively', 'attitude', 'life-changing', 'newsnewsour', 'bootcamplauren', 'stewart9/6/2018ironhacknew', 'york', 'academyfullstack', 'academydid', 'switch', 'careers', 'quit', 'hour-long', 'talked', 'panel', 'academy', 'hear', 'balanced', 'commitments', 'audience', 'rewatch', 'here:continue', 'ironhackimogen', 'crispe8/13/2018ironhack', 'dipping', 'toes', 'graphic', 'olca', 'eventually', 'tried', 'enroll', 'ironhack’s', 'difficult', 'supportive', 'european', 'consulting', 'q&amp;a', 'what’s', 'path', 'diverse', 'originally', 'austria', 'bachelor’s', 'degree', 'multimedia', 'london', 'video', 'opportunities', 'jobs', 'imagined', 'mba', 'vienna', 'san', 'diego', 'increase', 'finance', 'bored', 'figure', 'interested', 'focused', 'internet', 'enjoyed', 'researching', 'aspects', 'direction', 'camp', 'told', 'sounded', 'realize', 'that’s', 'exactly', 'won’t', 'goes', 'hand-in-hand', 'personality', 'love', 'choice', 'you’ve', 'traveled', 'choose', 'university', 'wasn’t', 'field', 'moved', 'fell', 'clear', 'confirmed', 'full-stack', 'startup', 'flexibility', 'allow', 'offers', 'cohort', 'genuinely', 'pursuing', 'passing', 'passed', 'accepted', 'tough', 'split', 'pretty', 'second', 'module', 'final', 'angular', '9am', 'don’t', 'remember', 'days', 'actually', 'finished', 'quite', '30', 'lectures', 'demanding', 'character', 'frustrations', 'overcoming', 'i’ve', '18', 'straight', 'oldest', 'guy', 'late', 'average', 'somebody', '22', 'europeans', 'latin', 'built', 'created', 'game', 'blackjack', 'accomplished', 'impressive', 'capable', 'didn’t', 'believe', 'soon', 'guarantees', '20', 'recruiters', 'quick', 'i’d', 'landed', 'tas', 'milk', 'everis', '7', 'contacted', 'active', 'reaching', 'replied', 'office', 'called', 'shortly', 'received', 'exhausted', 'graduating', 'took', 'purely', 'i’m', 'app', 'organizations', 'apply', 'governmental', 'manager', 'we’re', '3000', 'branches', 'gender-balanced', 'framework', 'covered', 'haven’t', 'provided', 'inevitably', 'easily', 'joined', 'grown', 'front-end', 'afraid', 'touching', 'developed', 'passion', 'weird', 'enjoy', 'solving', 'academia', 'regretted', 'entrepreneurship', 'implementing', 'logic', 'functions', 'corporation', 'biggest', 'roadblock', 'stuck', 'block', 'calm', 'patient', 'seeing', 'results', 'sounds', 'stayed', 'involved', 'gotten', 'cohorts', 'we’ve', 'hosts', 'prioritize', 'making', 'aware', 'mental', 'you’ll', 'master', 'authorimogen', 'writer', 'producer', 'who&nbsp;loves', 'writing', 'newspapers', 'news', 'lives', 'spainlauren', 'stewart5/21/2018ironhackdemand', 'designers', 'limited', 'silicon', 'realizing', 'architectural', 'dalponte', 'demand', 'outcomes', 'cahner', 'supported', 'finding', 'market', 'hot', 'spain', 'sort', 'tips', 'job!continue', 'berlinlauren', 'stewart3/12/2018ironhack', '“berlin', 'proving', 'campuses', 'launching', 'advantage', 'spoke', 'emea', 'expansion', 'wework', 'recruiting', 'lots', 'grad', \"what's\", 'strategy', 'strategic', 'startups', 'embassy', 'los', 'angeles', 'launched', 'venture', 'company’s', 'mission', 'stories', \"you're\", 'gonzalo', 'middle', 'no-brainer', 'attend', 'pick', 'everybody', 'literate', 'planning', 'require', 'ahead', 'software', 'machines', 'dominate', 'speak', 'perspective', 'easier', 'benefits', 'prospective', 'thing', \"you'll\", 'rewarding', 'role', 'co-founders', 'vp', 'plan', 'cities', 'rank', 'according', 'factors', 'determinants', 'finally', 'clearly', 'set', 'main', 'responsible', 'setting', 'legal', 'entity', 'financing', 'dream', 'team', 'area', 'tailor', 'customer', 'segments', 'value', 'proposition', 'they’re', 'focus', 'strongly', 'partnering', 'n26', 'workshops', 'excited', 'launches', 'stood', 'place', 'present', 'strongest', 'largest', \"that's\", 'quarter', '2,000', '2,500', 'disruptive', 'ecosystem', 'attract', 'retain', 'talented', 'flocking', 'there’s', 'plenty', 'germany', 'developers', 'older', 'digitalization', 'released', 'saying', '100,000', 'point', 'pay', 'four-year', 'universities', \"can't\", 'cater', 'believes', 'private', 'failing', 'adapt', 'age', 'requires', 'provides', 'objective', 'zero', 'gap', 'programs', 'providing', 'public', 'stand', 'competition', 'laser-focused', 'achieve', 'update', 'ensure', 'employers', 'hire', 'real-world', 'they’ve', 'giving', 'securing', 'partners', 'organizing', 'meet', 'applicants', \"we're\", 'possibility', 'specialize', 'realizes', 'does', 'accommodate', 'starts', 'bigger', 'forward', 'grow', 'number', 'ensuring', \"he's\", 'industry', 'knows', 'leads', 'guide', 'gone', 'play', 'incredibly', 'divided', 'microservices', 'ruby', 'rails', 'consistent', 'allows', 'loop', 'sticking', 'iterate', 'located', 'co-working', 'atrium', 'tower', 'potsdamer', 'space', 'room', 'accessible', 'town', 'central', 'terrace', 'nice', 'envision', 'landing', 'reputation', 'signed', 'mobile', 'bank', 'talks', 'nine-week', 'changers', 'magic', 'leap', 'partnerships', 'pool', 'entry-level', 'staying', 'communities', 'resumes', 'berlin-based', 'decide', 'beginner', 'scene', 'meetups', 'arise', 'wrote', 'blog', 'piece', 'bunch', 'informal', 'workshop', \"we'll\", \"who's\", 'thinking', 'considering', 'form', 'scared', 'tendency', 'resistant', 'encourage', 'feet', 'wet', 'faith', 'commit', 'rate', 'rigorous', 'majority', 'reading', 'report', 'authorlauren', 'communications', 'operations', 'strategist', 'loves', 'passionate', 'techonology', 'career/youth', 'resides', 'podcastimogen', 'crispe1/31/2018revaturegeneral', 'assemblyelewa', 'educationholberton', 'schoolflatiron', 'schoolbloceditandelaironhackgalvanizecoding', 'dojothinkfulred', 'academyorigin', 'academyhackbright', 'academycoder', 'campsmuktek', 'academywelcome', 'roundup', 'busy', 'published', 'demographics', 'promising', 'diversity', 'significant', 'fundraising', 'announcement', 'journalists', 'exploring', 'apprenticeship', 'versus', 'bootcamps', 'we’ll', 'newest', 'schools', 'listen', 'lauren', 'stewart12/4/2017ironhack', 'continually', 'connect', 'drew', 'jumia,a', 'rocket', 'african', 'head', 'north', 'africa', 'managing', 'director', 'ariel', 'founders', 'inspired', 'attended', 'potential', 'model', 'europe', 'keen', 'impact', 'people’s', 'receptive', 'conversation', 'markets', 'open', 'preparation', 'launch', 'consider', 'human', 'gm', 'awareness', 'convince', 'leverage', 'marketing', 'channels', 'integrate', 'administration', 'succeed', 'leaders', 'opening', 'america', 'estimated', 'deficit', '150,000', 'generation', 'attractive', 'preferred', 'booming', 'entry', 'moving', 'multinationals', 'maturing', 'significantly', 'friendly', 'obviously', 'ties', 'excite', 'pop', 'operate', 'standards', 'bringing', 'raising', 'large', 'satisfaction', 'continued', 'offices', 'insurgentes', 'coworking', 'alongside', 'dynamic', 'colonia', 'district', 'rooms', 'x', 'hold', '15', 'classes', 'rolling', 'accept', 'selective', 'money', 'intensive', 'collect', 'can’t', 'scale', 'efficiently', 'loops', 'specificities', 'seven', 'mexican', 'invited', 'type', 'talent', 'targeting', 'guadalajara', 'monterrey', 'entrepreneurs', 'focuses', 'ambitions', 'placement', 'iron', 'normal', 'international', 'applications', 'meetup', 'full-day', 'lifetime', 'changing', 'group', 'facebook', 'comments', 'center', 'sweepstakes', 'nagel', 'ironhacklauren', 'stewart8/9/2017ironhack', 'entered', 'win', 'amazon', 'gift', 'card', 'leaving', 'lucky', 'winner', 'caught', 'advertising', 'title', 'agency', 'mainly', 'devialab', 'close', 'offered', 'visit', 'crispe8/1/2017georgia', 'campsthe', 'yarddev', 'bootcampup', 'academyusc', 'viterbi', 'campcovalencedeltav', 'schoolsouthern', 'institutelaunch', 'academyse', 'factorywethinkcode_devtree', 'academyironhackunit', 'factorytk2', 'academymetiscode', 'platooncodeupcoding', 'dojouniversity', 'richmond', 'campsthinkfuluniversity', 'minnesota', 'campshackbright', 'academyuniversity', 'summary', 'developments', 'closure', 'major', 'dived', 'success', 'investments', 'round', 'parislauren', 'stewart5/26/2017ironhack', 'locations', 'resources', 'successful', 'france', 'dimensions', 'related', 'docs', 'tremendously', 'vc', 'embraced', 'execute', 'couple', 'later', 'happier', 'wake', 'morning', 'motivation', '2nd', '5', 'exponentially', 'hubs', 'station', 'f', 'xavier', 'incubator', 'growth', 'fueled', 'increasing', 'economy', 'shortage', 'filled', 'initiatives', 'players', 'appeared', 'apart', 'dedicate', 'behavioral', 'let’s', 'discuss', 'neighborhood', '9th', 'metro', 'bus', 'bike-sharing', 'car-sharing', '24/7', 'meeting/working', 'tracks', 'ones', 'chosen', 'popular', 'relevant', 'expertise', 'focusing', 'integrating', 'mentors', 'frameworks', 'react', 'industries', 'rising', 'media', 'and/or', 'assisted', '15-20', 'coach', 'session', 'sponsored', 'florian', '1st', 'engineer', 'box', 'scaled', '300', 'spent', 'valley', 'chief', 'officer', 'bayes', 'ngo', 'funded', 'google', 'usually', 'monitoring', 'operational', 'execution', 'recruit', '1', 'question', 'depends', '50', '70', 'transparent', 'dedicating', 'similar', 'difference', 'rooftop', '8th', 'floor', 'regularly', 'organize', 'approaching', 'employer', 'realities', 'partnered', 'leader', 'peer-to-peer', 'car', 'equivalent', 'fund', 'series', 'accomplish', 'corporations', 'mastering', 'enthusiasm', 'expressed', 'they’ll', 'metrics', 'remote', 'abroad', 'constant', 'interaction', 'wants', 'intro', 'numa', 'accelerators', 'outstanding', 'specific', 'topic', 'apprehended', 'thoughts', 'you’d', 'readers', 'exists', 'seats', 'left', 'send', 'episode', 'crispe7/22/2017the', 'bootcampgreen', 'fox', 'academyrevaturegrand', 'circusacclaim', 'educationgeneral', 'assemblyplaycraftingironhackuniversity', 'arizona', 'campsgalvanizehack', 'reactortech901big', 'sky', 'academycoding', 'dojoumass', 'amherst', 'campaustin', 'college', 'educationcode', 'chrysalisdeep', 'codingunh', 'campqueens', 'academyzip', 'wilmingtondev', 'academycodemissed', 'collected', 'handy', 'reporting', 'added', 'interesting', 'year’s', 'resolutionlauren', 'stewart12/30/2016dev', 'bootcampcodesmithv', 'schoolleveldavinci', 'codersgrace', 'hopper', 'programgeneral', 'assemblyclaim', 'academyflatiron', 'schoolwe', 'itironhackmetisbov', 'academyhack', 'reactordesignlabthe', 'nltech', 'elevatorthinkfullearningfuzered', 'academygrowthx', 'academystartup', 'institutewyncodefullstack', 'academyturntotechcoding', 'templeit’s', 'reflect', 'easy', 'beat', 'certain', 'unmet', 'bet', 'codecademy', '30-day', 'github', 'cheers', 'resolutions', 'plunge', 'cross', 'compiled', 'list', 'stellar', 'offering', 'dish', 'aspiring', 'coders', 'roundupimogen', 'crispe12/29/2016dev', 'bootcampcoding', 'codersasi', 'sciencegeneral', 'assemblylabsiotopen', 'cloud', 'academyhackeryouflatiron', 'schooleleven', 'academy42the', 'firehose', 'projectironhacksoftware', 'guildgalvanizehack', 'reactorcodingnomadsupscale', 'dojothinkfulnyc', 'epitechorigin', 'academykeepcoding', 'academyuc', 'irvine', 'campswelcome', 'monthly', 'happenings', 'trends', 'tokyo-based', 'staffing', 'campuses!continue', 'pastore', 'ironhackliz', 'eggleston10/12/2016ironhack', 'sat', 'listening', 'produces', 'unicorns', 'incorporating', 'html/bootstrap', 'film', 'creative', 'capital', 'harvard', 'mit', 'smart', 'ibm', 'lotus', 'notes', 'usability', 'labs', 'participate', 'bentley', 'masters', 'magical', 'ethnography', 'fidelity', 'federal', 'morgan', 'zumba', 'effective', 'material', 'quickly', 'hadn’t', 'used', 'refine', 'stands', 'referred', 'respected', 'convinced', 'prior', 'lecture', 'hands-on', 'foundations', 'principles', 'pieces', 'demonstrate', 'foray', 'marcelo', 'paiva', 'follow', 'lifecycles', 'target', 'turning', 'concept', 'architecture', 'low-fidelity', 'micro', 'principal', 'visual', 'implement', 'designs', 'bootstrap', 'individual', 'breakouts', 'push', 'trend', 'larger', 'particular', 'broader', 'ideal', 'student:teacher', 'ratio', 'activities', 'tackled', 'groups', 'flow', 'subject', 'experts', 'sections', 'differ', 'communication', 'empathy', 'jump', 'mix', 'profiles', 'include', 'sony', 'non-profit', 'crack', 'schedule', 'approximately', 'outside', 'assignments', 'largely', 'sum', 'units', 'cover', 'week-by-week', '2-week', 'completes', 'entire', 'result', 'prototypes', 'carry', 'circumstances', 'varying', 'roles', 'interests', 'bootcampers', 'houses', 'introductory', 'ixda', 'offer', 'resource', 'e-mail', 'profile', 'website', 'authorliz', 'the&nbsp;cofounder', 'of&nbsp;course', 'complete&nbsp;resource', 'breakfast', 'tacos', 'summer', 'bootcampliz', 'eggleston7/24/2016logit', 'academylevelgeneral', 'assemblyflatiron', 'schoolironhackmetisnyc', 'academynew', 'academymake', 'schoolwyncodetech', 'southfullstack', 'academycode', 'fellowssee', 'recommendations', 'here!if', 'incoming', 'offerings', 'bootcampimogen', 'crispe2/18/2016ironhacktech', 'elevatorwyncodezip', 'wilmingtonwe’ve', 'picked', 'up-and-coming', 'range', 'seattle', 'aren’t', 'cost', 'immersivesimogen', 'crispe10/17/2018codesmithv', 'schooldevmountaingrand', 'circusredwood', 'grace', 'schoollaunch', 'academyrefactoruironhacksoftware', 'guildapp', 'reactorrithm', 'schoolcoding', 'dojodevpoint', 'labsmakersquaredigitalcraftsnew', 'academylearn', 'academybottegawyncodehackbright', 'academycodecraft', 'schoolfullstack', 'fellowsturingcoding', 'templehow', 'wondering', 'tuition', 'deferred', 'budget', 'costs', 'comparison', 'comparable', 'listed', 'links', 'detailed', 'miamiliz', 'eggleston9/2/2015ironhack', 'ios', 'expanded', 'florida', 'acceptance', 'sneak', 'peek', 'typically', 'falls', 'takes', 'motivations', 'wanting', 'nutshell', 'peak', 'admission', 'committee’s', 'backgrounds', 'flight', 'cs', 'ivy', 'leagues', 'democratic', 'attracts', 'sorts', 'tend', 'perform', 'committed', 'necessarily', 'sample', '“what', 'motivates', 'day-to-day', 'basis', 'happens', 'function', 'inside', 'suggest', 'ace', 'applicant', 'midst', 'materials', 'one-on-one', 'address', 'applicant’s', 'qualities', 'reveals', 'candidates', 'longer', 'indicator', 'probably', 'led', 'consists', 'minutes', 'breadth', 'css', 'gets', 'roots', 'visas/tourist', 'visas', '25', 'countries', 'represented', 'travel', 'tourist', 'visa', 'melting', 'pot', 'combined', \"weren't\", '14', 'southharry', 'hantel4/6/2015devmountaingeneral', 'assemblynashville', 'schoolironhackaustin', 'academycodeupcodecamp', 'charlestoncoding', 'dojomakersquarecoder', 'foundrywyncodetech', 'southcoder', 'camps(updated', '2018)slide', 'roof', 'heading', 'south', 'mason-dixon', 'southern', 'united', 'carolinas', 'georgia', 'covering', 'hospitality!continue', 'eggleston10/1/2014ironhack', 'gorka', 'magana', 'freelancer', 'developing', 'concrete', 'drove', 'basically', 'adwords', 'avoid', 'merit', 'culture-fit', 'separated', 'gender', 'should’ve', 'course’s', 'continuously', 'adapting', 'fit', 'tired', 'boring', 'professor', 'challenged', 'following', 'proud', 'finish', 'collaboration', 'designed', 'releasing', 'i’ll', 'page', 'exclusive', 'scholarshipsliz', 'eggleston2/2/2018makers', 'academydevmountainrutgers', 'bootcampsflatiron', 'schoolstarter', 'leagueblocironhackmetisdigital', 'schoolviking', 'schoolguild', 'architectsdevpoint', 'labsthinkfullearningfuzedigitalcraftsnyc', 'academybyte', 'academydevleaguesabiocode', 'fellowsturntotechdevcodecamplighthouse', 'labscoding', 'templelooking', 'promo', 'discounts', 'eggleston7/18/2014ironhack', 'munoz', 'enrolled', 'soft', '\\u200bbefore', 'managed', 'programmers', \"master's\", '400', 'luck', 'devta', 'face', 'moment', 'offline', 'php', 'improving', 'faster', 'stimulate', 'pushing', 'turned', 'price', '\\u200bironhack', 'admire', 'keyvan', 'akbary', 'carlos', 'blé', '\\u200bfortunately', 'asked', 'explanations', 'solved', '\\u200bthey', 'guess', 'thinks', 'imagine', '\\u200bfor', 'medical', 'appointments', 'demo', \"\\u200bi'm\", 'seo', 'decisions', 'behavior', '\\u200bmaybe', 'handle', 'catch', 'eggleston7/16/2014ironhack', 'marta', 'fonda', 'compete', '8-week', 'succeeded', 'degrees', 'studies', 'interviewed', 'lacking', 'modern', 'lean', 'trouble', 'teamwork', 'surrounded', 'convert', 'fastest', 'features', 'responsive', 'html5', 'functionalities', 'geolocalization', 'storage', 'frontend', \"i'd\", 'efforts', 'finalists', 'hackshow', 'marketplace', 'impossible', 'i´ve', '180º', 'allowed', 'born', 'founder', 'quinones', 'eggleston4/21/2014ironhack', 'cofounder', 'american', 'sets', 'puerto', 'comes', 'construction', 'civil', 'infrastructure', 'said', 'household', 'parents', 'father', 'rico', 'ago', '10,000', 'dna', 'ed-tech', 'iterating', 'issue', 'non-technical', 'produce', 'outsource', '2-day', 'wharton', 'acquire', 'compressed', 'earlier', 'geared', 'makers', 'cofounders', 'opposed', 'admit', 'hesitant', 'newbie', 'appealing', 'folks', 'professionalize', 'hardcore', 'lesson', 'fly', '10', '12', 'filter', 'disparate', 'levels', 'velocities', 'exercises', 'everyone’s', 'scenes', 'country', 'integral', 'society', 'higher', 'position', 'trained', 'foreigners', 'exciting', 'eu', 'union', 'northern', 'weather', 'ventures', 'thriving', 'traction', 'cosmopolitan', 'emerging', 'near', 'stage', 'acquired', 'substantial', 'rounds', 'driver', 'funding', 'employ', 'engineers', 'california', 'who’s', 'enrolling', 'incur', 'red', 'tape', 'raised', 'bootstrapped', 'sinatra', 'culmination', 'believers', 'flipped', 'reduce', 'theory', 'extent', 'arriving', 'homework', 'weekend', 'demands', 'francisco', 'gazillion', 'obsessed', 'instrument', 'differentiates', 'obsession', 'practices', 'requirements', 'object-oriented', 'android', 'capped', 'view', 'instructing', 'specialized', 'parts', 'fulltime', 'peers', 'connects', 'professors', 'vested', 'prove', '3-step', 'screen', '30-minute', 'skype', 'intrinsic', 'monday', 'beams', 'energy', 'assess', 'programmed', 'analytical', 'coded', 'valuation', '60', 'founding', 'speakers', 'products', 'serves', 'identify', 'bring', 'leading', 'hr', 'optimize', 'conduct', 'luxury', 'paying', 'fee', 'charging', 'placing', 'wouldn’t', 'placed', 'nearly', 'accreditation', 'buzz', 'happening', 'pressure', 'government', 'attention', 'interfere', 'institutions', 'agile', 'expanding', 'anytime', 'paulocontact', 'ironhackschool', 'infoschool', 'developmentfull-stack', 'developmentux', 'designamsterdambarcelonaberlinmadridmexico', 'citymiamiparissao', 'paulomore', 'informationmore', 'information&nbsp;guarantees', 'job&nbsp;accepts', 'gi', 'bill&nbsp;job', 'assistancelicensinglicensed', 'corporate', 'trainingnot', \"for?we'll\", 'match', 'you!start', 'conversation!complete', 'ironhackmy', 'name:my', 'email:my', 'inselect', 'campusamsterdam', 'pauloany', \"you'd\", 'ironhack?by', 'acknowledge', 'shared', 'clicking', 'verify', 'agree', 'let', 'store', 'community!great!we', 'publish', 'reviewthanks', 'community!browse', 'schoolsvar', 'params', '}if', 'delete', 'false', 'details', 'scholarships!var', '}hang', \"on!you've\", '}whoasomething', 'terribly', 'againshare', 'review&nbsp;copy', 'clipboardfind', 'thebestbootcampfor', 'youtell', 'ultimate', 'student/alum', 'otherlooks', 'mailing', 'safe', 'reviewaboutconnect', 'uslegalterms', 'serviceprivacy', 'policyfollow', 'usresearchultimate', 'choosing', 'bootcampbest', '2017!2017', 'size', 'report2017', 'studycourse', 'reporthomeschoolsblogadvicewrite', 'usresearchlog', 'inforgot', 'password?ororlog', 'track', 'save', 'up!already', 'wikipedia', 'navigation', 'statisticsdata', 'visualization', 'exploratory', 'interactive', 'descriptive', 'statistics', 'statistical', 'infographic', 'figures', 'tamara', 'ben', 'john', 'edward', 'hadley', 'wickham', 'bar', 'chart', 'pie', 'control', 'stem-and-leaf', 'table', 'perception', 'regression', 'misleading', 'graph', 'vte', 'computational', 'physics', 'numerical', 'potentialsmorse/long-range', 'fluid', 'dynamicsfinite', 'volume', 'finite', 'lattice', 'solver', 'dissipative', 'particle', 'dynamics', 'smoothed', 'hydrodynamics', 'turbulence', 'models', 'monte', 'carlo', 'algorithm', 'molecular', 'analysis', 'modeling', 'discovering', 'supporting', 'facets', 'techniques', 'variety', 'mining', 'technique', 'discovery', 'predictive', 'intelligence', 'relies', 'heavily', 'confirmatory', 'eda', 'cda', 'confirming', 'falsifying', 'existing', 'forecasting', 'text', 'applies', 'structural', 'extract', 'classify', 'textual', 'species', 'unstructured', 'varieties', 'integration', 'precursor', 'closely', 'term', 'synonym', 'contents', 'collection', 'processing', 'cleaning', 'quantitative', 'messages', 'analyzing', 'users', 'barriers', 'confusing', 'fact', 'opinion', 'cognitive', 'biases', 'innumeracy', 'buildings', 'practitioner', 'initial', 'measurements', 'transformations', 'implementation', 'fulfill', 'intentions', 'characteristics', 'nonlinear', 'approaches', 'stability', 'methods', 'contests', '11', 'references', 'citations', 'bibliography', 'flowchart', \"o'neil\", 'rachel', 'refers', 'separate', 'components', 'obtaining', 'raw', 'converting', 'decision-making', 'analyzed', 'hypotheses', 'disprove', 'statistician', 'tukey', 'defined', '1961', 'interpreting', 'precise', 'machinery', 'phases', 'inputs', 'specified', 'directing', 'experimental', 'population', 'variables', 'regarding', 'label', 'communicated', 'analysts', 'custodians', 'personnel', 'sensors', 'traffic', 'recording', 'obtained', 'cycle', 'actionable', 'conceptually', 'initially', 'processed', 'organised', 'involve', 'rows', 'columns', 'spreadsheet', 'contain', 'preventing', 'correcting', 'tasks', 'inaccuracy', 'identified', 'totals', 'compared', 'separately', 'numbers', 'believed', 'amounts', 'pre-determined', 'thresholds', 'depend', 'outlier', 'detection', 'rid', 'incorrectly', 'spell', 'checkers', 'lessen', 'mistyped', 'harder', 'begin', 'contained', 'exploration', 'requests', 'iterative', 'generated', 'examine', 'graphical', 'obtain', 'mathematical', 'formulas', 'relationships', 'correlation', 'variable', 'residual', 'error', 'depending', 'inferential', 'measure', 'variation', 'described', 'b', 'minimize', 'predicts', 'y', 'simplify', 'communicate', 'generates', 'example', 'analyzes', 'purchasing', 'history', 'recommends', 'purchases', 'reported', 'formats', 'determining', 'tables', 'lookup', 'charts', 'illustrated', 'demonstrating', 'revenue', 'scatterplot', 'illustrating', 'points', 'stephen', 'associated', 'graphs', 'specifying', 'performing', 'captured', 'unemployment', '10-year', 'subdivisions', 'ranked', 'ascending', 'descending', 'ranking', 'sales', 'categorical', 'measured', 'percentage', 'competitors', 'actual', 'expenses', 'departments', 'reference', 'frequency', 'observations', 'stock', 'return', 'intervals', 'determine', 'opposite', 'scatter', 'plot', 'nominal', 'geographic', 'map', 'persons', 'floors', 'cartogram', 'typical', 'author', 'jonathan', 'koomey', 'anomalies', 're-perform', 'verifying', 'formula', 'confirm', 'predictable', 'ratios', 'normalize', 'comparisons', 'relative', 'gdp', 'index', 'base', 'component', 'dupont', 'standard', 'analyze', 'distribution', 'cluster', 'illustration', 'mece', 'principle', 'consultants', 'mckinsey', 'layer', 'broken', 'sub-components', 'mutually', 'add', 'definition', 'divisions', 'robust', 'testing', 'hypothesis', 'true', 'affairs', 'gathered', 'effect', 'relates', 'economics', 'phillips', 'involves', 'likelihood', 'ii', 'relate', 'rejecting', 'independent', 'affects', 'dependent', 'changes', 'affect', 'inflation', 'equation', 'condition', 'additive', 'x-variable', 'outcome', \"x's\", 'compensate', 'sufficient', 'necessity', 'x-variables', 'compensation', 'messaging', 'outlined', 'low-level', 'analytic', 'presented', 'taxonomy', 'poles', 'arranging', 'task', 'generaldescription', 'pro', 'formaabstract', 'retrieve', 'attributes', 'mileage', 'gallon', 'ford', 'movie', 'conditions', 'attribute', 'cases', 'satisfying', 'satisfy', \"kellogg's\", 'cereals', 'comedies', 'won', 'funds', 'underperformed', 'compute', 'derived', 'aggregate', 'numeric', 'representation', 'aggregation', 's', 'calorie', 'gross', 'income', 'stores', 'manufacturers', 'cars', 'extremum', 'possessing', 'extreme', 'top/bottom', 'n', 'highest', 'director/film', 'marvel', 'studios', 'release', 'ordinal', 'span', 'actresses', 'characterize', 'attribute’s', 'carbohydrates', 'unexpected/exceptional', 'exceptions', 'horsepower', 'outliers', 'clusters', 'correlate', 'origin', 'genders', 'payment', 'length', 'contextual', 'relevancy', 'restaurants', 'foods', 'caloric', 'exist', 'sound', 'entitled', 'patrick', 'moynihan', 'facts', 'formal', 'test', 'congressional', 'extending', 'bush', 'tax', 'cuts', '2001', '2003', '2011–2020', 'cbo', 'disagree', 'auditor', 'arrive', 'statements', 'publicly', 'traded', 'factual', 'evidence', 'adversely', 'bias', 'interpret', 'confirms', \"one's\", 'discredit', 'book', 'cia', 'richards', 'heuer', 'delineate', 'assumptions', 'chains', 'inference', 'specify', 'uncertainty', 'emphasized', 'procedures', 'surface', 'debate', 'alternative', 'generally', 'adept', 'audiences', 'literacy', 'communicating', 'attempting', 'mislead', 'falling', 'employed', 'adjusting', 'section', 'statement', 'recast', 'estimate', 'cash', 'discount', 'effects', 'policy', \"government's\", 'scenarios', 'predict', 'consumption', 'carried', 'realise', 'management', 'air', 'security', 'realised', 'automatically', 'miming', 'needs', 'optimising', 'fact-based', 'subset', 'educators', 'purpose', 'systems', 'over-the-counter', 'package/display', 'accuracy', 'contains', 'assist', 'practitioners', 'scope', 'distinction', 'phase', 'refrains', 'aimed', 'answering', 'original', 'guided', 'checked', 'assessed', 'schemes', 'external', 'corrected', 'common-method', 'analyses', 'conducted', 'measurement', 'instruments', 'corresponds', 'indication', 'reliability', 'inspects', 'variances', 'items', \"cronbach's\", 'α', 'alpha', 'item', 'deleted', 'assessing', 'impute', 'square', 'root', 'differs', 'moderately', 'substantially', 'inverse', 'severely', 'randomization', 'instance', 'substantive', 'equally', 'distributed', 'non-random', 'subgroups', 'distortions', 'random', 'treatment', 'manipulation', 'accurately', 'especially', 'subgroup', 'performed', 'plots', 'correlations', 'associations', 'findings', 'corrective', 'actions', 'transform', 'neglect', 'imputation', 'omitting', 'comparability', 'drop', 'inter-group', 'exact', 'tests', 'procedure', 'calculate', 'propensity', 'scores', 'covariates', 'univariate', 'bivariate', 'account', 'hierarchical', 'loglinear', 'relevant/important', 'computation', 'continuous', 'displays', 'recorded', 'exhibit', 'harmonics', 'subharmonics', 'simple', 'linear', 'draft', 'stated', 'analysing', 'searched', 'interpreted', 'adjust', 'significance', 'bonferroni', 'dataset', 'simply', 'resulted', 'generalizable', 'reliable', 'splitting', 'fitted', 'generalizes', 'sensitivity', 'parameters', 'brief', 'widely', 'usable', 'predictors', 'generalized', 'extension', 'discrete', 'latent', 'structures', 'manifest', 'response', 'binary', 'database', 'endorsed', 'nations', 'java', 'oriented', 'konstanz', 'comprehensive', 'tool', 'featuring', 'scientific', 'fortran/c', 'cern', 'computing', 'scipy', 'libraries', 'researchers', 'utilize', 'well-known', 'kaggle', 'held', 'ltpp', 'contest', 'fhwa', 'portal', 'actuarial', 'acquisition', 'blending', 'governance', 'presentation', 'signal', 'dimension', 'reduction', 'assessment', 'fourier', 'multilinear', 'pca', 'subspace', 'multiway', 'nearest', 'neighbor', 'identification', 'method', 'wavelet', 'c', 'brace', 'tukey-the', 'analysis-july', 'd', 'e', 'g', 'generate', 'sales-ready', 'retrieved', '29th', '26', 'perceptual', 'edge-jonathan', 'koomey-best', 'data-february', 'eecs', 'few-perceptual', 'edge-selecting', 'message-september', '2004', 'analysis-american', 'psychological', 'association-1997', 'connaissance', 'est', 'les', 'cahiers', 'du', 'message-2004', 'edge-graph', 'selection', 'matrix', 'activity', 'preliminary', 'hci', 'forma', 'internet-scale', 'contextualisation', 'efficient', 'office-the', 'economic', 'outlook-august', 'ritholz-bad', 'math', 'passes', 'insight-october', 'efficiency', 'intelligent', 'thomas', 'competing', 'finds', 'states', 'pupil-data', 'reports', 'fight', 'propagate', 'educator', 'administrative', 'leadership', 'spatio-temporal', 'highway', 'david', \"consultant's\", 'van', 'kessel', 'chapter', 'multivariate', 'pearson', 'allyn', 'wikiversity', 'contributions', 'advising', 'paul', \"juran's\", 'publications', 'handbook', 'richard', 'pragmatic', 'blackwell', 'authority', 'vtedata', 'archaeology', 'cleansing', 'compression', 'corruption', 'curation', 'degradation', 'editing', 'farming', 'format', 'fusion', 'integrity', 'library', 'loss', 'migration', 'pre-processing', 'preservation', 'recovery', 'retention', 'scraping', 'scrubbing', 'stewardship', 'warehouse', 'wrangling/munging', 'newpp', 'parsed', 'mw1258', 'cached', 'cache', 'cpu', 'preprocessor', 'node', 'post‐expand', 'bytes', 'template', 'argument', 'expensive', 'parser', 'unstrip', 'recursion', 'wikibase', 'entities', 'lua', 'mb', 'transclusion', 'template:reflist', 'template:cite_book', 'template:isbn', 'template:according_to_whom', 'template:cite_journal', 'template:authority_control', 'template:sidebar_with_collapsible_lists', 'template:fix-span', 'template:data_visualization', 'enwiki:pcache:idhash:2720954-0!canonical', 'timestamp', '20181023205918', 'revision', 'id', '862584710', 'analysisscientific', 'methodparticle', 'physicscomputational', 'fields', 'studyhidden', 'marked', 'weasel-worded', 'phrasesarticles', 'phrases', '2018wikipedia', 'needing', 'clarification', 'gnd', 'menu', 'logged', 'intalkcontributionscreate', 'accountlog', 'pagecontentsfeatured', 'contentcurrent', 'eventsrandom', 'articledonate', 'wikipediawikipedia', 'wikipediacommunity', 'portalrecent', 'changescontact', 'hererelated', 'changesupload', 'filespecial', 'pagespermanent', 'linkpage', 'informationwikidata', 'itemcite', 'bookdownload', 'pdfprintable', 'edited', '09:50', 'commons', 'attribution-sharealike', 'privacy', 'trademark', 'wikimedia', 'lorem', 'lipsum', 'generator', 'dansk', 'nederlands', 'english', 'eesti', 'filipino', 'suomi', 'magyar', 'indonesia', 'italiano', 'latviski', 'melayu', 'norsk', 'polski', 'portugu&ecirc;s', 'rom&acirc;na', 'espa&ntilde;ol', 'ipsum', '\"neque', 'porro', 'quisquam', 'qui', 'dolorem', 'quia', 'dolor', 'adipisci', '\"there', 'pain', 'seeks', 'dummy', 'printing', 'typesetting', \"industry's\", 'unknown', 'printer', 'galley', 'scrambled', 'specimen', 'survived', 'electronic', 'essentially', 'popularised', '1960s', 'letraset', 'sheets', 'containing', 'desktop', 'publishing', 'aldus', 'pagemaker', 'versions', 'reader', 'distracted', 'readable', 'more-or-less', 'packages', 'editors', 'default', 'uncover', 'sites', 'evolved', 'humour', 'contrary', 'classical', 'literature', '45', '2000', 'hampden-sydney', 'obscure', 'cites', 'undoubtable', 'finibus', 'bonorum', 'et', 'extremes', 'treatise', 'chunk', '1500s', 'reproduced', 'cicero', '1914', 'translation', 'variations', 'passages', 'suffered', 'alteration', 'injected', 'randomised', 'slightly', 'passage', \"isn't\", 'embarrassing', 'hidden', 'generators', 'predefined', 'chunks', 'dictionary', '200', 'handful', 'sentence', 'looks', 'non-characteristic', 'paragraphswordsbyteslistsstart', 'translate', 'site', 'foreign', 'mock', 'banners', 'colours', 'banner', 'donating', 'hosting', 'bandwidth', 'minimum', 'donate', 'chrome', 'firefox', 'add-on', 'nodejs', 'tex', 'package', 'interface', 'gtk', 'groovy', 'adobe', 'plugin', '1500s\"lorem', 'adipiscing', 'eiusmod', 'tempor', 'incididunt', 'ut', 'labore', 'dolore', 'magna', 'enim', 'ad', 'minim', 'nostrud', 'exercitation', 'ullamco', 'laboris', 'nisi', 'aliquip', 'ex', 'ea', 'commodo', 'aute', 'irure', 'reprehenderit', 'voluptate', 'velit', 'esse', 'cillum', 'fugiat', 'nulla', 'sint', 'occaecat', 'cupidatat', 'non', 'culpa', 'officia', 'deserunt', 'mollit', 'anim', 'bc\"sed', 'perspiciatis', 'unde', 'omnis', 'iste', 'natus', 'voluptatem', 'accusantium', 'doloremque', 'rem', 'ipsa', 'quae', 'ab', 'illo', 'inventore', 'veritatis', 'quasi', 'architecto', 'beatae', 'vitae', 'dicta', 'sunt', 'ipsam', 'voluptas', 'aspernatur', 'aut', 'odit', 'consequuntur', 'magni', 'dolores', 'eos', 'ratione', 'sequi', 'numquam', 'eius', 'modi', 'tempora', 'incidunt', 'magnam', 'aliquam', 'quaerat', 'minima', 'nostrum', 'exercitationem', 'ullam', 'corporis', 'suscipit', 'aliquid', 'commodi', 'autem', 'vel', 'eum', 'iure', 'quam', 'nihil', 'molestiae', 'illum', 'quo', '\"but', 'mistaken', 'denouncing', 'praising', 'expound', 'teachings', 'explorer', 'master-builder', 'avoids', 'pursue', 'rationally', 'encounter', 'consequences', 'pursues', 'desires', 'occasionally', 'occur', 'toil', 'procure', 'trivial', 'undertakes', 'laborious', 'physical', 'fault', 'chooses', 'annoying', 'resultant', 'bc', '\"at', 'vero', 'accusamus', 'iusto', 'odio', 'dignissimos', 'ducimus', 'blanditiis', 'praesentium', 'voluptatum', 'deleniti', 'atque', 'corrupti', 'quos', 'quas', 'molestias', 'excepturi', 'occaecati', 'cupiditate', 'mollitia', 'laborum', 'dolorum', 'harum', 'quidem', 'rerum', 'facilis', 'expedita', 'libero', 'soluta', 'nobis', 'eligendi', 'optio', 'cumque', 'impedit', 'minus', 'quod', 'maxime', 'placeat', 'facere', 'assumenda', 'quibusdam', 'officiis', 'debitis', 'necessitatibus', 'saepe', 'eveniet', 'voluptates', 'repudiandae', 'earum', 'hic', 'tenetur', 'sapiente', 'reiciendis', 'voluptatibus', 'maiores', 'alias', 'consequatur', 'perferendis', 'doloribus', 'asperiores', '\"on', 'denounce', 'righteous', 'indignation', 'dislike', 'men', 'beguiled', 'demoralized', 'charms', 'blinded', 'foresee', 'bound', 'equal', 'blame', 'belongs', 'fail', 'duty', 'weakness', 'shrinking', 'power', 'untrammelled', 'prevents', 'welcomed', 'owing', 'claims', 'obligations', 'frequently', 'pleasures', 'repudiated', 'annoyances', 'wise', 'matters', 'rejects', 'greater', 'endures', 'pains', 'worse']\n"
     ]
    }
   ],
   "source": [
    "bow = get_bow_from_docs([\n",
    "        'www.coursereport.com_ironhack.html',\n",
    "        'en.wikipedia.org_Data_analysis.html',\n",
    "        'www.lipsum.com.html'],\n",
    "    stop_words.ENGLISH_STOP_WORDS,\n",
    ")\n",
    "print(bow['bag_of_words'])"
   ]
  }
 ],
 "metadata": {
  "kernelspec": {
   "display_name": "Python 3",
   "language": "python",
   "name": "python3"
  },
  "language_info": {
   "codemirror_mode": {
    "name": "ipython",
    "version": 3
   },
   "file_extension": ".py",
   "mimetype": "text/x-python",
   "name": "python",
   "nbconvert_exporter": "python",
   "pygments_lexer": "ipython3",
   "version": "3.7.3"
  }
 },
 "nbformat": 4,
 "nbformat_minor": 4
}
