{
 "cells": [
  {
   "cell_type": "markdown",
   "metadata": {},
   "source": [
    "# Before your start:\n",
    "- Read the README.md file\n",
    "- Comment as much as you can and use the resources in the README.md file\n",
    "- Happy learning!"
   ]
  },
  {
   "cell_type": "code",
   "execution_count": 129,
   "metadata": {},
   "outputs": [],
   "source": [
    "import numpy as np\n",
    "import pandas as pd\n",
    "import requests"
   ]
  },
  {
   "cell_type": "markdown",
   "metadata": {},
   "source": [
    "# Challenge 1 - Iterators, Generators and `yield`. \n",
    "\n",
    "In iterator in Python is an object that represents a stream of data. However, iterators contain a countable number of values. We traverse through the iterator and return one value at a time. All iterators support a `next` function that allows us to traverse through the iterator. We can create an iterator using the `iter` function that comes with the base package of Python. Below is an example of an iterator."
   ]
  },
  {
   "cell_type": "code",
   "execution_count": 5,
   "metadata": {},
   "outputs": [
    {
     "output_type": "stream",
     "name": "stdout",
     "text": "1\n"
    }
   ],
   "source": [
    "# We first define our iterator:\n",
    "\n",
    "iterator = iter([1,2,3])\n",
    "\n",
    "# We can now iterate through the object using the next function\n",
    "\n",
    "print(next(iterator))"
   ]
  },
  {
   "cell_type": "code",
   "execution_count": 6,
   "metadata": {},
   "outputs": [
    {
     "output_type": "stream",
     "name": "stdout",
     "text": "2\n"
    }
   ],
   "source": [
    "# We continue to iterate through the iterator.\n",
    "\n",
    "print(next(iterator))"
   ]
  },
  {
   "cell_type": "code",
   "execution_count": 7,
   "metadata": {},
   "outputs": [
    {
     "output_type": "stream",
     "name": "stdout",
     "text": "3\n"
    }
   ],
   "source": [
    "print(next(iterator))"
   ]
  },
  {
   "cell_type": "code",
   "execution_count": 8,
   "metadata": {},
   "outputs": [
    {
     "output_type": "error",
     "ename": "StopIteration",
     "evalue": "",
     "traceback": [
      "\u001b[0;31m---------------------------------------------------------------------------\u001b[0m",
      "\u001b[0;31mStopIteration\u001b[0m                             Traceback (most recent call last)",
      "\u001b[0;32m<ipython-input-8-91070dc82d50>\u001b[0m in \u001b[0;36m<module>\u001b[0;34m\u001b[0m\n\u001b[1;32m      1\u001b[0m \u001b[0;31m# After we have iterated through all elements, we will get a StopIteration Error\u001b[0m\u001b[0;34m\u001b[0m\u001b[0;34m\u001b[0m\u001b[0;34m\u001b[0m\u001b[0m\n\u001b[1;32m      2\u001b[0m \u001b[0;34m\u001b[0m\u001b[0m\n\u001b[0;32m----> 3\u001b[0;31m \u001b[0mprint\u001b[0m\u001b[0;34m(\u001b[0m\u001b[0mnext\u001b[0m\u001b[0;34m(\u001b[0m\u001b[0miterator\u001b[0m\u001b[0;34m)\u001b[0m\u001b[0;34m)\u001b[0m\u001b[0;34m\u001b[0m\u001b[0;34m\u001b[0m\u001b[0m\n\u001b[0m",
      "\u001b[0;31mStopIteration\u001b[0m: "
     ]
    }
   ],
   "source": [
    "# After we have iterated through all elements, we will get a StopIteration Error\n",
    "\n",
    "print(next(iterator))"
   ]
  },
  {
   "cell_type": "code",
   "execution_count": 9,
   "metadata": {},
   "outputs": [
    {
     "output_type": "stream",
     "name": "stdout",
     "text": "1\n2\n3\n"
    }
   ],
   "source": [
    "# We can also iterate through an iterator using a for loop like this:\n",
    "# Note: we cannot go back directly in an iterator once we have traversed through the elements. \n",
    "# This is why we are redefining the iterator below\n",
    "\n",
    "iterator = iter([1,2,3])\n",
    "\n",
    "for i in iterator:\n",
    "    print(i)"
   ]
  },
  {
   "cell_type": "markdown",
   "metadata": {},
   "source": [
    "In the cell below, write a function that takes an iterator and returns the first element in the iterator and returns the first element in the iterator that is divisible by 2. Assume that all iterators contain only numeric data. If we have not found a single element that is divisible by 2, return zero."
   ]
  },
  {
   "cell_type": "code",
   "execution_count": 37,
   "metadata": {},
   "outputs": [
    {
     "output_type": "execute_result",
     "data": {
      "text/plain": "[0, 2, 4, 6, 8, 10]"
     },
     "metadata": {},
     "execution_count": 37
    }
   ],
   "source": [
    "def divisible_numbers(a_list, a_list_of_terms):\n",
    "    return [i for i in a_list if all(i%j==0 for j in a_list_of_terms)]\n",
    "\n",
    "divisible_numbers(range(11), [2])\n",
    ""
   ]
  },
  {
   "cell_type": "markdown",
   "metadata": {},
   "source": [
    "### Generators\n",
    "\n",
    "It is quite difficult to create your own iterator since you would have to implement a `next` function. Generators are functions that enable us to create iterators. The difference between a function and a generator is that instead of using `return`, we use `yield`. For example, below we have a function that returns an iterator containing the numbers 0 through n:"
   ]
  },
  {
   "cell_type": "code",
   "execution_count": 41,
   "metadata": {},
   "outputs": [],
   "source": [
    "def firstn(n):\n",
    "     number = 0\n",
    "     while number < n:\n",
    "         yield number\n",
    "         number = number + 1"
   ]
  },
  {
   "cell_type": "markdown",
   "metadata": {},
   "source": [
    "If we pass 5 to the function, we will see that we have a iterator containing the numbers 0 through 4."
   ]
  },
  {
   "cell_type": "code",
   "execution_count": 42,
   "metadata": {},
   "outputs": [
    {
     "output_type": "stream",
     "name": "stdout",
     "text": "0\n1\n2\n3\n4\n"
    }
   ],
   "source": [
    "iterator = firstn(5)\n",
    "\n",
    "for i in iterator:\n",
    "    print(i)"
   ]
  },
  {
   "cell_type": "markdown",
   "metadata": {},
   "source": [
    "In the cell below, create a generator that takes a number and returns an iterator containing all even numbers between 0 and the number you passed to the generator."
   ]
  },
  {
   "cell_type": "code",
   "execution_count": 55,
   "metadata": {},
   "outputs": [
    {
     "output_type": "execute_result",
     "data": {
      "text/plain": "[0, 2, 4, 6, 8, 10, 12, 14, 16, 18, 20]"
     },
     "metadata": {},
     "execution_count": 55
    }
   ],
   "source": [
    "p = ( x for x in range(0, 21, 2) )\n",
    "list(p)"
   ]
  },
  {
   "cell_type": "markdown",
   "metadata": {},
   "source": [
    "# Challenge 2 - Applying Functions to DataFrames\n",
    "\n",
    "In this challenge, we will look at how to transform cells or entire columns at once.\n",
    "\n",
    "First, let's load a dataset. We will download the famous Iris classification dataset in the cell below."
   ]
  },
  {
   "cell_type": "code",
   "execution_count": 177,
   "metadata": {},
   "outputs": [],
   "source": [
    "columns = ['sepal_length', 'sepal_width', 'petal_length','petal_width','iris_type']\n",
    "iris = pd.read_csv('iris.csv', names = columns)\n",
    ""
   ]
  },
  {
   "cell_type": "markdown",
   "metadata": {},
   "source": [
    "Let's look at the dataset using the `head` function."
   ]
  },
  {
   "cell_type": "code",
   "execution_count": 113,
   "metadata": {},
   "outputs": [
    {
     "output_type": "execute_result",
     "data": {
      "text/plain": "   sepal_length  sepal_width  petal_length  petal_width    iris_type\n0           5.1          3.5           1.4          0.2  Iris-setosa\n1           4.9          3.0           1.4          0.2  Iris-setosa\n2           4.7          3.2           1.3          0.2  Iris-setosa\n3           4.6          3.1           1.5          0.2  Iris-setosa\n4           5.0          3.6           1.4          0.2  Iris-setosa",
      "text/html": "<div>\n<style scoped>\n    .dataframe tbody tr th:only-of-type {\n        vertical-align: middle;\n    }\n\n    .dataframe tbody tr th {\n        vertical-align: top;\n    }\n\n    .dataframe thead th {\n        text-align: right;\n    }\n</style>\n<table border=\"1\" class=\"dataframe\">\n  <thead>\n    <tr style=\"text-align: right;\">\n      <th></th>\n      <th>sepal_length</th>\n      <th>sepal_width</th>\n      <th>petal_length</th>\n      <th>petal_width</th>\n      <th>iris_type</th>\n    </tr>\n  </thead>\n  <tbody>\n    <tr>\n      <th>0</th>\n      <td>5.1</td>\n      <td>3.5</td>\n      <td>1.4</td>\n      <td>0.2</td>\n      <td>Iris-setosa</td>\n    </tr>\n    <tr>\n      <th>1</th>\n      <td>4.9</td>\n      <td>3.0</td>\n      <td>1.4</td>\n      <td>0.2</td>\n      <td>Iris-setosa</td>\n    </tr>\n    <tr>\n      <th>2</th>\n      <td>4.7</td>\n      <td>3.2</td>\n      <td>1.3</td>\n      <td>0.2</td>\n      <td>Iris-setosa</td>\n    </tr>\n    <tr>\n      <th>3</th>\n      <td>4.6</td>\n      <td>3.1</td>\n      <td>1.5</td>\n      <td>0.2</td>\n      <td>Iris-setosa</td>\n    </tr>\n    <tr>\n      <th>4</th>\n      <td>5.0</td>\n      <td>3.6</td>\n      <td>1.4</td>\n      <td>0.2</td>\n      <td>Iris-setosa</td>\n    </tr>\n  </tbody>\n</table>\n</div>"
     },
     "metadata": {},
     "execution_count": 113
    }
   ],
   "source": [
    "# Your code here:\n",
    "\n",
    "iris.head(n=5)"
   ]
  },
  {
   "cell_type": "markdown",
   "metadata": {},
   "source": [
    "Let's start off by using built-in functions. Try to apply the numpy mean function and describe what happens in the comments of the code."
   ]
  },
  {
   "cell_type": "code",
   "execution_count": 141,
   "metadata": {},
   "outputs": [
    {
     "output_type": "stream",
     "name": "stdout",
     "text": "The Average Sepal lenght is 5.843333333333335.\nThe Average Sepal width is 3.0540000000000007.\nThe Average Petal lenght is 3.7586666666666693.\nThe Average Petal width is 1.1986666666666672.\n"
    }
   ],
   "source": [
    "# Your code here:\n",
    "\n",
    "print(\"The Average Sepal lenght is {}.\".format(iris.sepal_length.mean()))\n",
    "print(\"The Average Sepal width is {}.\".format(iris.sepal_width.mean()))\n",
    "print(\"The Average Petal lenght is {}.\".format(iris.petal_length.mean()))\n",
    "print(\"The Average Petal width is {}.\".format(iris.petal_width.mean()))\n",
    "\n",
    ""
   ]
  },
  {
   "cell_type": "markdown",
   "metadata": {},
   "source": [
    "Next, we'll apply the standard deviation function in numpy (`np.std`). Describe what happened in the comments."
   ]
  },
  {
   "cell_type": "code",
   "execution_count": 143,
   "metadata": {},
   "outputs": [
    {
     "output_type": "stream",
     "name": "stdout",
     "text": "The Standard Deviation in Sepal lenght is 0.8280661279778629.\nThe Standard Deviation in Sepal width is 0.4335943113621737.\nThe Standard Deviation in Petal lenght is 1.7644204199522617.\nThe Standard Deviation in Petal width is 0.7631607417008414.\n"
    }
   ],
   "source": [
    "# Your code here:\n",
    "\n",
    "print(\"The Standard Deviation in Sepal lenght is {}.\".format(iris.sepal_length.std()))\n",
    "print(\"The Standard Deviation in Sepal width is {}.\".format(iris.sepal_width.std()))\n",
    "print(\"The Standard Deviation in Petal lenght is {}.\".format(iris.petal_length.std()))\n",
    "print(\"The Standard Deviation in Petal width is {}.\".format(iris.petal_width.std()))"
   ]
  },
  {
   "cell_type": "markdown",
   "metadata": {},
   "source": [
    "The measurements are in centimeters. Let's convert them all to inches. First, we will create a dataframe that contains only the numeric columns. Assign this new dataframe to `iris_numeric`."
   ]
  },
  {
   "cell_type": "code",
   "execution_count": 157,
   "metadata": {},
   "outputs": [
    {
     "output_type": "stream",
     "name": "stdout",
     "text": "sepal_length  sepal_width  petal_length  petal_width\n0             5.1          3.5           1.4          0.2\n1             4.9          3.0           1.4          0.2\n2             4.7          3.2           1.3          0.2\n3             4.6          3.1           1.5          0.2\n4             5.0          3.6           1.4          0.2\n..            ...          ...           ...          ...\n145           6.7          3.0           5.2          2.3\n146           6.3          2.5           5.0          1.9\n147           6.5          3.0           5.2          2.0\n148           6.2          3.4           5.4          2.3\n149           5.9          3.0           5.1          1.8\n\n[150 rows x 4 columns]\n"
    }
   ],
   "source": [
    "# Your code here:\n",
    "iris_numerics = iris[['sepal_length','sepal_width','petal_length','petal_width']]\n",
    "print(iris_numerics)"
   ]
  },
  {
   "cell_type": "markdown",
   "metadata": {},
   "source": [
    "Next, we will write a function that converts centimeters to inches in the cell below. Recall that 1cm = 0.393701in."
   ]
  },
  {
   "cell_type": "code",
   "execution_count": 159,
   "metadata": {},
   "outputs": [],
   "source": [
    "def cm_to_in(x):\n",
    "    # This function takes in a numeric value in centimeters and converts it to inches\n",
    "    # Input: numeric value\n",
    "    # Output: float\n",
    "    \n",
    "    # Sample Input: 1.0\n",
    "    # Sample Output: 0.393701\n",
    "    \n",
    "    # Your code here:\n",
    "    inch = 0.393701\n",
    "    return x*inch"
   ]
  },
  {
   "cell_type": "markdown",
   "metadata": {},
   "source": [
    "Now convert all columns in `iris_numeric` to inches in the cell below. We like to think of functional transformations as immutable. Therefore, save the transformed data in a dataframe called `iris_inch`."
   ]
  },
  {
   "cell_type": "code",
   "execution_count": 161,
   "metadata": {},
   "outputs": [
    {
     "output_type": "stream",
     "name": "stdout",
     "text": "[[2.0078751 1.3779535 0.5511814 0.0787402]\n [1.9291349 1.181103  0.5511814 0.0787402]\n [1.8503947 1.2598432 0.5118113 0.0787402]\n [1.8110246 1.2204731 0.5905515 0.0787402]\n [1.968505  1.4173236 0.5511814 0.0787402]\n [2.1259854 1.5354339 0.6692917 0.1574804]\n [1.8110246 1.3385834 0.5511814 0.1181103]\n [1.968505  1.3385834 0.5905515 0.0787402]\n [1.7322844 1.1417329 0.5511814 0.0787402]\n [1.9291349 1.2204731 0.5905515 0.0393701]\n [2.1259854 1.4566937 0.5905515 0.0787402]\n [1.8897648 1.3385834 0.6299216 0.0787402]\n [1.8897648 1.181103  0.5511814 0.0393701]\n [1.6929143 1.181103  0.4330711 0.0393701]\n [2.2834658 1.574804  0.4724412 0.0787402]\n [2.2440957 1.7322844 0.5905515 0.1574804]\n [2.1259854 1.5354339 0.5118113 0.1574804]\n [2.0078751 1.3779535 0.5511814 0.1181103]\n [2.2440957 1.4960638 0.6692917 0.1181103]\n [2.0078751 1.4960638 0.5905515 0.1181103]\n [2.1259854 1.3385834 0.6692917 0.0787402]\n [2.0078751 1.4566937 0.5905515 0.1574804]\n [1.8110246 1.4173236 0.393701  0.0787402]\n [2.0078751 1.2992133 0.6692917 0.1968505]\n [1.8897648 1.3385834 0.7480319 0.0787402]\n [1.968505  1.181103  0.6299216 0.0787402]\n [1.968505  1.3385834 0.6299216 0.1574804]\n [2.0472452 1.3779535 0.5905515 0.0787402]\n [2.0472452 1.3385834 0.5511814 0.0787402]\n [1.8503947 1.2598432 0.6299216 0.0787402]\n [1.8897648 1.2204731 0.6299216 0.0787402]\n [2.1259854 1.3385834 0.5905515 0.1574804]\n [2.0472452 1.6141741 0.5905515 0.0393701]\n [2.1653555 1.6535442 0.5511814 0.0787402]\n [1.9291349 1.2204731 0.5905515 0.0393701]\n [1.968505  1.2598432 0.4724412 0.0787402]\n [2.1653555 1.3779535 0.5118113 0.0787402]\n [1.9291349 1.2204731 0.5905515 0.0393701]\n [1.7322844 1.181103  0.5118113 0.0787402]\n [2.0078751 1.3385834 0.5905515 0.0787402]\n [1.968505  1.3779535 0.5118113 0.1181103]\n [1.7716545 0.9055123 0.5118113 0.1181103]\n [1.7322844 1.2598432 0.5118113 0.0787402]\n [1.968505  1.3779535 0.6299216 0.2362206]\n [2.0078751 1.4960638 0.7480319 0.1574804]\n [1.8897648 1.181103  0.5511814 0.1181103]\n [2.0078751 1.4960638 0.6299216 0.0787402]\n [1.8110246 1.2598432 0.5511814 0.0787402]\n [2.0866153 1.4566937 0.5905515 0.0787402]\n [1.968505  1.2992133 0.5511814 0.0787402]\n [2.755907  1.2598432 1.8503947 0.5511814]\n [2.5196864 1.2598432 1.7716545 0.5905515]\n [2.7165369 1.2204731 1.9291349 0.5905515]\n [2.1653555 0.9055123 1.574804  0.5118113]\n [2.5590565 1.1023628 1.8110246 0.5905515]\n [2.2440957 1.1023628 1.7716545 0.5118113]\n [2.4803163 1.2992133 1.8503947 0.6299216]\n [1.9291349 0.9448824 1.2992133 0.393701 ]\n [2.5984266 1.1417329 1.8110246 0.5118113]\n [2.0472452 1.0629927 1.5354339 0.5511814]\n [1.968505  0.787402  1.3779535 0.393701 ]\n [2.3228359 1.181103  1.6535442 0.5905515]\n [2.362206  0.8661422 1.574804  0.393701 ]\n [2.4015761 1.1417329 1.8503947 0.5511814]\n [2.2047256 1.1417329 1.4173236 0.5118113]\n [2.6377967 1.2204731 1.7322844 0.5511814]\n [2.2047256 1.181103  1.7716545 0.5905515]\n [2.2834658 1.0629927 1.6141741 0.393701 ]\n [2.4409462 0.8661422 1.7716545 0.5905515]\n [2.2047256 0.9842525 1.5354339 0.4330711]\n [2.3228359 1.2598432 1.8897648 0.7086618]\n [2.4015761 1.1023628 1.574804  0.5118113]\n [2.4803163 0.9842525 1.9291349 0.5905515]\n [2.4015761 1.1023628 1.8503947 0.4724412]\n [2.5196864 1.1417329 1.6929143 0.5118113]\n [2.5984266 1.181103  1.7322844 0.5511814]\n [2.6771668 1.1023628 1.8897648 0.5511814]\n [2.6377967 1.181103  1.968505  0.6692917]\n [2.362206  1.1417329 1.7716545 0.5905515]\n [2.2440957 1.0236226 1.3779535 0.393701 ]\n [2.1653555 0.9448824 1.4960638 0.4330711]\n [2.1653555 0.9448824 1.4566937 0.393701 ]\n [2.2834658 1.0629927 1.5354339 0.4724412]\n [2.362206  1.0629927 2.0078751 0.6299216]\n [2.1259854 1.181103  1.7716545 0.5905515]\n [2.362206  1.3385834 1.7716545 0.6299216]\n [2.6377967 1.2204731 1.8503947 0.5905515]\n [2.4803163 0.9055123 1.7322844 0.5118113]\n [2.2047256 1.181103  1.6141741 0.5118113]\n [2.1653555 0.9842525 1.574804  0.5118113]\n [2.1653555 1.0236226 1.7322844 0.4724412]\n [2.4015761 1.181103  1.8110246 0.5511814]\n [2.2834658 1.0236226 1.574804  0.4724412]\n [1.968505  0.9055123 1.2992133 0.393701 ]\n [2.2047256 1.0629927 1.6535442 0.5118113]\n [2.2440957 1.181103  1.6535442 0.4724412]\n [2.2440957 1.1417329 1.6535442 0.5118113]\n [2.4409462 1.1417329 1.6929143 0.5118113]\n [2.0078751 0.9842525 1.181103  0.4330711]\n [2.2440957 1.1023628 1.6141741 0.5118113]\n [2.4803163 1.2992133 2.362206  0.9842525]\n [2.2834658 1.0629927 2.0078751 0.7480319]\n [2.7952771 1.181103  2.3228359 0.8267721]\n [2.4803163 1.1417329 2.2047256 0.7086618]\n [2.5590565 1.181103  2.2834658 0.8661422]\n [2.9921276 1.181103  2.5984266 0.8267721]\n [1.9291349 0.9842525 1.7716545 0.6692917]\n [2.8740173 1.1417329 2.4803163 0.7086618]\n [2.6377967 0.9842525 2.2834658 0.7086618]\n [2.8346472 1.4173236 2.4015761 0.9842525]\n [2.5590565 1.2598432 2.0078751 0.787402 ]\n [2.5196864 1.0629927 2.0866153 0.7480319]\n [2.6771668 1.181103  2.1653555 0.8267721]\n [2.2440957 0.9842525 1.968505  0.787402 ]\n [2.2834658 1.1023628 2.0078751 0.9448824]\n [2.5196864 1.2598432 2.0866153 0.9055123]\n [2.5590565 1.181103  2.1653555 0.7086618]\n [3.0314977 1.4960638 2.6377967 0.8661422]\n [3.0314977 1.0236226 2.7165369 0.9055123]\n [2.362206  0.8661422 1.968505  0.5905515]\n [2.7165369 1.2598432 2.2440957 0.9055123]\n [2.2047256 1.1023628 1.9291349 0.787402 ]\n [3.0314977 1.1023628 2.6377967 0.787402 ]\n [2.4803163 1.0629927 1.9291349 0.7086618]\n [2.6377967 1.2992133 2.2440957 0.8267721]\n [2.8346472 1.2598432 2.362206  0.7086618]\n [2.4409462 1.1023628 1.8897648 0.7086618]\n [2.4015761 1.181103  1.9291349 0.7086618]\n [2.5196864 1.1023628 2.2047256 0.8267721]\n [2.8346472 1.181103  2.2834658 0.6299216]\n [2.9133874 1.1023628 2.4015761 0.7480319]\n [3.1102379 1.4960638 2.5196864 0.787402 ]\n [2.5196864 1.1023628 2.2047256 0.8661422]\n [2.4803163 1.1023628 2.0078751 0.5905515]\n [2.4015761 1.0236226 2.2047256 0.5511814]\n [3.0314977 1.181103  2.4015761 0.9055123]\n [2.4803163 1.3385834 2.2047256 0.9448824]\n [2.5196864 1.2204731 2.1653555 0.7086618]\n [2.362206  1.181103  1.8897648 0.7086618]\n [2.7165369 1.2204731 2.1259854 0.8267721]\n [2.6377967 1.2204731 2.2047256 0.9448824]\n [2.7165369 1.2204731 2.0078751 0.9055123]\n [2.2834658 1.0629927 2.0078751 0.7480319]\n [2.6771668 1.2598432 2.3228359 0.9055123]\n [2.6377967 1.2992133 2.2440957 0.9842525]\n [2.6377967 1.181103  2.0472452 0.9055123]\n [2.4803163 0.9842525 1.968505  0.7480319]\n [2.5590565 1.181103  2.0472452 0.787402 ]\n [2.4409462 1.3385834 2.1259854 0.9055123]\n [2.3228359 1.181103  2.0078751 0.7086618]]\n"
    }
   ],
   "source": [
    "# Your code here:\n",
    "\n",
    "iris_inch = np.apply_along_axis(cm_to_in, axis=0, arr=iris_numerics)\n",
    "\n",
    "print(iris_inch)"
   ]
  },
  {
   "cell_type": "markdown",
   "metadata": {},
   "source": [
    "We have just found that the original measurements were off by a constant. Define the global constant `error` and set it to 2. Write a function that uses the global constant and adds it to each cell in the dataframe. Apply this function to `iris_numeric` and save the result in `iris_constant`."
   ]
  },
  {
   "cell_type": "code",
   "execution_count": 162,
   "metadata": {},
   "outputs": [
    {
     "output_type": "stream",
     "name": "stdout",
     "text": "[[7.1 5.5 3.4 2.2]\n [6.9 5.  3.4 2.2]\n [6.7 5.2 3.3 2.2]\n [6.6 5.1 3.5 2.2]\n [7.  5.6 3.4 2.2]\n [7.4 5.9 3.7 2.4]\n [6.6 5.4 3.4 2.3]\n [7.  5.4 3.5 2.2]\n [6.4 4.9 3.4 2.2]\n [6.9 5.1 3.5 2.1]\n [7.4 5.7 3.5 2.2]\n [6.8 5.4 3.6 2.2]\n [6.8 5.  3.4 2.1]\n [6.3 5.  3.1 2.1]\n [7.8 6.  3.2 2.2]\n [7.7 6.4 3.5 2.4]\n [7.4 5.9 3.3 2.4]\n [7.1 5.5 3.4 2.3]\n [7.7 5.8 3.7 2.3]\n [7.1 5.8 3.5 2.3]\n [7.4 5.4 3.7 2.2]\n [7.1 5.7 3.5 2.4]\n [6.6 5.6 3.  2.2]\n [7.1 5.3 3.7 2.5]\n [6.8 5.4 3.9 2.2]\n [7.  5.  3.6 2.2]\n [7.  5.4 3.6 2.4]\n [7.2 5.5 3.5 2.2]\n [7.2 5.4 3.4 2.2]\n [6.7 5.2 3.6 2.2]\n [6.8 5.1 3.6 2.2]\n [7.4 5.4 3.5 2.4]\n [7.2 6.1 3.5 2.1]\n [7.5 6.2 3.4 2.2]\n [6.9 5.1 3.5 2.1]\n [7.  5.2 3.2 2.2]\n [7.5 5.5 3.3 2.2]\n [6.9 5.1 3.5 2.1]\n [6.4 5.  3.3 2.2]\n [7.1 5.4 3.5 2.2]\n [7.  5.5 3.3 2.3]\n [6.5 4.3 3.3 2.3]\n [6.4 5.2 3.3 2.2]\n [7.  5.5 3.6 2.6]\n [7.1 5.8 3.9 2.4]\n [6.8 5.  3.4 2.3]\n [7.1 5.8 3.6 2.2]\n [6.6 5.2 3.4 2.2]\n [7.3 5.7 3.5 2.2]\n [7.  5.3 3.4 2.2]\n [9.  5.2 6.7 3.4]\n [8.4 5.2 6.5 3.5]\n [8.9 5.1 6.9 3.5]\n [7.5 4.3 6.  3.3]\n [8.5 4.8 6.6 3.5]\n [7.7 4.8 6.5 3.3]\n [8.3 5.3 6.7 3.6]\n [6.9 4.4 5.3 3. ]\n [8.6 4.9 6.6 3.3]\n [7.2 4.7 5.9 3.4]\n [7.  4.  5.5 3. ]\n [7.9 5.  6.2 3.5]\n [8.  4.2 6.  3. ]\n [8.1 4.9 6.7 3.4]\n [7.6 4.9 5.6 3.3]\n [8.7 5.1 6.4 3.4]\n [7.6 5.  6.5 3.5]\n [7.8 4.7 6.1 3. ]\n [8.2 4.2 6.5 3.5]\n [7.6 4.5 5.9 3.1]\n [7.9 5.2 6.8 3.8]\n [8.1 4.8 6.  3.3]\n [8.3 4.5 6.9 3.5]\n [8.1 4.8 6.7 3.2]\n [8.4 4.9 6.3 3.3]\n [8.6 5.  6.4 3.4]\n [8.8 4.8 6.8 3.4]\n [8.7 5.  7.  3.7]\n [8.  4.9 6.5 3.5]\n [7.7 4.6 5.5 3. ]\n [7.5 4.4 5.8 3.1]\n [7.5 4.4 5.7 3. ]\n [7.8 4.7 5.9 3.2]\n [8.  4.7 7.1 3.6]\n [7.4 5.  6.5 3.5]\n [8.  5.4 6.5 3.6]\n [8.7 5.1 6.7 3.5]\n [8.3 4.3 6.4 3.3]\n [7.6 5.  6.1 3.3]\n [7.5 4.5 6.  3.3]\n [7.5 4.6 6.4 3.2]\n [8.1 5.  6.6 3.4]\n [7.8 4.6 6.  3.2]\n [7.  4.3 5.3 3. ]\n [7.6 4.7 6.2 3.3]\n [7.7 5.  6.2 3.2]\n [7.7 4.9 6.2 3.3]\n [8.2 4.9 6.3 3.3]\n [7.1 4.5 5.  3.1]\n [7.7 4.8 6.1 3.3]\n [8.3 5.3 8.  4.5]\n [7.8 4.7 7.1 3.9]\n [9.1 5.  7.9 4.1]\n [8.3 4.9 7.6 3.8]\n [8.5 5.  7.8 4.2]\n [9.6 5.  8.6 4.1]\n [6.9 4.5 6.5 3.7]\n [9.3 4.9 8.3 3.8]\n [8.7 4.5 7.8 3.8]\n [9.2 5.6 8.1 4.5]\n [8.5 5.2 7.1 4. ]\n [8.4 4.7 7.3 3.9]\n [8.8 5.  7.5 4.1]\n [7.7 4.5 7.  4. ]\n [7.8 4.8 7.1 4.4]\n [8.4 5.2 7.3 4.3]\n [8.5 5.  7.5 3.8]\n [9.7 5.8 8.7 4.2]\n [9.7 4.6 8.9 4.3]\n [8.  4.2 7.  3.5]\n [8.9 5.2 7.7 4.3]\n [7.6 4.8 6.9 4. ]\n [9.7 4.8 8.7 4. ]\n [8.3 4.7 6.9 3.8]\n [8.7 5.3 7.7 4.1]\n [9.2 5.2 8.  3.8]\n [8.2 4.8 6.8 3.8]\n [8.1 5.  6.9 3.8]\n [8.4 4.8 7.6 4.1]\n [9.2 5.  7.8 3.6]\n [9.4 4.8 8.1 3.9]\n [9.9 5.8 8.4 4. ]\n [8.4 4.8 7.6 4.2]\n [8.3 4.8 7.1 3.5]\n [8.1 4.6 7.6 3.4]\n [9.7 5.  8.1 4.3]\n [8.3 5.4 7.6 4.4]\n [8.4 5.1 7.5 3.8]\n [8.  5.  6.8 3.8]\n [8.9 5.1 7.4 4.1]\n [8.7 5.1 7.6 4.4]\n [8.9 5.1 7.1 4.3]\n [7.8 4.7 7.1 3.9]\n [8.8 5.2 7.9 4.3]\n [8.7 5.3 7.7 4.5]\n [8.7 5.  7.2 4.3]\n [8.3 4.5 7.  3.9]\n [8.5 5.  7.2 4. ]\n [8.2 5.4 7.4 4.3]\n [7.9 5.  7.1 3.8]]\n"
    }
   ],
   "source": [
    "# Define constant below:\n",
    "constant = 2\n",
    "\n",
    "def add_constant(x):\n",
    "    # This function adds a global constant to our input.\n",
    "    # Input: numeric value\n",
    "    # Output: numeric value\n",
    "    \n",
    "    # Your code here:\n",
    "    return x + constant\n",
    "\n",
    "iris_constant = np.apply_along_axis(add_constant, axis=0, arr=iris_numerics)\n",
    "\n",
    "print(iris_constant)"
   ]
  },
  {
   "cell_type": "markdown",
   "metadata": {},
   "source": [
    "# Bonus Challenge - Applying Functions to Columns\n",
    "\n",
    "Read more about applying functions to either rows or columns [here](https://pandas.pydata.org/pandas-docs/stable/generated/pandas.DataFrame.apply.html) and write a function that computes the maximum value for each row of `iris_numeric`"
   ]
  },
  {
   "cell_type": "code",
   "execution_count": 183,
   "metadata": {},
   "outputs": [
    {
     "output_type": "stream",
     "name": "stdout",
     "text": "0      5.1\n1      4.9\n2      4.7\n3      4.6\n4      5.0\n      ... \n145    6.7\n146    6.3\n147    6.5\n148    6.2\n149    5.9\nLength: 150, dtype: float64\n"
    }
   ],
   "source": [
    "# Your code here:\n",
    "\n",
    "max_value_by_row = iris_numerics.max(axis = 1)\n",
    "\n",
    "print(max_value_by_row)"
   ]
  },
  {
   "cell_type": "markdown",
   "metadata": {},
   "source": [
    "Compute the combined lengths for each row and the combined widths for each row using a function. Assign these values to new columns `total_length` and `total_width`."
   ]
  },
  {
   "cell_type": "code",
   "execution_count": 194,
   "metadata": {},
   "outputs": [
    {
     "output_type": "stream",
     "name": "stdout",
     "text": "0       6.5\n1       6.3\n2       6.0\n3       6.1\n4       6.4\n       ... \n145    11.9\n146    11.3\n147    11.7\n148    11.6\n149    11.0\nLength: 150, dtype: float64 0      3.7\n1      3.2\n2      3.4\n3      3.3\n4      3.8\n      ... \n145    5.3\n146    4.4\n147    5.0\n148    5.7\n149    4.8\nLength: 150, dtype: float64\n"
    }
   ],
   "source": [
    "# Your code here:\n",
    "\n",
    "total_length = iris_numerics[columns[0]] + iris_numerics[columns[2]]\n",
    "total_width = iris_numerics[columns[1]] + iris_numerics[columns[3]]\n",
    "\n",
    "print(total_length,total_width)"
   ]
  },
  {
   "cell_type": "code",
   "execution_count": null,
   "metadata": {},
   "outputs": [],
   "source": []
  }
 ],
 "metadata": {
  "kernelspec": {
   "display_name": "Python 3.7.6 64-bit ('anaconda3': virtualenv)",
   "language": "python",
   "name": "python37664bitanaconda3virtualenv0697af1ee67a458e9253591065064715"
  },
  "language_info": {
   "codemirror_mode": {
    "name": "ipython",
    "version": 3
   },
   "file_extension": ".py",
   "mimetype": "text/x-python",
   "name": "python",
   "nbconvert_exporter": "python",
   "pygments_lexer": "ipython3",
   "version": "3.7.6-final"
  }
 },
 "nbformat": 4,
 "nbformat_minor": 2
}